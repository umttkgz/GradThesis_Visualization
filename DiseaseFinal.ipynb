{
 "cells": [
  {
   "cell_type": "code",
   "execution_count": 6,
   "id": "8f069ebc",
   "metadata": {},
   "outputs": [],
   "source": [
    "import pandas as pd\n",
    "import plotly.express as px"
   ]
  },
  {
   "cell_type": "code",
   "execution_count": 7,
   "id": "8a65ffc8",
   "metadata": {},
   "outputs": [],
   "source": [
    "data = pd.read_csv('final.csv')"
   ]
  },
  {
   "cell_type": "code",
   "execution_count": 8,
   "id": "e0bb8935",
   "metadata": {},
   "outputs": [
    {
     "data": {
      "text/html": [
       "<div>\n",
       "<style scoped>\n",
       "    .dataframe tbody tr th:only-of-type {\n",
       "        vertical-align: middle;\n",
       "    }\n",
       "\n",
       "    .dataframe tbody tr th {\n",
       "        vertical-align: top;\n",
       "    }\n",
       "\n",
       "    .dataframe thead th {\n",
       "        text-align: right;\n",
       "    }\n",
       "</style>\n",
       "<table border=\"1\" class=\"dataframe\">\n",
       "  <thead>\n",
       "    <tr style=\"text-align: right;\">\n",
       "      <th></th>\n",
       "      <th>Month</th>\n",
       "      <th>Region</th>\n",
       "      <th>Disease</th>\n",
       "      <th>Total</th>\n",
       "    </tr>\n",
       "  </thead>\n",
       "  <tbody>\n",
       "    <tr>\n",
       "      <th>0</th>\n",
       "      <td>April</td>\n",
       "      <td>Midwest</td>\n",
       "      <td>HEPATITIS A</td>\n",
       "      <td>722</td>\n",
       "    </tr>\n",
       "    <tr>\n",
       "      <th>1</th>\n",
       "      <td>April</td>\n",
       "      <td>Midwest</td>\n",
       "      <td>MEASLES</td>\n",
       "      <td>12350</td>\n",
       "    </tr>\n",
       "    <tr>\n",
       "      <th>2</th>\n",
       "      <td>April</td>\n",
       "      <td>Midwest</td>\n",
       "      <td>RUBELLA</td>\n",
       "      <td>2922</td>\n",
       "    </tr>\n",
       "    <tr>\n",
       "      <th>3</th>\n",
       "      <td>April</td>\n",
       "      <td>Northeast</td>\n",
       "      <td>HEPATITIS A</td>\n",
       "      <td>436</td>\n",
       "    </tr>\n",
       "    <tr>\n",
       "      <th>4</th>\n",
       "      <td>April</td>\n",
       "      <td>Northeast</td>\n",
       "      <td>MEASLES</td>\n",
       "      <td>2819</td>\n",
       "    </tr>\n",
       "  </tbody>\n",
       "</table>\n",
       "</div>"
      ],
      "text/plain": [
       "   Month     Region      Disease  Total\n",
       "0  April    Midwest  HEPATITIS A    722\n",
       "1  April    Midwest      MEASLES  12350\n",
       "2  April    Midwest      RUBELLA   2922\n",
       "3  April  Northeast  HEPATITIS A    436\n",
       "4  April  Northeast      MEASLES   2819"
      ]
     },
     "execution_count": 8,
     "metadata": {},
     "output_type": "execute_result"
    }
   ],
   "source": [
    "data.head()"
   ]
  },
  {
   "cell_type": "code",
   "execution_count": 11,
   "id": "8d6eb734",
   "metadata": {},
   "outputs": [
    {
     "data": {
      "application/vnd.plotly.v1+json": {
       "config": {
        "plotlyServerURL": "https://plot.ly"
       },
       "data": [
        {
         "branchvalues": "total",
         "domain": {
          "x": [
           0,
           1
          ],
          "y": [
           0,
           1
          ]
         },
         "hovertemplate": "Label: %{label}<br>Cases: %{value}<br>Parent: %{parent}<br>Id: %{id}<extra></extra>",
         "ids": [
          "Number of Diseases in the US by Regions in 1966/Midwest/HEPATITIS A/April",
          "Number of Diseases in the US by Regions in 1966/Northeast/HEPATITIS A/April",
          "Number of Diseases in the US by Regions in 1966/Southeast/HEPATITIS A/April",
          "Number of Diseases in the US by Regions in 1966/Southwest/HEPATITIS A/April",
          "Number of Diseases in the US by Regions in 1966/West/HEPATITIS A/April",
          "Number of Diseases in the US by Regions in 1966/Midwest/MEASLES/April",
          "Number of Diseases in the US by Regions in 1966/Northeast/MEASLES/April",
          "Number of Diseases in the US by Regions in 1966/Southeast/MEASLES/April",
          "Number of Diseases in the US by Regions in 1966/Southwest/MEASLES/April",
          "Number of Diseases in the US by Regions in 1966/West/MEASLES/April",
          "Number of Diseases in the US by Regions in 1966/Midwest/RUBELLA/April",
          "Number of Diseases in the US by Regions in 1966/Northeast/RUBELLA/April",
          "Number of Diseases in the US by Regions in 1966/Southeast/RUBELLA/April",
          "Number of Diseases in the US by Regions in 1966/Southwest/RUBELLA/April",
          "Number of Diseases in the US by Regions in 1966/West/RUBELLA/April",
          "Number of Diseases in the US by Regions in 1966/Midwest/HEPATITIS A/August",
          "Number of Diseases in the US by Regions in 1966/Northeast/HEPATITIS A/August",
          "Number of Diseases in the US by Regions in 1966/Southeast/HEPATITIS A/August",
          "Number of Diseases in the US by Regions in 1966/Southwest/HEPATITIS A/August",
          "Number of Diseases in the US by Regions in 1966/West/HEPATITIS A/August",
          "Number of Diseases in the US by Regions in 1966/Midwest/MEASLES/August",
          "Number of Diseases in the US by Regions in 1966/Northeast/MEASLES/August",
          "Number of Diseases in the US by Regions in 1966/Southeast/MEASLES/August",
          "Number of Diseases in the US by Regions in 1966/Southwest/MEASLES/August",
          "Number of Diseases in the US by Regions in 1966/West/MEASLES/August",
          "Number of Diseases in the US by Regions in 1966/Midwest/RUBELLA/August",
          "Number of Diseases in the US by Regions in 1966/Northeast/RUBELLA/August",
          "Number of Diseases in the US by Regions in 1966/Southeast/RUBELLA/August",
          "Number of Diseases in the US by Regions in 1966/Southwest/RUBELLA/August",
          "Number of Diseases in the US by Regions in 1966/West/RUBELLA/August",
          "Number of Diseases in the US by Regions in 1966/Midwest/HEPATITIS A/December",
          "Number of Diseases in the US by Regions in 1966/Northeast/HEPATITIS A/December",
          "Number of Diseases in the US by Regions in 1966/Southeast/HEPATITIS A/December",
          "Number of Diseases in the US by Regions in 1966/Southwest/HEPATITIS A/December",
          "Number of Diseases in the US by Regions in 1966/West/HEPATITIS A/December",
          "Number of Diseases in the US by Regions in 1966/Midwest/MEASLES/December",
          "Number of Diseases in the US by Regions in 1966/Northeast/MEASLES/December",
          "Number of Diseases in the US by Regions in 1966/Southeast/MEASLES/December",
          "Number of Diseases in the US by Regions in 1966/Southwest/MEASLES/December",
          "Number of Diseases in the US by Regions in 1966/West/MEASLES/December",
          "Number of Diseases in the US by Regions in 1966/Midwest/RUBELLA/December",
          "Number of Diseases in the US by Regions in 1966/Northeast/RUBELLA/December",
          "Number of Diseases in the US by Regions in 1966/Southeast/RUBELLA/December",
          "Number of Diseases in the US by Regions in 1966/Southwest/RUBELLA/December",
          "Number of Diseases in the US by Regions in 1966/West/RUBELLA/December",
          "Number of Diseases in the US by Regions in 1966/Midwest/HEPATITIS A/February",
          "Number of Diseases in the US by Regions in 1966/Northeast/HEPATITIS A/February",
          "Number of Diseases in the US by Regions in 1966/Southeast/HEPATITIS A/February",
          "Number of Diseases in the US by Regions in 1966/Southwest/HEPATITIS A/February",
          "Number of Diseases in the US by Regions in 1966/West/HEPATITIS A/February",
          "Number of Diseases in the US by Regions in 1966/Midwest/MEASLES/February",
          "Number of Diseases in the US by Regions in 1966/Northeast/MEASLES/February",
          "Number of Diseases in the US by Regions in 1966/Southeast/MEASLES/February",
          "Number of Diseases in the US by Regions in 1966/Southwest/MEASLES/February",
          "Number of Diseases in the US by Regions in 1966/West/MEASLES/February",
          "Number of Diseases in the US by Regions in 1966/Midwest/RUBELLA/February",
          "Number of Diseases in the US by Regions in 1966/Northeast/RUBELLA/February",
          "Number of Diseases in the US by Regions in 1966/Southeast/RUBELLA/February",
          "Number of Diseases in the US by Regions in 1966/Southwest/RUBELLA/February",
          "Number of Diseases in the US by Regions in 1966/West/RUBELLA/February",
          "Number of Diseases in the US by Regions in 1966/Midwest/HEPATITIS A/January",
          "Number of Diseases in the US by Regions in 1966/Northeast/HEPATITIS A/January",
          "Number of Diseases in the US by Regions in 1966/Southeast/HEPATITIS A/January",
          "Number of Diseases in the US by Regions in 1966/Southwest/HEPATITIS A/January",
          "Number of Diseases in the US by Regions in 1966/West/HEPATITIS A/January",
          "Number of Diseases in the US by Regions in 1966/Midwest/MEASLES/January",
          "Number of Diseases in the US by Regions in 1966/Northeast/MEASLES/January",
          "Number of Diseases in the US by Regions in 1966/Southeast/MEASLES/January",
          "Number of Diseases in the US by Regions in 1966/Southwest/MEASLES/January",
          "Number of Diseases in the US by Regions in 1966/West/MEASLES/January",
          "Number of Diseases in the US by Regions in 1966/Midwest/RUBELLA/January",
          "Number of Diseases in the US by Regions in 1966/Northeast/RUBELLA/January",
          "Number of Diseases in the US by Regions in 1966/Southeast/RUBELLA/January",
          "Number of Diseases in the US by Regions in 1966/Southwest/RUBELLA/January",
          "Number of Diseases in the US by Regions in 1966/West/RUBELLA/January",
          "Number of Diseases in the US by Regions in 1966/Midwest/HEPATITIS A/July",
          "Number of Diseases in the US by Regions in 1966/Northeast/HEPATITIS A/July",
          "Number of Diseases in the US by Regions in 1966/Southeast/HEPATITIS A/July",
          "Number of Diseases in the US by Regions in 1966/Southwest/HEPATITIS A/July",
          "Number of Diseases in the US by Regions in 1966/West/HEPATITIS A/July",
          "Number of Diseases in the US by Regions in 1966/Midwest/MEASLES/July",
          "Number of Diseases in the US by Regions in 1966/Northeast/MEASLES/July",
          "Number of Diseases in the US by Regions in 1966/Southeast/MEASLES/July",
          "Number of Diseases in the US by Regions in 1966/Southwest/MEASLES/July",
          "Number of Diseases in the US by Regions in 1966/West/MEASLES/July",
          "Number of Diseases in the US by Regions in 1966/Midwest/RUBELLA/July",
          "Number of Diseases in the US by Regions in 1966/Northeast/RUBELLA/July",
          "Number of Diseases in the US by Regions in 1966/Southeast/RUBELLA/July",
          "Number of Diseases in the US by Regions in 1966/Southwest/RUBELLA/July",
          "Number of Diseases in the US by Regions in 1966/West/RUBELLA/July",
          "Number of Diseases in the US by Regions in 1966/Midwest/HEPATITIS A/June",
          "Number of Diseases in the US by Regions in 1966/Northeast/HEPATITIS A/June",
          "Number of Diseases in the US by Regions in 1966/Southeast/HEPATITIS A/June",
          "Number of Diseases in the US by Regions in 1966/Southwest/HEPATITIS A/June",
          "Number of Diseases in the US by Regions in 1966/West/HEPATITIS A/June",
          "Number of Diseases in the US by Regions in 1966/Midwest/MEASLES/June",
          "Number of Diseases in the US by Regions in 1966/Northeast/MEASLES/June",
          "Number of Diseases in the US by Regions in 1966/Southeast/MEASLES/June",
          "Number of Diseases in the US by Regions in 1966/Southwest/MEASLES/June",
          "Number of Diseases in the US by Regions in 1966/West/MEASLES/June",
          "Number of Diseases in the US by Regions in 1966/Midwest/RUBELLA/June",
          "Number of Diseases in the US by Regions in 1966/Northeast/RUBELLA/June",
          "Number of Diseases in the US by Regions in 1966/Southeast/RUBELLA/June",
          "Number of Diseases in the US by Regions in 1966/Southwest/RUBELLA/June",
          "Number of Diseases in the US by Regions in 1966/West/RUBELLA/June",
          "Number of Diseases in the US by Regions in 1966/Midwest/HEPATITIS A/March",
          "Number of Diseases in the US by Regions in 1966/Northeast/HEPATITIS A/March",
          "Number of Diseases in the US by Regions in 1966/Southeast/HEPATITIS A/March",
          "Number of Diseases in the US by Regions in 1966/Southwest/HEPATITIS A/March",
          "Number of Diseases in the US by Regions in 1966/West/HEPATITIS A/March",
          "Number of Diseases in the US by Regions in 1966/Midwest/MEASLES/March",
          "Number of Diseases in the US by Regions in 1966/Northeast/MEASLES/March",
          "Number of Diseases in the US by Regions in 1966/Southeast/MEASLES/March",
          "Number of Diseases in the US by Regions in 1966/Southwest/MEASLES/March",
          "Number of Diseases in the US by Regions in 1966/West/MEASLES/March",
          "Number of Diseases in the US by Regions in 1966/Midwest/RUBELLA/March",
          "Number of Diseases in the US by Regions in 1966/Northeast/RUBELLA/March",
          "Number of Diseases in the US by Regions in 1966/Southeast/RUBELLA/March",
          "Number of Diseases in the US by Regions in 1966/Southwest/RUBELLA/March",
          "Number of Diseases in the US by Regions in 1966/West/RUBELLA/March",
          "Number of Diseases in the US by Regions in 1966/Midwest/HEPATITIS A/May",
          "Number of Diseases in the US by Regions in 1966/Northeast/HEPATITIS A/May",
          "Number of Diseases in the US by Regions in 1966/Southeast/HEPATITIS A/May",
          "Number of Diseases in the US by Regions in 1966/Southwest/HEPATITIS A/May",
          "Number of Diseases in the US by Regions in 1966/West/HEPATITIS A/May",
          "Number of Diseases in the US by Regions in 1966/Midwest/MEASLES/May",
          "Number of Diseases in the US by Regions in 1966/Northeast/MEASLES/May",
          "Number of Diseases in the US by Regions in 1966/Southeast/MEASLES/May",
          "Number of Diseases in the US by Regions in 1966/Southwest/MEASLES/May",
          "Number of Diseases in the US by Regions in 1966/West/MEASLES/May",
          "Number of Diseases in the US by Regions in 1966/Midwest/RUBELLA/May",
          "Number of Diseases in the US by Regions in 1966/Northeast/RUBELLA/May",
          "Number of Diseases in the US by Regions in 1966/Southeast/RUBELLA/May",
          "Number of Diseases in the US by Regions in 1966/Southwest/RUBELLA/May",
          "Number of Diseases in the US by Regions in 1966/West/RUBELLA/May",
          "Number of Diseases in the US by Regions in 1966/Midwest/HEPATITIS A/November",
          "Number of Diseases in the US by Regions in 1966/Northeast/HEPATITIS A/November",
          "Number of Diseases in the US by Regions in 1966/Southeast/HEPATITIS A/November",
          "Number of Diseases in the US by Regions in 1966/Southwest/HEPATITIS A/November",
          "Number of Diseases in the US by Regions in 1966/West/HEPATITIS A/November",
          "Number of Diseases in the US by Regions in 1966/Midwest/MEASLES/November",
          "Number of Diseases in the US by Regions in 1966/Northeast/MEASLES/November",
          "Number of Diseases in the US by Regions in 1966/Southeast/MEASLES/November",
          "Number of Diseases in the US by Regions in 1966/Southwest/MEASLES/November",
          "Number of Diseases in the US by Regions in 1966/West/MEASLES/November",
          "Number of Diseases in the US by Regions in 1966/Midwest/RUBELLA/November",
          "Number of Diseases in the US by Regions in 1966/Northeast/RUBELLA/November",
          "Number of Diseases in the US by Regions in 1966/Southeast/RUBELLA/November",
          "Number of Diseases in the US by Regions in 1966/Southwest/RUBELLA/November",
          "Number of Diseases in the US by Regions in 1966/West/RUBELLA/November",
          "Number of Diseases in the US by Regions in 1966/Midwest/HEPATITIS A/October",
          "Number of Diseases in the US by Regions in 1966/Northeast/HEPATITIS A/October",
          "Number of Diseases in the US by Regions in 1966/Southeast/HEPATITIS A/October",
          "Number of Diseases in the US by Regions in 1966/Southwest/HEPATITIS A/October",
          "Number of Diseases in the US by Regions in 1966/West/HEPATITIS A/October",
          "Number of Diseases in the US by Regions in 1966/Midwest/MEASLES/October",
          "Number of Diseases in the US by Regions in 1966/Northeast/MEASLES/October",
          "Number of Diseases in the US by Regions in 1966/Southeast/MEASLES/October",
          "Number of Diseases in the US by Regions in 1966/Southwest/MEASLES/October",
          "Number of Diseases in the US by Regions in 1966/West/MEASLES/October",
          "Number of Diseases in the US by Regions in 1966/Midwest/RUBELLA/October",
          "Number of Diseases in the US by Regions in 1966/Northeast/RUBELLA/October",
          "Number of Diseases in the US by Regions in 1966/Southeast/RUBELLA/October",
          "Number of Diseases in the US by Regions in 1966/Southwest/RUBELLA/October",
          "Number of Diseases in the US by Regions in 1966/West/RUBELLA/October",
          "Number of Diseases in the US by Regions in 1966/Midwest/HEPATITIS A/September",
          "Number of Diseases in the US by Regions in 1966/Northeast/HEPATITIS A/September",
          "Number of Diseases in the US by Regions in 1966/Southeast/HEPATITIS A/September",
          "Number of Diseases in the US by Regions in 1966/Southwest/HEPATITIS A/September",
          "Number of Diseases in the US by Regions in 1966/West/HEPATITIS A/September",
          "Number of Diseases in the US by Regions in 1966/Midwest/MEASLES/September",
          "Number of Diseases in the US by Regions in 1966/Northeast/MEASLES/September",
          "Number of Diseases in the US by Regions in 1966/Southeast/MEASLES/September",
          "Number of Diseases in the US by Regions in 1966/Southwest/MEASLES/September",
          "Number of Diseases in the US by Regions in 1966/West/MEASLES/September",
          "Number of Diseases in the US by Regions in 1966/Midwest/RUBELLA/September",
          "Number of Diseases in the US by Regions in 1966/Northeast/RUBELLA/September",
          "Number of Diseases in the US by Regions in 1966/Southeast/RUBELLA/September",
          "Number of Diseases in the US by Regions in 1966/Southwest/RUBELLA/September",
          "Number of Diseases in the US by Regions in 1966/West/RUBELLA/September",
          "Number of Diseases in the US by Regions in 1966/Midwest/HEPATITIS A",
          "Number of Diseases in the US by Regions in 1966/Northeast/HEPATITIS A",
          "Number of Diseases in the US by Regions in 1966/Southeast/HEPATITIS A",
          "Number of Diseases in the US by Regions in 1966/Southwest/HEPATITIS A",
          "Number of Diseases in the US by Regions in 1966/West/HEPATITIS A",
          "Number of Diseases in the US by Regions in 1966/Midwest/MEASLES",
          "Number of Diseases in the US by Regions in 1966/Northeast/MEASLES",
          "Number of Diseases in the US by Regions in 1966/Southeast/MEASLES",
          "Number of Diseases in the US by Regions in 1966/Southwest/MEASLES",
          "Number of Diseases in the US by Regions in 1966/West/MEASLES",
          "Number of Diseases in the US by Regions in 1966/Midwest/RUBELLA",
          "Number of Diseases in the US by Regions in 1966/Northeast/RUBELLA",
          "Number of Diseases in the US by Regions in 1966/Southeast/RUBELLA",
          "Number of Diseases in the US by Regions in 1966/Southwest/RUBELLA",
          "Number of Diseases in the US by Regions in 1966/West/RUBELLA",
          "Number of Diseases in the US by Regions in 1966/Midwest",
          "Number of Diseases in the US by Regions in 1966/Northeast",
          "Number of Diseases in the US by Regions in 1966/Southeast",
          "Number of Diseases in the US by Regions in 1966/Southwest",
          "Number of Diseases in the US by Regions in 1966/West",
          "Number of Diseases in the US by Regions in 1966"
         ],
         "labels": [
          "April",
          "April",
          "April",
          "April",
          "April",
          "April",
          "April",
          "April",
          "April",
          "April",
          "April",
          "April",
          "April",
          "April",
          "April",
          "August",
          "August",
          "August",
          "August",
          "August",
          "August",
          "August",
          "August",
          "August",
          "August",
          "August",
          "August",
          "August",
          "August",
          "August",
          "December",
          "December",
          "December",
          "December",
          "December",
          "December",
          "December",
          "December",
          "December",
          "December",
          "December",
          "December",
          "December",
          "December",
          "December",
          "February",
          "February",
          "February",
          "February",
          "February",
          "February",
          "February",
          "February",
          "February",
          "February",
          "February",
          "February",
          "February",
          "February",
          "February",
          "January",
          "January",
          "January",
          "January",
          "January",
          "January",
          "January",
          "January",
          "January",
          "January",
          "January",
          "January",
          "January",
          "January",
          "January",
          "July",
          "July",
          "July",
          "July",
          "July",
          "July",
          "July",
          "July",
          "July",
          "July",
          "July",
          "July",
          "July",
          "July",
          "July",
          "June",
          "June",
          "June",
          "June",
          "June",
          "June",
          "June",
          "June",
          "June",
          "June",
          "June",
          "June",
          "June",
          "June",
          "June",
          "March",
          "March",
          "March",
          "March",
          "March",
          "March",
          "March",
          "March",
          "March",
          "March",
          "March",
          "March",
          "March",
          "March",
          "March",
          "May",
          "May",
          "May",
          "May",
          "May",
          "May",
          "May",
          "May",
          "May",
          "May",
          "May",
          "May",
          "May",
          "May",
          "May",
          "November",
          "November",
          "November",
          "November",
          "November",
          "November",
          "November",
          "November",
          "November",
          "November",
          "November",
          "November",
          "November",
          "November",
          "November",
          "October",
          "October",
          "October",
          "October",
          "October",
          "October",
          "October",
          "October",
          "October",
          "October",
          "October",
          "October",
          "October",
          "October",
          "October",
          "September",
          "September",
          "September",
          "September",
          "September",
          "September",
          "September",
          "September",
          "September",
          "September",
          "September",
          "September",
          "September",
          "September",
          "September",
          "HEPATITIS A",
          "HEPATITIS A",
          "HEPATITIS A",
          "HEPATITIS A",
          "HEPATITIS A",
          "MEASLES",
          "MEASLES",
          "MEASLES",
          "MEASLES",
          "MEASLES",
          "RUBELLA",
          "RUBELLA",
          "RUBELLA",
          "RUBELLA",
          "RUBELLA",
          "Midwest",
          "Northeast",
          "Southeast",
          "Southwest",
          "West",
          "Number of Diseases in the US by Regions in 1966"
         ],
         "name": "",
         "parents": [
          "Number of Diseases in the US by Regions in 1966/Midwest/HEPATITIS A",
          "Number of Diseases in the US by Regions in 1966/Northeast/HEPATITIS A",
          "Number of Diseases in the US by Regions in 1966/Southeast/HEPATITIS A",
          "Number of Diseases in the US by Regions in 1966/Southwest/HEPATITIS A",
          "Number of Diseases in the US by Regions in 1966/West/HEPATITIS A",
          "Number of Diseases in the US by Regions in 1966/Midwest/MEASLES",
          "Number of Diseases in the US by Regions in 1966/Northeast/MEASLES",
          "Number of Diseases in the US by Regions in 1966/Southeast/MEASLES",
          "Number of Diseases in the US by Regions in 1966/Southwest/MEASLES",
          "Number of Diseases in the US by Regions in 1966/West/MEASLES",
          "Number of Diseases in the US by Regions in 1966/Midwest/RUBELLA",
          "Number of Diseases in the US by Regions in 1966/Northeast/RUBELLA",
          "Number of Diseases in the US by Regions in 1966/Southeast/RUBELLA",
          "Number of Diseases in the US by Regions in 1966/Southwest/RUBELLA",
          "Number of Diseases in the US by Regions in 1966/West/RUBELLA",
          "Number of Diseases in the US by Regions in 1966/Midwest/HEPATITIS A",
          "Number of Diseases in the US by Regions in 1966/Northeast/HEPATITIS A",
          "Number of Diseases in the US by Regions in 1966/Southeast/HEPATITIS A",
          "Number of Diseases in the US by Regions in 1966/Southwest/HEPATITIS A",
          "Number of Diseases in the US by Regions in 1966/West/HEPATITIS A",
          "Number of Diseases in the US by Regions in 1966/Midwest/MEASLES",
          "Number of Diseases in the US by Regions in 1966/Northeast/MEASLES",
          "Number of Diseases in the US by Regions in 1966/Southeast/MEASLES",
          "Number of Diseases in the US by Regions in 1966/Southwest/MEASLES",
          "Number of Diseases in the US by Regions in 1966/West/MEASLES",
          "Number of Diseases in the US by Regions in 1966/Midwest/RUBELLA",
          "Number of Diseases in the US by Regions in 1966/Northeast/RUBELLA",
          "Number of Diseases in the US by Regions in 1966/Southeast/RUBELLA",
          "Number of Diseases in the US by Regions in 1966/Southwest/RUBELLA",
          "Number of Diseases in the US by Regions in 1966/West/RUBELLA",
          "Number of Diseases in the US by Regions in 1966/Midwest/HEPATITIS A",
          "Number of Diseases in the US by Regions in 1966/Northeast/HEPATITIS A",
          "Number of Diseases in the US by Regions in 1966/Southeast/HEPATITIS A",
          "Number of Diseases in the US by Regions in 1966/Southwest/HEPATITIS A",
          "Number of Diseases in the US by Regions in 1966/West/HEPATITIS A",
          "Number of Diseases in the US by Regions in 1966/Midwest/MEASLES",
          "Number of Diseases in the US by Regions in 1966/Northeast/MEASLES",
          "Number of Diseases in the US by Regions in 1966/Southeast/MEASLES",
          "Number of Diseases in the US by Regions in 1966/Southwest/MEASLES",
          "Number of Diseases in the US by Regions in 1966/West/MEASLES",
          "Number of Diseases in the US by Regions in 1966/Midwest/RUBELLA",
          "Number of Diseases in the US by Regions in 1966/Northeast/RUBELLA",
          "Number of Diseases in the US by Regions in 1966/Southeast/RUBELLA",
          "Number of Diseases in the US by Regions in 1966/Southwest/RUBELLA",
          "Number of Diseases in the US by Regions in 1966/West/RUBELLA",
          "Number of Diseases in the US by Regions in 1966/Midwest/HEPATITIS A",
          "Number of Diseases in the US by Regions in 1966/Northeast/HEPATITIS A",
          "Number of Diseases in the US by Regions in 1966/Southeast/HEPATITIS A",
          "Number of Diseases in the US by Regions in 1966/Southwest/HEPATITIS A",
          "Number of Diseases in the US by Regions in 1966/West/HEPATITIS A",
          "Number of Diseases in the US by Regions in 1966/Midwest/MEASLES",
          "Number of Diseases in the US by Regions in 1966/Northeast/MEASLES",
          "Number of Diseases in the US by Regions in 1966/Southeast/MEASLES",
          "Number of Diseases in the US by Regions in 1966/Southwest/MEASLES",
          "Number of Diseases in the US by Regions in 1966/West/MEASLES",
          "Number of Diseases in the US by Regions in 1966/Midwest/RUBELLA",
          "Number of Diseases in the US by Regions in 1966/Northeast/RUBELLA",
          "Number of Diseases in the US by Regions in 1966/Southeast/RUBELLA",
          "Number of Diseases in the US by Regions in 1966/Southwest/RUBELLA",
          "Number of Diseases in the US by Regions in 1966/West/RUBELLA",
          "Number of Diseases in the US by Regions in 1966/Midwest/HEPATITIS A",
          "Number of Diseases in the US by Regions in 1966/Northeast/HEPATITIS A",
          "Number of Diseases in the US by Regions in 1966/Southeast/HEPATITIS A",
          "Number of Diseases in the US by Regions in 1966/Southwest/HEPATITIS A",
          "Number of Diseases in the US by Regions in 1966/West/HEPATITIS A",
          "Number of Diseases in the US by Regions in 1966/Midwest/MEASLES",
          "Number of Diseases in the US by Regions in 1966/Northeast/MEASLES",
          "Number of Diseases in the US by Regions in 1966/Southeast/MEASLES",
          "Number of Diseases in the US by Regions in 1966/Southwest/MEASLES",
          "Number of Diseases in the US by Regions in 1966/West/MEASLES",
          "Number of Diseases in the US by Regions in 1966/Midwest/RUBELLA",
          "Number of Diseases in the US by Regions in 1966/Northeast/RUBELLA",
          "Number of Diseases in the US by Regions in 1966/Southeast/RUBELLA",
          "Number of Diseases in the US by Regions in 1966/Southwest/RUBELLA",
          "Number of Diseases in the US by Regions in 1966/West/RUBELLA",
          "Number of Diseases in the US by Regions in 1966/Midwest/HEPATITIS A",
          "Number of Diseases in the US by Regions in 1966/Northeast/HEPATITIS A",
          "Number of Diseases in the US by Regions in 1966/Southeast/HEPATITIS A",
          "Number of Diseases in the US by Regions in 1966/Southwest/HEPATITIS A",
          "Number of Diseases in the US by Regions in 1966/West/HEPATITIS A",
          "Number of Diseases in the US by Regions in 1966/Midwest/MEASLES",
          "Number of Diseases in the US by Regions in 1966/Northeast/MEASLES",
          "Number of Diseases in the US by Regions in 1966/Southeast/MEASLES",
          "Number of Diseases in the US by Regions in 1966/Southwest/MEASLES",
          "Number of Diseases in the US by Regions in 1966/West/MEASLES",
          "Number of Diseases in the US by Regions in 1966/Midwest/RUBELLA",
          "Number of Diseases in the US by Regions in 1966/Northeast/RUBELLA",
          "Number of Diseases in the US by Regions in 1966/Southeast/RUBELLA",
          "Number of Diseases in the US by Regions in 1966/Southwest/RUBELLA",
          "Number of Diseases in the US by Regions in 1966/West/RUBELLA",
          "Number of Diseases in the US by Regions in 1966/Midwest/HEPATITIS A",
          "Number of Diseases in the US by Regions in 1966/Northeast/HEPATITIS A",
          "Number of Diseases in the US by Regions in 1966/Southeast/HEPATITIS A",
          "Number of Diseases in the US by Regions in 1966/Southwest/HEPATITIS A",
          "Number of Diseases in the US by Regions in 1966/West/HEPATITIS A",
          "Number of Diseases in the US by Regions in 1966/Midwest/MEASLES",
          "Number of Diseases in the US by Regions in 1966/Northeast/MEASLES",
          "Number of Diseases in the US by Regions in 1966/Southeast/MEASLES",
          "Number of Diseases in the US by Regions in 1966/Southwest/MEASLES",
          "Number of Diseases in the US by Regions in 1966/West/MEASLES",
          "Number of Diseases in the US by Regions in 1966/Midwest/RUBELLA",
          "Number of Diseases in the US by Regions in 1966/Northeast/RUBELLA",
          "Number of Diseases in the US by Regions in 1966/Southeast/RUBELLA",
          "Number of Diseases in the US by Regions in 1966/Southwest/RUBELLA",
          "Number of Diseases in the US by Regions in 1966/West/RUBELLA",
          "Number of Diseases in the US by Regions in 1966/Midwest/HEPATITIS A",
          "Number of Diseases in the US by Regions in 1966/Northeast/HEPATITIS A",
          "Number of Diseases in the US by Regions in 1966/Southeast/HEPATITIS A",
          "Number of Diseases in the US by Regions in 1966/Southwest/HEPATITIS A",
          "Number of Diseases in the US by Regions in 1966/West/HEPATITIS A",
          "Number of Diseases in the US by Regions in 1966/Midwest/MEASLES",
          "Number of Diseases in the US by Regions in 1966/Northeast/MEASLES",
          "Number of Diseases in the US by Regions in 1966/Southeast/MEASLES",
          "Number of Diseases in the US by Regions in 1966/Southwest/MEASLES",
          "Number of Diseases in the US by Regions in 1966/West/MEASLES",
          "Number of Diseases in the US by Regions in 1966/Midwest/RUBELLA",
          "Number of Diseases in the US by Regions in 1966/Northeast/RUBELLA",
          "Number of Diseases in the US by Regions in 1966/Southeast/RUBELLA",
          "Number of Diseases in the US by Regions in 1966/Southwest/RUBELLA",
          "Number of Diseases in the US by Regions in 1966/West/RUBELLA",
          "Number of Diseases in the US by Regions in 1966/Midwest/HEPATITIS A",
          "Number of Diseases in the US by Regions in 1966/Northeast/HEPATITIS A",
          "Number of Diseases in the US by Regions in 1966/Southeast/HEPATITIS A",
          "Number of Diseases in the US by Regions in 1966/Southwest/HEPATITIS A",
          "Number of Diseases in the US by Regions in 1966/West/HEPATITIS A",
          "Number of Diseases in the US by Regions in 1966/Midwest/MEASLES",
          "Number of Diseases in the US by Regions in 1966/Northeast/MEASLES",
          "Number of Diseases in the US by Regions in 1966/Southeast/MEASLES",
          "Number of Diseases in the US by Regions in 1966/Southwest/MEASLES",
          "Number of Diseases in the US by Regions in 1966/West/MEASLES",
          "Number of Diseases in the US by Regions in 1966/Midwest/RUBELLA",
          "Number of Diseases in the US by Regions in 1966/Northeast/RUBELLA",
          "Number of Diseases in the US by Regions in 1966/Southeast/RUBELLA",
          "Number of Diseases in the US by Regions in 1966/Southwest/RUBELLA",
          "Number of Diseases in the US by Regions in 1966/West/RUBELLA",
          "Number of Diseases in the US by Regions in 1966/Midwest/HEPATITIS A",
          "Number of Diseases in the US by Regions in 1966/Northeast/HEPATITIS A",
          "Number of Diseases in the US by Regions in 1966/Southeast/HEPATITIS A",
          "Number of Diseases in the US by Regions in 1966/Southwest/HEPATITIS A",
          "Number of Diseases in the US by Regions in 1966/West/HEPATITIS A",
          "Number of Diseases in the US by Regions in 1966/Midwest/MEASLES",
          "Number of Diseases in the US by Regions in 1966/Northeast/MEASLES",
          "Number of Diseases in the US by Regions in 1966/Southeast/MEASLES",
          "Number of Diseases in the US by Regions in 1966/Southwest/MEASLES",
          "Number of Diseases in the US by Regions in 1966/West/MEASLES",
          "Number of Diseases in the US by Regions in 1966/Midwest/RUBELLA",
          "Number of Diseases in the US by Regions in 1966/Northeast/RUBELLA",
          "Number of Diseases in the US by Regions in 1966/Southeast/RUBELLA",
          "Number of Diseases in the US by Regions in 1966/Southwest/RUBELLA",
          "Number of Diseases in the US by Regions in 1966/West/RUBELLA",
          "Number of Diseases in the US by Regions in 1966/Midwest/HEPATITIS A",
          "Number of Diseases in the US by Regions in 1966/Northeast/HEPATITIS A",
          "Number of Diseases in the US by Regions in 1966/Southeast/HEPATITIS A",
          "Number of Diseases in the US by Regions in 1966/Southwest/HEPATITIS A",
          "Number of Diseases in the US by Regions in 1966/West/HEPATITIS A",
          "Number of Diseases in the US by Regions in 1966/Midwest/MEASLES",
          "Number of Diseases in the US by Regions in 1966/Northeast/MEASLES",
          "Number of Diseases in the US by Regions in 1966/Southeast/MEASLES",
          "Number of Diseases in the US by Regions in 1966/Southwest/MEASLES",
          "Number of Diseases in the US by Regions in 1966/West/MEASLES",
          "Number of Diseases in the US by Regions in 1966/Midwest/RUBELLA",
          "Number of Diseases in the US by Regions in 1966/Northeast/RUBELLA",
          "Number of Diseases in the US by Regions in 1966/Southeast/RUBELLA",
          "Number of Diseases in the US by Regions in 1966/Southwest/RUBELLA",
          "Number of Diseases in the US by Regions in 1966/West/RUBELLA",
          "Number of Diseases in the US by Regions in 1966/Midwest/HEPATITIS A",
          "Number of Diseases in the US by Regions in 1966/Northeast/HEPATITIS A",
          "Number of Diseases in the US by Regions in 1966/Southeast/HEPATITIS A",
          "Number of Diseases in the US by Regions in 1966/Southwest/HEPATITIS A",
          "Number of Diseases in the US by Regions in 1966/West/HEPATITIS A",
          "Number of Diseases in the US by Regions in 1966/Midwest/MEASLES",
          "Number of Diseases in the US by Regions in 1966/Northeast/MEASLES",
          "Number of Diseases in the US by Regions in 1966/Southeast/MEASLES",
          "Number of Diseases in the US by Regions in 1966/Southwest/MEASLES",
          "Number of Diseases in the US by Regions in 1966/West/MEASLES",
          "Number of Diseases in the US by Regions in 1966/Midwest/RUBELLA",
          "Number of Diseases in the US by Regions in 1966/Northeast/RUBELLA",
          "Number of Diseases in the US by Regions in 1966/Southeast/RUBELLA",
          "Number of Diseases in the US by Regions in 1966/Southwest/RUBELLA",
          "Number of Diseases in the US by Regions in 1966/West/RUBELLA",
          "Number of Diseases in the US by Regions in 1966/Midwest",
          "Number of Diseases in the US by Regions in 1966/Northeast",
          "Number of Diseases in the US by Regions in 1966/Southeast",
          "Number of Diseases in the US by Regions in 1966/Southwest",
          "Number of Diseases in the US by Regions in 1966/West",
          "Number of Diseases in the US by Regions in 1966/Midwest",
          "Number of Diseases in the US by Regions in 1966/Northeast",
          "Number of Diseases in the US by Regions in 1966/Southeast",
          "Number of Diseases in the US by Regions in 1966/Southwest",
          "Number of Diseases in the US by Regions in 1966/West",
          "Number of Diseases in the US by Regions in 1966/Midwest",
          "Number of Diseases in the US by Regions in 1966/Northeast",
          "Number of Diseases in the US by Regions in 1966/Southeast",
          "Number of Diseases in the US by Regions in 1966/Southwest",
          "Number of Diseases in the US by Regions in 1966/West",
          "Number of Diseases in the US by Regions in 1966",
          "Number of Diseases in the US by Regions in 1966",
          "Number of Diseases in the US by Regions in 1966",
          "Number of Diseases in the US by Regions in 1966",
          "Number of Diseases in the US by Regions in 1966",
          ""
         ],
         "textinfo": "label+text+value",
         "type": "treemap",
         "values": [
          722,
          436,
          445,
          185,
          588,
          12350,
          2819,
          5132,
          6066,
          5440,
          2922,
          1256,
          1409,
          454,
          1423,
          578,
          409,
          286,
          211,
          667,
          774,
          145,
          507,
          554,
          502,
          416,
          187,
          167,
          35,
          155,
          690,
          604,
          359,
          243,
          731,
          824,
          181,
          746,
          808,
          902,
          385,
          140,
          100,
          37,
          319,
          873,
          527,
          551,
          241,
          763,
          14506,
          4469,
          5101,
          3780,
          3238,
          2040,
          765,
          1044,
          431,
          1224,
          904,
          686,
          613,
          338,
          887,
          11472,
          4284,
          5649,
          2113,
          2383,
          1353,
          835,
          650,
          317,
          1040,
          598,
          469,
          366,
          241,
          895,
          2997,
          427,
          1490,
          1268,
          1330,
          693,
          400,
          460,
          101,
          251,
          546,
          440,
          368,
          158,
          706,
          6857,
          1027,
          2843,
          2695,
          3021,
          1837,
          860,
          933,
          205,
          549,
          802,
          462,
          574,
          227,
          640,
          15370,
          4171,
          6334,
          6335,
          4908,
          2603,
          1225,
          1636,
          551,
          1484,
          841,
          693,
          534,
          247,
          790,
          14107,
          2738,
          5965,
          5888,
          7289,
          3382,
          1641,
          2126,
          486,
          1550,
          624,
          587,
          456,
          229,
          821,
          1212,
          297,
          522,
          880,
          1551,
          358,
          218,
          163,
          46,
          381,
          779,
          674,
          464,
          252,
          1004,
          687,
          321,
          399,
          616,
          1030,
          402,
          209,
          158,
          34,
          334,
          522,
          437,
          312,
          173,
          697,
          475,
          95,
          345,
          340,
          405,
          333,
          132,
          104,
          15,
          209,
          8479,
          6424,
          5328,
          2745,
          9189,
          81631,
          20974,
          35033,
          31343,
          31999,
          16724,
          7868,
          8950,
          2712,
          8919,
          106834,
          35266,
          49311,
          36800,
          50107,
          278318
         ]
        }
       ],
       "layout": {
        "height": 1200,
        "legend": {
         "tracegroupgap": 0
        },
        "margin": {
         "t": 60
        },
        "template": {
         "data": {
          "bar": [
           {
            "error_x": {
             "color": "#2a3f5f"
            },
            "error_y": {
             "color": "#2a3f5f"
            },
            "marker": {
             "line": {
              "color": "white",
              "width": 0.5
             },
             "pattern": {
              "fillmode": "overlay",
              "size": 10,
              "solidity": 0.2
             }
            },
            "type": "bar"
           }
          ],
          "barpolar": [
           {
            "marker": {
             "line": {
              "color": "white",
              "width": 0.5
             },
             "pattern": {
              "fillmode": "overlay",
              "size": 10,
              "solidity": 0.2
             }
            },
            "type": "barpolar"
           }
          ],
          "carpet": [
           {
            "aaxis": {
             "endlinecolor": "#2a3f5f",
             "gridcolor": "#C8D4E3",
             "linecolor": "#C8D4E3",
             "minorgridcolor": "#C8D4E3",
             "startlinecolor": "#2a3f5f"
            },
            "baxis": {
             "endlinecolor": "#2a3f5f",
             "gridcolor": "#C8D4E3",
             "linecolor": "#C8D4E3",
             "minorgridcolor": "#C8D4E3",
             "startlinecolor": "#2a3f5f"
            },
            "type": "carpet"
           }
          ],
          "choropleth": [
           {
            "colorbar": {
             "outlinewidth": 0,
             "ticks": ""
            },
            "type": "choropleth"
           }
          ],
          "contour": [
           {
            "colorbar": {
             "outlinewidth": 0,
             "ticks": ""
            },
            "colorscale": [
             [
              0,
              "#0d0887"
             ],
             [
              0.1111111111111111,
              "#46039f"
             ],
             [
              0.2222222222222222,
              "#7201a8"
             ],
             [
              0.3333333333333333,
              "#9c179e"
             ],
             [
              0.4444444444444444,
              "#bd3786"
             ],
             [
              0.5555555555555556,
              "#d8576b"
             ],
             [
              0.6666666666666666,
              "#ed7953"
             ],
             [
              0.7777777777777778,
              "#fb9f3a"
             ],
             [
              0.8888888888888888,
              "#fdca26"
             ],
             [
              1,
              "#f0f921"
             ]
            ],
            "type": "contour"
           }
          ],
          "contourcarpet": [
           {
            "colorbar": {
             "outlinewidth": 0,
             "ticks": ""
            },
            "type": "contourcarpet"
           }
          ],
          "heatmap": [
           {
            "colorbar": {
             "outlinewidth": 0,
             "ticks": ""
            },
            "colorscale": [
             [
              0,
              "#0d0887"
             ],
             [
              0.1111111111111111,
              "#46039f"
             ],
             [
              0.2222222222222222,
              "#7201a8"
             ],
             [
              0.3333333333333333,
              "#9c179e"
             ],
             [
              0.4444444444444444,
              "#bd3786"
             ],
             [
              0.5555555555555556,
              "#d8576b"
             ],
             [
              0.6666666666666666,
              "#ed7953"
             ],
             [
              0.7777777777777778,
              "#fb9f3a"
             ],
             [
              0.8888888888888888,
              "#fdca26"
             ],
             [
              1,
              "#f0f921"
             ]
            ],
            "type": "heatmap"
           }
          ],
          "heatmapgl": [
           {
            "colorbar": {
             "outlinewidth": 0,
             "ticks": ""
            },
            "colorscale": [
             [
              0,
              "#0d0887"
             ],
             [
              0.1111111111111111,
              "#46039f"
             ],
             [
              0.2222222222222222,
              "#7201a8"
             ],
             [
              0.3333333333333333,
              "#9c179e"
             ],
             [
              0.4444444444444444,
              "#bd3786"
             ],
             [
              0.5555555555555556,
              "#d8576b"
             ],
             [
              0.6666666666666666,
              "#ed7953"
             ],
             [
              0.7777777777777778,
              "#fb9f3a"
             ],
             [
              0.8888888888888888,
              "#fdca26"
             ],
             [
              1,
              "#f0f921"
             ]
            ],
            "type": "heatmapgl"
           }
          ],
          "histogram": [
           {
            "marker": {
             "pattern": {
              "fillmode": "overlay",
              "size": 10,
              "solidity": 0.2
             }
            },
            "type": "histogram"
           }
          ],
          "histogram2d": [
           {
            "colorbar": {
             "outlinewidth": 0,
             "ticks": ""
            },
            "colorscale": [
             [
              0,
              "#0d0887"
             ],
             [
              0.1111111111111111,
              "#46039f"
             ],
             [
              0.2222222222222222,
              "#7201a8"
             ],
             [
              0.3333333333333333,
              "#9c179e"
             ],
             [
              0.4444444444444444,
              "#bd3786"
             ],
             [
              0.5555555555555556,
              "#d8576b"
             ],
             [
              0.6666666666666666,
              "#ed7953"
             ],
             [
              0.7777777777777778,
              "#fb9f3a"
             ],
             [
              0.8888888888888888,
              "#fdca26"
             ],
             [
              1,
              "#f0f921"
             ]
            ],
            "type": "histogram2d"
           }
          ],
          "histogram2dcontour": [
           {
            "colorbar": {
             "outlinewidth": 0,
             "ticks": ""
            },
            "colorscale": [
             [
              0,
              "#0d0887"
             ],
             [
              0.1111111111111111,
              "#46039f"
             ],
             [
              0.2222222222222222,
              "#7201a8"
             ],
             [
              0.3333333333333333,
              "#9c179e"
             ],
             [
              0.4444444444444444,
              "#bd3786"
             ],
             [
              0.5555555555555556,
              "#d8576b"
             ],
             [
              0.6666666666666666,
              "#ed7953"
             ],
             [
              0.7777777777777778,
              "#fb9f3a"
             ],
             [
              0.8888888888888888,
              "#fdca26"
             ],
             [
              1,
              "#f0f921"
             ]
            ],
            "type": "histogram2dcontour"
           }
          ],
          "mesh3d": [
           {
            "colorbar": {
             "outlinewidth": 0,
             "ticks": ""
            },
            "type": "mesh3d"
           }
          ],
          "parcoords": [
           {
            "line": {
             "colorbar": {
              "outlinewidth": 0,
              "ticks": ""
             }
            },
            "type": "parcoords"
           }
          ],
          "pie": [
           {
            "automargin": true,
            "type": "pie"
           }
          ],
          "scatter": [
           {
            "fillpattern": {
             "fillmode": "overlay",
             "size": 10,
             "solidity": 0.2
            },
            "type": "scatter"
           }
          ],
          "scatter3d": [
           {
            "line": {
             "colorbar": {
              "outlinewidth": 0,
              "ticks": ""
             }
            },
            "marker": {
             "colorbar": {
              "outlinewidth": 0,
              "ticks": ""
             }
            },
            "type": "scatter3d"
           }
          ],
          "scattercarpet": [
           {
            "marker": {
             "colorbar": {
              "outlinewidth": 0,
              "ticks": ""
             }
            },
            "type": "scattercarpet"
           }
          ],
          "scattergeo": [
           {
            "marker": {
             "colorbar": {
              "outlinewidth": 0,
              "ticks": ""
             }
            },
            "type": "scattergeo"
           }
          ],
          "scattergl": [
           {
            "marker": {
             "colorbar": {
              "outlinewidth": 0,
              "ticks": ""
             }
            },
            "type": "scattergl"
           }
          ],
          "scattermapbox": [
           {
            "marker": {
             "colorbar": {
              "outlinewidth": 0,
              "ticks": ""
             }
            },
            "type": "scattermapbox"
           }
          ],
          "scatterpolar": [
           {
            "marker": {
             "colorbar": {
              "outlinewidth": 0,
              "ticks": ""
             }
            },
            "type": "scatterpolar"
           }
          ],
          "scatterpolargl": [
           {
            "marker": {
             "colorbar": {
              "outlinewidth": 0,
              "ticks": ""
             }
            },
            "type": "scatterpolargl"
           }
          ],
          "scatterternary": [
           {
            "marker": {
             "colorbar": {
              "outlinewidth": 0,
              "ticks": ""
             }
            },
            "type": "scatterternary"
           }
          ],
          "surface": [
           {
            "colorbar": {
             "outlinewidth": 0,
             "ticks": ""
            },
            "colorscale": [
             [
              0,
              "#0d0887"
             ],
             [
              0.1111111111111111,
              "#46039f"
             ],
             [
              0.2222222222222222,
              "#7201a8"
             ],
             [
              0.3333333333333333,
              "#9c179e"
             ],
             [
              0.4444444444444444,
              "#bd3786"
             ],
             [
              0.5555555555555556,
              "#d8576b"
             ],
             [
              0.6666666666666666,
              "#ed7953"
             ],
             [
              0.7777777777777778,
              "#fb9f3a"
             ],
             [
              0.8888888888888888,
              "#fdca26"
             ],
             [
              1,
              "#f0f921"
             ]
            ],
            "type": "surface"
           }
          ],
          "table": [
           {
            "cells": {
             "fill": {
              "color": "#EBF0F8"
             },
             "line": {
              "color": "white"
             }
            },
            "header": {
             "fill": {
              "color": "#C8D4E3"
             },
             "line": {
              "color": "white"
             }
            },
            "type": "table"
           }
          ]
         },
         "layout": {
          "annotationdefaults": {
           "arrowcolor": "#2a3f5f",
           "arrowhead": 0,
           "arrowwidth": 1
          },
          "autotypenumbers": "strict",
          "coloraxis": {
           "colorbar": {
            "outlinewidth": 0,
            "ticks": ""
           }
          },
          "colorscale": {
           "diverging": [
            [
             0,
             "#8e0152"
            ],
            [
             0.1,
             "#c51b7d"
            ],
            [
             0.2,
             "#de77ae"
            ],
            [
             0.3,
             "#f1b6da"
            ],
            [
             0.4,
             "#fde0ef"
            ],
            [
             0.5,
             "#f7f7f7"
            ],
            [
             0.6,
             "#e6f5d0"
            ],
            [
             0.7,
             "#b8e186"
            ],
            [
             0.8,
             "#7fbc41"
            ],
            [
             0.9,
             "#4d9221"
            ],
            [
             1,
             "#276419"
            ]
           ],
           "sequential": [
            [
             0,
             "#0d0887"
            ],
            [
             0.1111111111111111,
             "#46039f"
            ],
            [
             0.2222222222222222,
             "#7201a8"
            ],
            [
             0.3333333333333333,
             "#9c179e"
            ],
            [
             0.4444444444444444,
             "#bd3786"
            ],
            [
             0.5555555555555556,
             "#d8576b"
            ],
            [
             0.6666666666666666,
             "#ed7953"
            ],
            [
             0.7777777777777778,
             "#fb9f3a"
            ],
            [
             0.8888888888888888,
             "#fdca26"
            ],
            [
             1,
             "#f0f921"
            ]
           ],
           "sequentialminus": [
            [
             0,
             "#0d0887"
            ],
            [
             0.1111111111111111,
             "#46039f"
            ],
            [
             0.2222222222222222,
             "#7201a8"
            ],
            [
             0.3333333333333333,
             "#9c179e"
            ],
            [
             0.4444444444444444,
             "#bd3786"
            ],
            [
             0.5555555555555556,
             "#d8576b"
            ],
            [
             0.6666666666666666,
             "#ed7953"
            ],
            [
             0.7777777777777778,
             "#fb9f3a"
            ],
            [
             0.8888888888888888,
             "#fdca26"
            ],
            [
             1,
             "#f0f921"
            ]
           ]
          },
          "colorway": [
           "#636efa",
           "#EF553B",
           "#00cc96",
           "#ab63fa",
           "#FFA15A",
           "#19d3f3",
           "#FF6692",
           "#B6E880",
           "#FF97FF",
           "#FECB52"
          ],
          "font": {
           "color": "#2a3f5f"
          },
          "geo": {
           "bgcolor": "white",
           "lakecolor": "white",
           "landcolor": "white",
           "showlakes": true,
           "showland": true,
           "subunitcolor": "#C8D4E3"
          },
          "hoverlabel": {
           "align": "left"
          },
          "hovermode": "closest",
          "mapbox": {
           "style": "light"
          },
          "paper_bgcolor": "white",
          "plot_bgcolor": "white",
          "polar": {
           "angularaxis": {
            "gridcolor": "#EBF0F8",
            "linecolor": "#EBF0F8",
            "ticks": ""
           },
           "bgcolor": "white",
           "radialaxis": {
            "gridcolor": "#EBF0F8",
            "linecolor": "#EBF0F8",
            "ticks": ""
           }
          },
          "scene": {
           "xaxis": {
            "backgroundcolor": "white",
            "gridcolor": "#DFE8F3",
            "gridwidth": 2,
            "linecolor": "#EBF0F8",
            "showbackground": true,
            "ticks": "",
            "zerolinecolor": "#EBF0F8"
           },
           "yaxis": {
            "backgroundcolor": "white",
            "gridcolor": "#DFE8F3",
            "gridwidth": 2,
            "linecolor": "#EBF0F8",
            "showbackground": true,
            "ticks": "",
            "zerolinecolor": "#EBF0F8"
           },
           "zaxis": {
            "backgroundcolor": "white",
            "gridcolor": "#DFE8F3",
            "gridwidth": 2,
            "linecolor": "#EBF0F8",
            "showbackground": true,
            "ticks": "",
            "zerolinecolor": "#EBF0F8"
           }
          },
          "shapedefaults": {
           "line": {
            "color": "#2a3f5f"
           }
          },
          "ternary": {
           "aaxis": {
            "gridcolor": "#DFE8F3",
            "linecolor": "#A2B1C6",
            "ticks": ""
           },
           "baxis": {
            "gridcolor": "#DFE8F3",
            "linecolor": "#A2B1C6",
            "ticks": ""
           },
           "bgcolor": "white",
           "caxis": {
            "gridcolor": "#DFE8F3",
            "linecolor": "#A2B1C6",
            "ticks": ""
           }
          },
          "title": {
           "x": 0.05
          },
          "xaxis": {
           "automargin": true,
           "gridcolor": "#EBF0F8",
           "linecolor": "#EBF0F8",
           "ticks": "",
           "title": {
            "standoff": 15
           },
           "zerolinecolor": "#EBF0F8",
           "zerolinewidth": 2
          },
          "yaxis": {
           "automargin": true,
           "gridcolor": "#EBF0F8",
           "linecolor": "#EBF0F8",
           "ticks": "",
           "title": {
            "standoff": 15
           },
           "zerolinecolor": "#EBF0F8",
           "zerolinewidth": 2
          }
         }
        },
        "width": 1000
       }
      },
      "text/html": [
       "<div>                            <div id=\"922576c6-5213-450d-8110-918d7eeb9b5d\" class=\"plotly-graph-div\" style=\"height:1200px; width:1000px;\"></div>            <script type=\"text/javascript\">                require([\"plotly\"], function(Plotly) {                    window.PLOTLYENV=window.PLOTLYENV || {};                                    if (document.getElementById(\"922576c6-5213-450d-8110-918d7eeb9b5d\")) {                    Plotly.newPlot(                        \"922576c6-5213-450d-8110-918d7eeb9b5d\",                        [{\"branchvalues\":\"total\",\"domain\":{\"x\":[0.0,1.0],\"y\":[0.0,1.0]},\"hovertemplate\":\"Label: %{label}<br>Cases: %{value}<br>Parent: %{parent}<br>Id: %{id}<extra></extra>\",\"ids\":[\"Number of Diseases in the US by Regions in 1966/Midwest/HEPATITIS A/April\",\"Number of Diseases in the US by Regions in 1966/Northeast/HEPATITIS A/April\",\"Number of Diseases in the US by Regions in 1966/Southeast/HEPATITIS A/April\",\"Number of Diseases in the US by Regions in 1966/Southwest/HEPATITIS A/April\",\"Number of Diseases in the US by Regions in 1966/West/HEPATITIS A/April\",\"Number of Diseases in the US by Regions in 1966/Midwest/MEASLES/April\",\"Number of Diseases in the US by Regions in 1966/Northeast/MEASLES/April\",\"Number of Diseases in the US by Regions in 1966/Southeast/MEASLES/April\",\"Number of Diseases in the US by Regions in 1966/Southwest/MEASLES/April\",\"Number of Diseases in the US by Regions in 1966/West/MEASLES/April\",\"Number of Diseases in the US by Regions in 1966/Midwest/RUBELLA/April\",\"Number of Diseases in the US by Regions in 1966/Northeast/RUBELLA/April\",\"Number of Diseases in the US by Regions in 1966/Southeast/RUBELLA/April\",\"Number of Diseases in the US by Regions in 1966/Southwest/RUBELLA/April\",\"Number of Diseases in the US by Regions in 1966/West/RUBELLA/April\",\"Number of Diseases in the US by Regions in 1966/Midwest/HEPATITIS A/August\",\"Number of Diseases in the US by Regions in 1966/Northeast/HEPATITIS A/August\",\"Number of Diseases in the US by Regions in 1966/Southeast/HEPATITIS A/August\",\"Number of Diseases in the US by Regions in 1966/Southwest/HEPATITIS A/August\",\"Number of Diseases in the US by Regions in 1966/West/HEPATITIS A/August\",\"Number of Diseases in the US by Regions in 1966/Midwest/MEASLES/August\",\"Number of Diseases in the US by Regions in 1966/Northeast/MEASLES/August\",\"Number of Diseases in the US by Regions in 1966/Southeast/MEASLES/August\",\"Number of Diseases in the US by Regions in 1966/Southwest/MEASLES/August\",\"Number of Diseases in the US by Regions in 1966/West/MEASLES/August\",\"Number of Diseases in the US by Regions in 1966/Midwest/RUBELLA/August\",\"Number of Diseases in the US by Regions in 1966/Northeast/RUBELLA/August\",\"Number of Diseases in the US by Regions in 1966/Southeast/RUBELLA/August\",\"Number of Diseases in the US by Regions in 1966/Southwest/RUBELLA/August\",\"Number of Diseases in the US by Regions in 1966/West/RUBELLA/August\",\"Number of Diseases in the US by Regions in 1966/Midwest/HEPATITIS A/December\",\"Number of Diseases in the US by Regions in 1966/Northeast/HEPATITIS A/December\",\"Number of Diseases in the US by Regions in 1966/Southeast/HEPATITIS A/December\",\"Number of Diseases in the US by Regions in 1966/Southwest/HEPATITIS A/December\",\"Number of Diseases in the US by Regions in 1966/West/HEPATITIS A/December\",\"Number of Diseases in the US by Regions in 1966/Midwest/MEASLES/December\",\"Number of Diseases in the US by Regions in 1966/Northeast/MEASLES/December\",\"Number of Diseases in the US by Regions in 1966/Southeast/MEASLES/December\",\"Number of Diseases in the US by Regions in 1966/Southwest/MEASLES/December\",\"Number of Diseases in the US by Regions in 1966/West/MEASLES/December\",\"Number of Diseases in the US by Regions in 1966/Midwest/RUBELLA/December\",\"Number of Diseases in the US by Regions in 1966/Northeast/RUBELLA/December\",\"Number of Diseases in the US by Regions in 1966/Southeast/RUBELLA/December\",\"Number of Diseases in the US by Regions in 1966/Southwest/RUBELLA/December\",\"Number of Diseases in the US by Regions in 1966/West/RUBELLA/December\",\"Number of Diseases in the US by Regions in 1966/Midwest/HEPATITIS A/February\",\"Number of Diseases in the US by Regions in 1966/Northeast/HEPATITIS A/February\",\"Number of Diseases in the US by Regions in 1966/Southeast/HEPATITIS A/February\",\"Number of Diseases in the US by Regions in 1966/Southwest/HEPATITIS A/February\",\"Number of Diseases in the US by Regions in 1966/West/HEPATITIS A/February\",\"Number of Diseases in the US by Regions in 1966/Midwest/MEASLES/February\",\"Number of Diseases in the US by Regions in 1966/Northeast/MEASLES/February\",\"Number of Diseases in the US by Regions in 1966/Southeast/MEASLES/February\",\"Number of Diseases in the US by Regions in 1966/Southwest/MEASLES/February\",\"Number of Diseases in the US by Regions in 1966/West/MEASLES/February\",\"Number of Diseases in the US by Regions in 1966/Midwest/RUBELLA/February\",\"Number of Diseases in the US by Regions in 1966/Northeast/RUBELLA/February\",\"Number of Diseases in the US by Regions in 1966/Southeast/RUBELLA/February\",\"Number of Diseases in the US by Regions in 1966/Southwest/RUBELLA/February\",\"Number of Diseases in the US by Regions in 1966/West/RUBELLA/February\",\"Number of Diseases in the US by Regions in 1966/Midwest/HEPATITIS A/January\",\"Number of Diseases in the US by Regions in 1966/Northeast/HEPATITIS A/January\",\"Number of Diseases in the US by Regions in 1966/Southeast/HEPATITIS A/January\",\"Number of Diseases in the US by Regions in 1966/Southwest/HEPATITIS A/January\",\"Number of Diseases in the US by Regions in 1966/West/HEPATITIS A/January\",\"Number of Diseases in the US by Regions in 1966/Midwest/MEASLES/January\",\"Number of Diseases in the US by Regions in 1966/Northeast/MEASLES/January\",\"Number of Diseases in the US by Regions in 1966/Southeast/MEASLES/January\",\"Number of Diseases in the US by Regions in 1966/Southwest/MEASLES/January\",\"Number of Diseases in the US by Regions in 1966/West/MEASLES/January\",\"Number of Diseases in the US by Regions in 1966/Midwest/RUBELLA/January\",\"Number of Diseases in the US by Regions in 1966/Northeast/RUBELLA/January\",\"Number of Diseases in the US by Regions in 1966/Southeast/RUBELLA/January\",\"Number of Diseases in the US by Regions in 1966/Southwest/RUBELLA/January\",\"Number of Diseases in the US by Regions in 1966/West/RUBELLA/January\",\"Number of Diseases in the US by Regions in 1966/Midwest/HEPATITIS A/July\",\"Number of Diseases in the US by Regions in 1966/Northeast/HEPATITIS A/July\",\"Number of Diseases in the US by Regions in 1966/Southeast/HEPATITIS A/July\",\"Number of Diseases in the US by Regions in 1966/Southwest/HEPATITIS A/July\",\"Number of Diseases in the US by Regions in 1966/West/HEPATITIS A/July\",\"Number of Diseases in the US by Regions in 1966/Midwest/MEASLES/July\",\"Number of Diseases in the US by Regions in 1966/Northeast/MEASLES/July\",\"Number of Diseases in the US by Regions in 1966/Southeast/MEASLES/July\",\"Number of Diseases in the US by Regions in 1966/Southwest/MEASLES/July\",\"Number of Diseases in the US by Regions in 1966/West/MEASLES/July\",\"Number of Diseases in the US by Regions in 1966/Midwest/RUBELLA/July\",\"Number of Diseases in the US by Regions in 1966/Northeast/RUBELLA/July\",\"Number of Diseases in the US by Regions in 1966/Southeast/RUBELLA/July\",\"Number of Diseases in the US by Regions in 1966/Southwest/RUBELLA/July\",\"Number of Diseases in the US by Regions in 1966/West/RUBELLA/July\",\"Number of Diseases in the US by Regions in 1966/Midwest/HEPATITIS A/June\",\"Number of Diseases in the US by Regions in 1966/Northeast/HEPATITIS A/June\",\"Number of Diseases in the US by Regions in 1966/Southeast/HEPATITIS A/June\",\"Number of Diseases in the US by Regions in 1966/Southwest/HEPATITIS A/June\",\"Number of Diseases in the US by Regions in 1966/West/HEPATITIS A/June\",\"Number of Diseases in the US by Regions in 1966/Midwest/MEASLES/June\",\"Number of Diseases in the US by Regions in 1966/Northeast/MEASLES/June\",\"Number of Diseases in the US by Regions in 1966/Southeast/MEASLES/June\",\"Number of Diseases in the US by Regions in 1966/Southwest/MEASLES/June\",\"Number of Diseases in the US by Regions in 1966/West/MEASLES/June\",\"Number of Diseases in the US by Regions in 1966/Midwest/RUBELLA/June\",\"Number of Diseases in the US by Regions in 1966/Northeast/RUBELLA/June\",\"Number of Diseases in the US by Regions in 1966/Southeast/RUBELLA/June\",\"Number of Diseases in the US by Regions in 1966/Southwest/RUBELLA/June\",\"Number of Diseases in the US by Regions in 1966/West/RUBELLA/June\",\"Number of Diseases in the US by Regions in 1966/Midwest/HEPATITIS A/March\",\"Number of Diseases in the US by Regions in 1966/Northeast/HEPATITIS A/March\",\"Number of Diseases in the US by Regions in 1966/Southeast/HEPATITIS A/March\",\"Number of Diseases in the US by Regions in 1966/Southwest/HEPATITIS A/March\",\"Number of Diseases in the US by Regions in 1966/West/HEPATITIS A/March\",\"Number of Diseases in the US by Regions in 1966/Midwest/MEASLES/March\",\"Number of Diseases in the US by Regions in 1966/Northeast/MEASLES/March\",\"Number of Diseases in the US by Regions in 1966/Southeast/MEASLES/March\",\"Number of Diseases in the US by Regions in 1966/Southwest/MEASLES/March\",\"Number of Diseases in the US by Regions in 1966/West/MEASLES/March\",\"Number of Diseases in the US by Regions in 1966/Midwest/RUBELLA/March\",\"Number of Diseases in the US by Regions in 1966/Northeast/RUBELLA/March\",\"Number of Diseases in the US by Regions in 1966/Southeast/RUBELLA/March\",\"Number of Diseases in the US by Regions in 1966/Southwest/RUBELLA/March\",\"Number of Diseases in the US by Regions in 1966/West/RUBELLA/March\",\"Number of Diseases in the US by Regions in 1966/Midwest/HEPATITIS A/May\",\"Number of Diseases in the US by Regions in 1966/Northeast/HEPATITIS A/May\",\"Number of Diseases in the US by Regions in 1966/Southeast/HEPATITIS A/May\",\"Number of Diseases in the US by Regions in 1966/Southwest/HEPATITIS A/May\",\"Number of Diseases in the US by Regions in 1966/West/HEPATITIS A/May\",\"Number of Diseases in the US by Regions in 1966/Midwest/MEASLES/May\",\"Number of Diseases in the US by Regions in 1966/Northeast/MEASLES/May\",\"Number of Diseases in the US by Regions in 1966/Southeast/MEASLES/May\",\"Number of Diseases in the US by Regions in 1966/Southwest/MEASLES/May\",\"Number of Diseases in the US by Regions in 1966/West/MEASLES/May\",\"Number of Diseases in the US by Regions in 1966/Midwest/RUBELLA/May\",\"Number of Diseases in the US by Regions in 1966/Northeast/RUBELLA/May\",\"Number of Diseases in the US by Regions in 1966/Southeast/RUBELLA/May\",\"Number of Diseases in the US by Regions in 1966/Southwest/RUBELLA/May\",\"Number of Diseases in the US by Regions in 1966/West/RUBELLA/May\",\"Number of Diseases in the US by Regions in 1966/Midwest/HEPATITIS A/November\",\"Number of Diseases in the US by Regions in 1966/Northeast/HEPATITIS A/November\",\"Number of Diseases in the US by Regions in 1966/Southeast/HEPATITIS A/November\",\"Number of Diseases in the US by Regions in 1966/Southwest/HEPATITIS A/November\",\"Number of Diseases in the US by Regions in 1966/West/HEPATITIS A/November\",\"Number of Diseases in the US by Regions in 1966/Midwest/MEASLES/November\",\"Number of Diseases in the US by Regions in 1966/Northeast/MEASLES/November\",\"Number of Diseases in the US by Regions in 1966/Southeast/MEASLES/November\",\"Number of Diseases in the US by Regions in 1966/Southwest/MEASLES/November\",\"Number of Diseases in the US by Regions in 1966/West/MEASLES/November\",\"Number of Diseases in the US by Regions in 1966/Midwest/RUBELLA/November\",\"Number of Diseases in the US by Regions in 1966/Northeast/RUBELLA/November\",\"Number of Diseases in the US by Regions in 1966/Southeast/RUBELLA/November\",\"Number of Diseases in the US by Regions in 1966/Southwest/RUBELLA/November\",\"Number of Diseases in the US by Regions in 1966/West/RUBELLA/November\",\"Number of Diseases in the US by Regions in 1966/Midwest/HEPATITIS A/October\",\"Number of Diseases in the US by Regions in 1966/Northeast/HEPATITIS A/October\",\"Number of Diseases in the US by Regions in 1966/Southeast/HEPATITIS A/October\",\"Number of Diseases in the US by Regions in 1966/Southwest/HEPATITIS A/October\",\"Number of Diseases in the US by Regions in 1966/West/HEPATITIS A/October\",\"Number of Diseases in the US by Regions in 1966/Midwest/MEASLES/October\",\"Number of Diseases in the US by Regions in 1966/Northeast/MEASLES/October\",\"Number of Diseases in the US by Regions in 1966/Southeast/MEASLES/October\",\"Number of Diseases in the US by Regions in 1966/Southwest/MEASLES/October\",\"Number of Diseases in the US by Regions in 1966/West/MEASLES/October\",\"Number of Diseases in the US by Regions in 1966/Midwest/RUBELLA/October\",\"Number of Diseases in the US by Regions in 1966/Northeast/RUBELLA/October\",\"Number of Diseases in the US by Regions in 1966/Southeast/RUBELLA/October\",\"Number of Diseases in the US by Regions in 1966/Southwest/RUBELLA/October\",\"Number of Diseases in the US by Regions in 1966/West/RUBELLA/October\",\"Number of Diseases in the US by Regions in 1966/Midwest/HEPATITIS A/September\",\"Number of Diseases in the US by Regions in 1966/Northeast/HEPATITIS A/September\",\"Number of Diseases in the US by Regions in 1966/Southeast/HEPATITIS A/September\",\"Number of Diseases in the US by Regions in 1966/Southwest/HEPATITIS A/September\",\"Number of Diseases in the US by Regions in 1966/West/HEPATITIS A/September\",\"Number of Diseases in the US by Regions in 1966/Midwest/MEASLES/September\",\"Number of Diseases in the US by Regions in 1966/Northeast/MEASLES/September\",\"Number of Diseases in the US by Regions in 1966/Southeast/MEASLES/September\",\"Number of Diseases in the US by Regions in 1966/Southwest/MEASLES/September\",\"Number of Diseases in the US by Regions in 1966/West/MEASLES/September\",\"Number of Diseases in the US by Regions in 1966/Midwest/RUBELLA/September\",\"Number of Diseases in the US by Regions in 1966/Northeast/RUBELLA/September\",\"Number of Diseases in the US by Regions in 1966/Southeast/RUBELLA/September\",\"Number of Diseases in the US by Regions in 1966/Southwest/RUBELLA/September\",\"Number of Diseases in the US by Regions in 1966/West/RUBELLA/September\",\"Number of Diseases in the US by Regions in 1966/Midwest/HEPATITIS A\",\"Number of Diseases in the US by Regions in 1966/Northeast/HEPATITIS A\",\"Number of Diseases in the US by Regions in 1966/Southeast/HEPATITIS A\",\"Number of Diseases in the US by Regions in 1966/Southwest/HEPATITIS A\",\"Number of Diseases in the US by Regions in 1966/West/HEPATITIS A\",\"Number of Diseases in the US by Regions in 1966/Midwest/MEASLES\",\"Number of Diseases in the US by Regions in 1966/Northeast/MEASLES\",\"Number of Diseases in the US by Regions in 1966/Southeast/MEASLES\",\"Number of Diseases in the US by Regions in 1966/Southwest/MEASLES\",\"Number of Diseases in the US by Regions in 1966/West/MEASLES\",\"Number of Diseases in the US by Regions in 1966/Midwest/RUBELLA\",\"Number of Diseases in the US by Regions in 1966/Northeast/RUBELLA\",\"Number of Diseases in the US by Regions in 1966/Southeast/RUBELLA\",\"Number of Diseases in the US by Regions in 1966/Southwest/RUBELLA\",\"Number of Diseases in the US by Regions in 1966/West/RUBELLA\",\"Number of Diseases in the US by Regions in 1966/Midwest\",\"Number of Diseases in the US by Regions in 1966/Northeast\",\"Number of Diseases in the US by Regions in 1966/Southeast\",\"Number of Diseases in the US by Regions in 1966/Southwest\",\"Number of Diseases in the US by Regions in 1966/West\",\"Number of Diseases in the US by Regions in 1966\"],\"labels\":[\"April\",\"April\",\"April\",\"April\",\"April\",\"April\",\"April\",\"April\",\"April\",\"April\",\"April\",\"April\",\"April\",\"April\",\"April\",\"August\",\"August\",\"August\",\"August\",\"August\",\"August\",\"August\",\"August\",\"August\",\"August\",\"August\",\"August\",\"August\",\"August\",\"August\",\"December\",\"December\",\"December\",\"December\",\"December\",\"December\",\"December\",\"December\",\"December\",\"December\",\"December\",\"December\",\"December\",\"December\",\"December\",\"February\",\"February\",\"February\",\"February\",\"February\",\"February\",\"February\",\"February\",\"February\",\"February\",\"February\",\"February\",\"February\",\"February\",\"February\",\"January\",\"January\",\"January\",\"January\",\"January\",\"January\",\"January\",\"January\",\"January\",\"January\",\"January\",\"January\",\"January\",\"January\",\"January\",\"July\",\"July\",\"July\",\"July\",\"July\",\"July\",\"July\",\"July\",\"July\",\"July\",\"July\",\"July\",\"July\",\"July\",\"July\",\"June\",\"June\",\"June\",\"June\",\"June\",\"June\",\"June\",\"June\",\"June\",\"June\",\"June\",\"June\",\"June\",\"June\",\"June\",\"March\",\"March\",\"March\",\"March\",\"March\",\"March\",\"March\",\"March\",\"March\",\"March\",\"March\",\"March\",\"March\",\"March\",\"March\",\"May\",\"May\",\"May\",\"May\",\"May\",\"May\",\"May\",\"May\",\"May\",\"May\",\"May\",\"May\",\"May\",\"May\",\"May\",\"November\",\"November\",\"November\",\"November\",\"November\",\"November\",\"November\",\"November\",\"November\",\"November\",\"November\",\"November\",\"November\",\"November\",\"November\",\"October\",\"October\",\"October\",\"October\",\"October\",\"October\",\"October\",\"October\",\"October\",\"October\",\"October\",\"October\",\"October\",\"October\",\"October\",\"September\",\"September\",\"September\",\"September\",\"September\",\"September\",\"September\",\"September\",\"September\",\"September\",\"September\",\"September\",\"September\",\"September\",\"September\",\"HEPATITIS A\",\"HEPATITIS A\",\"HEPATITIS A\",\"HEPATITIS A\",\"HEPATITIS A\",\"MEASLES\",\"MEASLES\",\"MEASLES\",\"MEASLES\",\"MEASLES\",\"RUBELLA\",\"RUBELLA\",\"RUBELLA\",\"RUBELLA\",\"RUBELLA\",\"Midwest\",\"Northeast\",\"Southeast\",\"Southwest\",\"West\",\"Number of Diseases in the US by Regions in 1966\"],\"name\":\"\",\"parents\":[\"Number of Diseases in the US by Regions in 1966/Midwest/HEPATITIS A\",\"Number of Diseases in the US by Regions in 1966/Northeast/HEPATITIS A\",\"Number of Diseases in the US by Regions in 1966/Southeast/HEPATITIS A\",\"Number of Diseases in the US by Regions in 1966/Southwest/HEPATITIS A\",\"Number of Diseases in the US by Regions in 1966/West/HEPATITIS A\",\"Number of Diseases in the US by Regions in 1966/Midwest/MEASLES\",\"Number of Diseases in the US by Regions in 1966/Northeast/MEASLES\",\"Number of Diseases in the US by Regions in 1966/Southeast/MEASLES\",\"Number of Diseases in the US by Regions in 1966/Southwest/MEASLES\",\"Number of Diseases in the US by Regions in 1966/West/MEASLES\",\"Number of Diseases in the US by Regions in 1966/Midwest/RUBELLA\",\"Number of Diseases in the US by Regions in 1966/Northeast/RUBELLA\",\"Number of Diseases in the US by Regions in 1966/Southeast/RUBELLA\",\"Number of Diseases in the US by Regions in 1966/Southwest/RUBELLA\",\"Number of Diseases in the US by Regions in 1966/West/RUBELLA\",\"Number of Diseases in the US by Regions in 1966/Midwest/HEPATITIS A\",\"Number of Diseases in the US by Regions in 1966/Northeast/HEPATITIS A\",\"Number of Diseases in the US by Regions in 1966/Southeast/HEPATITIS A\",\"Number of Diseases in the US by Regions in 1966/Southwest/HEPATITIS A\",\"Number of Diseases in the US by Regions in 1966/West/HEPATITIS A\",\"Number of Diseases in the US by Regions in 1966/Midwest/MEASLES\",\"Number of Diseases in the US by Regions in 1966/Northeast/MEASLES\",\"Number of Diseases in the US by Regions in 1966/Southeast/MEASLES\",\"Number of Diseases in the US by Regions in 1966/Southwest/MEASLES\",\"Number of Diseases in the US by Regions in 1966/West/MEASLES\",\"Number of Diseases in the US by Regions in 1966/Midwest/RUBELLA\",\"Number of Diseases in the US by Regions in 1966/Northeast/RUBELLA\",\"Number of Diseases in the US by Regions in 1966/Southeast/RUBELLA\",\"Number of Diseases in the US by Regions in 1966/Southwest/RUBELLA\",\"Number of Diseases in the US by Regions in 1966/West/RUBELLA\",\"Number of Diseases in the US by Regions in 1966/Midwest/HEPATITIS A\",\"Number of Diseases in the US by Regions in 1966/Northeast/HEPATITIS A\",\"Number of Diseases in the US by Regions in 1966/Southeast/HEPATITIS A\",\"Number of Diseases in the US by Regions in 1966/Southwest/HEPATITIS A\",\"Number of Diseases in the US by Regions in 1966/West/HEPATITIS A\",\"Number of Diseases in the US by Regions in 1966/Midwest/MEASLES\",\"Number of Diseases in the US by Regions in 1966/Northeast/MEASLES\",\"Number of Diseases in the US by Regions in 1966/Southeast/MEASLES\",\"Number of Diseases in the US by Regions in 1966/Southwest/MEASLES\",\"Number of Diseases in the US by Regions in 1966/West/MEASLES\",\"Number of Diseases in the US by Regions in 1966/Midwest/RUBELLA\",\"Number of Diseases in the US by Regions in 1966/Northeast/RUBELLA\",\"Number of Diseases in the US by Regions in 1966/Southeast/RUBELLA\",\"Number of Diseases in the US by Regions in 1966/Southwest/RUBELLA\",\"Number of Diseases in the US by Regions in 1966/West/RUBELLA\",\"Number of Diseases in the US by Regions in 1966/Midwest/HEPATITIS A\",\"Number of Diseases in the US by Regions in 1966/Northeast/HEPATITIS A\",\"Number of Diseases in the US by Regions in 1966/Southeast/HEPATITIS A\",\"Number of Diseases in the US by Regions in 1966/Southwest/HEPATITIS A\",\"Number of Diseases in the US by Regions in 1966/West/HEPATITIS A\",\"Number of Diseases in the US by Regions in 1966/Midwest/MEASLES\",\"Number of Diseases in the US by Regions in 1966/Northeast/MEASLES\",\"Number of Diseases in the US by Regions in 1966/Southeast/MEASLES\",\"Number of Diseases in the US by Regions in 1966/Southwest/MEASLES\",\"Number of Diseases in the US by Regions in 1966/West/MEASLES\",\"Number of Diseases in the US by Regions in 1966/Midwest/RUBELLA\",\"Number of Diseases in the US by Regions in 1966/Northeast/RUBELLA\",\"Number of Diseases in the US by Regions in 1966/Southeast/RUBELLA\",\"Number of Diseases in the US by Regions in 1966/Southwest/RUBELLA\",\"Number of Diseases in the US by Regions in 1966/West/RUBELLA\",\"Number of Diseases in the US by Regions in 1966/Midwest/HEPATITIS A\",\"Number of Diseases in the US by Regions in 1966/Northeast/HEPATITIS A\",\"Number of Diseases in the US by Regions in 1966/Southeast/HEPATITIS A\",\"Number of Diseases in the US by Regions in 1966/Southwest/HEPATITIS A\",\"Number of Diseases in the US by Regions in 1966/West/HEPATITIS A\",\"Number of Diseases in the US by Regions in 1966/Midwest/MEASLES\",\"Number of Diseases in the US by Regions in 1966/Northeast/MEASLES\",\"Number of Diseases in the US by Regions in 1966/Southeast/MEASLES\",\"Number of Diseases in the US by Regions in 1966/Southwest/MEASLES\",\"Number of Diseases in the US by Regions in 1966/West/MEASLES\",\"Number of Diseases in the US by Regions in 1966/Midwest/RUBELLA\",\"Number of Diseases in the US by Regions in 1966/Northeast/RUBELLA\",\"Number of Diseases in the US by Regions in 1966/Southeast/RUBELLA\",\"Number of Diseases in the US by Regions in 1966/Southwest/RUBELLA\",\"Number of Diseases in the US by Regions in 1966/West/RUBELLA\",\"Number of Diseases in the US by Regions in 1966/Midwest/HEPATITIS A\",\"Number of Diseases in the US by Regions in 1966/Northeast/HEPATITIS A\",\"Number of Diseases in the US by Regions in 1966/Southeast/HEPATITIS A\",\"Number of Diseases in the US by Regions in 1966/Southwest/HEPATITIS A\",\"Number of Diseases in the US by Regions in 1966/West/HEPATITIS A\",\"Number of Diseases in the US by Regions in 1966/Midwest/MEASLES\",\"Number of Diseases in the US by Regions in 1966/Northeast/MEASLES\",\"Number of Diseases in the US by Regions in 1966/Southeast/MEASLES\",\"Number of Diseases in the US by Regions in 1966/Southwest/MEASLES\",\"Number of Diseases in the US by Regions in 1966/West/MEASLES\",\"Number of Diseases in the US by Regions in 1966/Midwest/RUBELLA\",\"Number of Diseases in the US by Regions in 1966/Northeast/RUBELLA\",\"Number of Diseases in the US by Regions in 1966/Southeast/RUBELLA\",\"Number of Diseases in the US by Regions in 1966/Southwest/RUBELLA\",\"Number of Diseases in the US by Regions in 1966/West/RUBELLA\",\"Number of Diseases in the US by Regions in 1966/Midwest/HEPATITIS A\",\"Number of Diseases in the US by Regions in 1966/Northeast/HEPATITIS A\",\"Number of Diseases in the US by Regions in 1966/Southeast/HEPATITIS A\",\"Number of Diseases in the US by Regions in 1966/Southwest/HEPATITIS A\",\"Number of Diseases in the US by Regions in 1966/West/HEPATITIS A\",\"Number of Diseases in the US by Regions in 1966/Midwest/MEASLES\",\"Number of Diseases in the US by Regions in 1966/Northeast/MEASLES\",\"Number of Diseases in the US by Regions in 1966/Southeast/MEASLES\",\"Number of Diseases in the US by Regions in 1966/Southwest/MEASLES\",\"Number of Diseases in the US by Regions in 1966/West/MEASLES\",\"Number of Diseases in the US by Regions in 1966/Midwest/RUBELLA\",\"Number of Diseases in the US by Regions in 1966/Northeast/RUBELLA\",\"Number of Diseases in the US by Regions in 1966/Southeast/RUBELLA\",\"Number of Diseases in the US by Regions in 1966/Southwest/RUBELLA\",\"Number of Diseases in the US by Regions in 1966/West/RUBELLA\",\"Number of Diseases in the US by Regions in 1966/Midwest/HEPATITIS A\",\"Number of Diseases in the US by Regions in 1966/Northeast/HEPATITIS A\",\"Number of Diseases in the US by Regions in 1966/Southeast/HEPATITIS A\",\"Number of Diseases in the US by Regions in 1966/Southwest/HEPATITIS A\",\"Number of Diseases in the US by Regions in 1966/West/HEPATITIS A\",\"Number of Diseases in the US by Regions in 1966/Midwest/MEASLES\",\"Number of Diseases in the US by Regions in 1966/Northeast/MEASLES\",\"Number of Diseases in the US by Regions in 1966/Southeast/MEASLES\",\"Number of Diseases in the US by Regions in 1966/Southwest/MEASLES\",\"Number of Diseases in the US by Regions in 1966/West/MEASLES\",\"Number of Diseases in the US by Regions in 1966/Midwest/RUBELLA\",\"Number of Diseases in the US by Regions in 1966/Northeast/RUBELLA\",\"Number of Diseases in the US by Regions in 1966/Southeast/RUBELLA\",\"Number of Diseases in the US by Regions in 1966/Southwest/RUBELLA\",\"Number of Diseases in the US by Regions in 1966/West/RUBELLA\",\"Number of Diseases in the US by Regions in 1966/Midwest/HEPATITIS A\",\"Number of Diseases in the US by Regions in 1966/Northeast/HEPATITIS A\",\"Number of Diseases in the US by Regions in 1966/Southeast/HEPATITIS A\",\"Number of Diseases in the US by Regions in 1966/Southwest/HEPATITIS A\",\"Number of Diseases in the US by Regions in 1966/West/HEPATITIS A\",\"Number of Diseases in the US by Regions in 1966/Midwest/MEASLES\",\"Number of Diseases in the US by Regions in 1966/Northeast/MEASLES\",\"Number of Diseases in the US by Regions in 1966/Southeast/MEASLES\",\"Number of Diseases in the US by Regions in 1966/Southwest/MEASLES\",\"Number of Diseases in the US by Regions in 1966/West/MEASLES\",\"Number of Diseases in the US by Regions in 1966/Midwest/RUBELLA\",\"Number of Diseases in the US by Regions in 1966/Northeast/RUBELLA\",\"Number of Diseases in the US by Regions in 1966/Southeast/RUBELLA\",\"Number of Diseases in the US by Regions in 1966/Southwest/RUBELLA\",\"Number of Diseases in the US by Regions in 1966/West/RUBELLA\",\"Number of Diseases in the US by Regions in 1966/Midwest/HEPATITIS A\",\"Number of Diseases in the US by Regions in 1966/Northeast/HEPATITIS A\",\"Number of Diseases in the US by Regions in 1966/Southeast/HEPATITIS A\",\"Number of Diseases in the US by Regions in 1966/Southwest/HEPATITIS A\",\"Number of Diseases in the US by Regions in 1966/West/HEPATITIS A\",\"Number of Diseases in the US by Regions in 1966/Midwest/MEASLES\",\"Number of Diseases in the US by Regions in 1966/Northeast/MEASLES\",\"Number of Diseases in the US by Regions in 1966/Southeast/MEASLES\",\"Number of Diseases in the US by Regions in 1966/Southwest/MEASLES\",\"Number of Diseases in the US by Regions in 1966/West/MEASLES\",\"Number of Diseases in the US by Regions in 1966/Midwest/RUBELLA\",\"Number of Diseases in the US by Regions in 1966/Northeast/RUBELLA\",\"Number of Diseases in the US by Regions in 1966/Southeast/RUBELLA\",\"Number of Diseases in the US by Regions in 1966/Southwest/RUBELLA\",\"Number of Diseases in the US by Regions in 1966/West/RUBELLA\",\"Number of Diseases in the US by Regions in 1966/Midwest/HEPATITIS A\",\"Number of Diseases in the US by Regions in 1966/Northeast/HEPATITIS A\",\"Number of Diseases in the US by Regions in 1966/Southeast/HEPATITIS A\",\"Number of Diseases in the US by Regions in 1966/Southwest/HEPATITIS A\",\"Number of Diseases in the US by Regions in 1966/West/HEPATITIS A\",\"Number of Diseases in the US by Regions in 1966/Midwest/MEASLES\",\"Number of Diseases in the US by Regions in 1966/Northeast/MEASLES\",\"Number of Diseases in the US by Regions in 1966/Southeast/MEASLES\",\"Number of Diseases in the US by Regions in 1966/Southwest/MEASLES\",\"Number of Diseases in the US by Regions in 1966/West/MEASLES\",\"Number of Diseases in the US by Regions in 1966/Midwest/RUBELLA\",\"Number of Diseases in the US by Regions in 1966/Northeast/RUBELLA\",\"Number of Diseases in the US by Regions in 1966/Southeast/RUBELLA\",\"Number of Diseases in the US by Regions in 1966/Southwest/RUBELLA\",\"Number of Diseases in the US by Regions in 1966/West/RUBELLA\",\"Number of Diseases in the US by Regions in 1966/Midwest/HEPATITIS A\",\"Number of Diseases in the US by Regions in 1966/Northeast/HEPATITIS A\",\"Number of Diseases in the US by Regions in 1966/Southeast/HEPATITIS A\",\"Number of Diseases in the US by Regions in 1966/Southwest/HEPATITIS A\",\"Number of Diseases in the US by Regions in 1966/West/HEPATITIS A\",\"Number of Diseases in the US by Regions in 1966/Midwest/MEASLES\",\"Number of Diseases in the US by Regions in 1966/Northeast/MEASLES\",\"Number of Diseases in the US by Regions in 1966/Southeast/MEASLES\",\"Number of Diseases in the US by Regions in 1966/Southwest/MEASLES\",\"Number of Diseases in the US by Regions in 1966/West/MEASLES\",\"Number of Diseases in the US by Regions in 1966/Midwest/RUBELLA\",\"Number of Diseases in the US by Regions in 1966/Northeast/RUBELLA\",\"Number of Diseases in the US by Regions in 1966/Southeast/RUBELLA\",\"Number of Diseases in the US by Regions in 1966/Southwest/RUBELLA\",\"Number of Diseases in the US by Regions in 1966/West/RUBELLA\",\"Number of Diseases in the US by Regions in 1966/Midwest\",\"Number of Diseases in the US by Regions in 1966/Northeast\",\"Number of Diseases in the US by Regions in 1966/Southeast\",\"Number of Diseases in the US by Regions in 1966/Southwest\",\"Number of Diseases in the US by Regions in 1966/West\",\"Number of Diseases in the US by Regions in 1966/Midwest\",\"Number of Diseases in the US by Regions in 1966/Northeast\",\"Number of Diseases in the US by Regions in 1966/Southeast\",\"Number of Diseases in the US by Regions in 1966/Southwest\",\"Number of Diseases in the US by Regions in 1966/West\",\"Number of Diseases in the US by Regions in 1966/Midwest\",\"Number of Diseases in the US by Regions in 1966/Northeast\",\"Number of Diseases in the US by Regions in 1966/Southeast\",\"Number of Diseases in the US by Regions in 1966/Southwest\",\"Number of Diseases in the US by Regions in 1966/West\",\"Number of Diseases in the US by Regions in 1966\",\"Number of Diseases in the US by Regions in 1966\",\"Number of Diseases in the US by Regions in 1966\",\"Number of Diseases in the US by Regions in 1966\",\"Number of Diseases in the US by Regions in 1966\",\"\"],\"values\":[722,436,445,185,588,12350,2819,5132,6066,5440,2922,1256,1409,454,1423,578,409,286,211,667,774,145,507,554,502,416,187,167,35,155,690,604,359,243,731,824,181,746,808,902,385,140,100,37,319,873,527,551,241,763,14506,4469,5101,3780,3238,2040,765,1044,431,1224,904,686,613,338,887,11472,4284,5649,2113,2383,1353,835,650,317,1040,598,469,366,241,895,2997,427,1490,1268,1330,693,400,460,101,251,546,440,368,158,706,6857,1027,2843,2695,3021,1837,860,933,205,549,802,462,574,227,640,15370,4171,6334,6335,4908,2603,1225,1636,551,1484,841,693,534,247,790,14107,2738,5965,5888,7289,3382,1641,2126,486,1550,624,587,456,229,821,1212,297,522,880,1551,358,218,163,46,381,779,674,464,252,1004,687,321,399,616,1030,402,209,158,34,334,522,437,312,173,697,475,95,345,340,405,333,132,104,15,209,8479,6424,5328,2745,9189,81631,20974,35033,31343,31999,16724,7868,8950,2712,8919,106834,35266,49311,36800,50107,278318],\"type\":\"treemap\",\"textinfo\":\"label+text+value\"}],                        {\"template\":{\"data\":{\"barpolar\":[{\"marker\":{\"line\":{\"color\":\"white\",\"width\":0.5},\"pattern\":{\"fillmode\":\"overlay\",\"size\":10,\"solidity\":0.2}},\"type\":\"barpolar\"}],\"bar\":[{\"error_x\":{\"color\":\"#2a3f5f\"},\"error_y\":{\"color\":\"#2a3f5f\"},\"marker\":{\"line\":{\"color\":\"white\",\"width\":0.5},\"pattern\":{\"fillmode\":\"overlay\",\"size\":10,\"solidity\":0.2}},\"type\":\"bar\"}],\"carpet\":[{\"aaxis\":{\"endlinecolor\":\"#2a3f5f\",\"gridcolor\":\"#C8D4E3\",\"linecolor\":\"#C8D4E3\",\"minorgridcolor\":\"#C8D4E3\",\"startlinecolor\":\"#2a3f5f\"},\"baxis\":{\"endlinecolor\":\"#2a3f5f\",\"gridcolor\":\"#C8D4E3\",\"linecolor\":\"#C8D4E3\",\"minorgridcolor\":\"#C8D4E3\",\"startlinecolor\":\"#2a3f5f\"},\"type\":\"carpet\"}],\"choropleth\":[{\"colorbar\":{\"outlinewidth\":0,\"ticks\":\"\"},\"type\":\"choropleth\"}],\"contourcarpet\":[{\"colorbar\":{\"outlinewidth\":0,\"ticks\":\"\"},\"type\":\"contourcarpet\"}],\"contour\":[{\"colorbar\":{\"outlinewidth\":0,\"ticks\":\"\"},\"colorscale\":[[0.0,\"#0d0887\"],[0.1111111111111111,\"#46039f\"],[0.2222222222222222,\"#7201a8\"],[0.3333333333333333,\"#9c179e\"],[0.4444444444444444,\"#bd3786\"],[0.5555555555555556,\"#d8576b\"],[0.6666666666666666,\"#ed7953\"],[0.7777777777777778,\"#fb9f3a\"],[0.8888888888888888,\"#fdca26\"],[1.0,\"#f0f921\"]],\"type\":\"contour\"}],\"heatmapgl\":[{\"colorbar\":{\"outlinewidth\":0,\"ticks\":\"\"},\"colorscale\":[[0.0,\"#0d0887\"],[0.1111111111111111,\"#46039f\"],[0.2222222222222222,\"#7201a8\"],[0.3333333333333333,\"#9c179e\"],[0.4444444444444444,\"#bd3786\"],[0.5555555555555556,\"#d8576b\"],[0.6666666666666666,\"#ed7953\"],[0.7777777777777778,\"#fb9f3a\"],[0.8888888888888888,\"#fdca26\"],[1.0,\"#f0f921\"]],\"type\":\"heatmapgl\"}],\"heatmap\":[{\"colorbar\":{\"outlinewidth\":0,\"ticks\":\"\"},\"colorscale\":[[0.0,\"#0d0887\"],[0.1111111111111111,\"#46039f\"],[0.2222222222222222,\"#7201a8\"],[0.3333333333333333,\"#9c179e\"],[0.4444444444444444,\"#bd3786\"],[0.5555555555555556,\"#d8576b\"],[0.6666666666666666,\"#ed7953\"],[0.7777777777777778,\"#fb9f3a\"],[0.8888888888888888,\"#fdca26\"],[1.0,\"#f0f921\"]],\"type\":\"heatmap\"}],\"histogram2dcontour\":[{\"colorbar\":{\"outlinewidth\":0,\"ticks\":\"\"},\"colorscale\":[[0.0,\"#0d0887\"],[0.1111111111111111,\"#46039f\"],[0.2222222222222222,\"#7201a8\"],[0.3333333333333333,\"#9c179e\"],[0.4444444444444444,\"#bd3786\"],[0.5555555555555556,\"#d8576b\"],[0.6666666666666666,\"#ed7953\"],[0.7777777777777778,\"#fb9f3a\"],[0.8888888888888888,\"#fdca26\"],[1.0,\"#f0f921\"]],\"type\":\"histogram2dcontour\"}],\"histogram2d\":[{\"colorbar\":{\"outlinewidth\":0,\"ticks\":\"\"},\"colorscale\":[[0.0,\"#0d0887\"],[0.1111111111111111,\"#46039f\"],[0.2222222222222222,\"#7201a8\"],[0.3333333333333333,\"#9c179e\"],[0.4444444444444444,\"#bd3786\"],[0.5555555555555556,\"#d8576b\"],[0.6666666666666666,\"#ed7953\"],[0.7777777777777778,\"#fb9f3a\"],[0.8888888888888888,\"#fdca26\"],[1.0,\"#f0f921\"]],\"type\":\"histogram2d\"}],\"histogram\":[{\"marker\":{\"pattern\":{\"fillmode\":\"overlay\",\"size\":10,\"solidity\":0.2}},\"type\":\"histogram\"}],\"mesh3d\":[{\"colorbar\":{\"outlinewidth\":0,\"ticks\":\"\"},\"type\":\"mesh3d\"}],\"parcoords\":[{\"line\":{\"colorbar\":{\"outlinewidth\":0,\"ticks\":\"\"}},\"type\":\"parcoords\"}],\"pie\":[{\"automargin\":true,\"type\":\"pie\"}],\"scatter3d\":[{\"line\":{\"colorbar\":{\"outlinewidth\":0,\"ticks\":\"\"}},\"marker\":{\"colorbar\":{\"outlinewidth\":0,\"ticks\":\"\"}},\"type\":\"scatter3d\"}],\"scattercarpet\":[{\"marker\":{\"colorbar\":{\"outlinewidth\":0,\"ticks\":\"\"}},\"type\":\"scattercarpet\"}],\"scattergeo\":[{\"marker\":{\"colorbar\":{\"outlinewidth\":0,\"ticks\":\"\"}},\"type\":\"scattergeo\"}],\"scattergl\":[{\"marker\":{\"colorbar\":{\"outlinewidth\":0,\"ticks\":\"\"}},\"type\":\"scattergl\"}],\"scattermapbox\":[{\"marker\":{\"colorbar\":{\"outlinewidth\":0,\"ticks\":\"\"}},\"type\":\"scattermapbox\"}],\"scatterpolargl\":[{\"marker\":{\"colorbar\":{\"outlinewidth\":0,\"ticks\":\"\"}},\"type\":\"scatterpolargl\"}],\"scatterpolar\":[{\"marker\":{\"colorbar\":{\"outlinewidth\":0,\"ticks\":\"\"}},\"type\":\"scatterpolar\"}],\"scatter\":[{\"fillpattern\":{\"fillmode\":\"overlay\",\"size\":10,\"solidity\":0.2},\"type\":\"scatter\"}],\"scatterternary\":[{\"marker\":{\"colorbar\":{\"outlinewidth\":0,\"ticks\":\"\"}},\"type\":\"scatterternary\"}],\"surface\":[{\"colorbar\":{\"outlinewidth\":0,\"ticks\":\"\"},\"colorscale\":[[0.0,\"#0d0887\"],[0.1111111111111111,\"#46039f\"],[0.2222222222222222,\"#7201a8\"],[0.3333333333333333,\"#9c179e\"],[0.4444444444444444,\"#bd3786\"],[0.5555555555555556,\"#d8576b\"],[0.6666666666666666,\"#ed7953\"],[0.7777777777777778,\"#fb9f3a\"],[0.8888888888888888,\"#fdca26\"],[1.0,\"#f0f921\"]],\"type\":\"surface\"}],\"table\":[{\"cells\":{\"fill\":{\"color\":\"#EBF0F8\"},\"line\":{\"color\":\"white\"}},\"header\":{\"fill\":{\"color\":\"#C8D4E3\"},\"line\":{\"color\":\"white\"}},\"type\":\"table\"}]},\"layout\":{\"annotationdefaults\":{\"arrowcolor\":\"#2a3f5f\",\"arrowhead\":0,\"arrowwidth\":1},\"autotypenumbers\":\"strict\",\"coloraxis\":{\"colorbar\":{\"outlinewidth\":0,\"ticks\":\"\"}},\"colorscale\":{\"diverging\":[[0,\"#8e0152\"],[0.1,\"#c51b7d\"],[0.2,\"#de77ae\"],[0.3,\"#f1b6da\"],[0.4,\"#fde0ef\"],[0.5,\"#f7f7f7\"],[0.6,\"#e6f5d0\"],[0.7,\"#b8e186\"],[0.8,\"#7fbc41\"],[0.9,\"#4d9221\"],[1,\"#276419\"]],\"sequential\":[[0.0,\"#0d0887\"],[0.1111111111111111,\"#46039f\"],[0.2222222222222222,\"#7201a8\"],[0.3333333333333333,\"#9c179e\"],[0.4444444444444444,\"#bd3786\"],[0.5555555555555556,\"#d8576b\"],[0.6666666666666666,\"#ed7953\"],[0.7777777777777778,\"#fb9f3a\"],[0.8888888888888888,\"#fdca26\"],[1.0,\"#f0f921\"]],\"sequentialminus\":[[0.0,\"#0d0887\"],[0.1111111111111111,\"#46039f\"],[0.2222222222222222,\"#7201a8\"],[0.3333333333333333,\"#9c179e\"],[0.4444444444444444,\"#bd3786\"],[0.5555555555555556,\"#d8576b\"],[0.6666666666666666,\"#ed7953\"],[0.7777777777777778,\"#fb9f3a\"],[0.8888888888888888,\"#fdca26\"],[1.0,\"#f0f921\"]]},\"colorway\":[\"#636efa\",\"#EF553B\",\"#00cc96\",\"#ab63fa\",\"#FFA15A\",\"#19d3f3\",\"#FF6692\",\"#B6E880\",\"#FF97FF\",\"#FECB52\"],\"font\":{\"color\":\"#2a3f5f\"},\"geo\":{\"bgcolor\":\"white\",\"lakecolor\":\"white\",\"landcolor\":\"white\",\"showlakes\":true,\"showland\":true,\"subunitcolor\":\"#C8D4E3\"},\"hoverlabel\":{\"align\":\"left\"},\"hovermode\":\"closest\",\"mapbox\":{\"style\":\"light\"},\"paper_bgcolor\":\"white\",\"plot_bgcolor\":\"white\",\"polar\":{\"angularaxis\":{\"gridcolor\":\"#EBF0F8\",\"linecolor\":\"#EBF0F8\",\"ticks\":\"\"},\"bgcolor\":\"white\",\"radialaxis\":{\"gridcolor\":\"#EBF0F8\",\"linecolor\":\"#EBF0F8\",\"ticks\":\"\"}},\"scene\":{\"xaxis\":{\"backgroundcolor\":\"white\",\"gridcolor\":\"#DFE8F3\",\"gridwidth\":2,\"linecolor\":\"#EBF0F8\",\"showbackground\":true,\"ticks\":\"\",\"zerolinecolor\":\"#EBF0F8\"},\"yaxis\":{\"backgroundcolor\":\"white\",\"gridcolor\":\"#DFE8F3\",\"gridwidth\":2,\"linecolor\":\"#EBF0F8\",\"showbackground\":true,\"ticks\":\"\",\"zerolinecolor\":\"#EBF0F8\"},\"zaxis\":{\"backgroundcolor\":\"white\",\"gridcolor\":\"#DFE8F3\",\"gridwidth\":2,\"linecolor\":\"#EBF0F8\",\"showbackground\":true,\"ticks\":\"\",\"zerolinecolor\":\"#EBF0F8\"}},\"shapedefaults\":{\"line\":{\"color\":\"#2a3f5f\"}},\"ternary\":{\"aaxis\":{\"gridcolor\":\"#DFE8F3\",\"linecolor\":\"#A2B1C6\",\"ticks\":\"\"},\"baxis\":{\"gridcolor\":\"#DFE8F3\",\"linecolor\":\"#A2B1C6\",\"ticks\":\"\"},\"bgcolor\":\"white\",\"caxis\":{\"gridcolor\":\"#DFE8F3\",\"linecolor\":\"#A2B1C6\",\"ticks\":\"\"}},\"title\":{\"x\":0.05},\"xaxis\":{\"automargin\":true,\"gridcolor\":\"#EBF0F8\",\"linecolor\":\"#EBF0F8\",\"ticks\":\"\",\"title\":{\"standoff\":15},\"zerolinecolor\":\"#EBF0F8\",\"zerolinewidth\":2},\"yaxis\":{\"automargin\":true,\"gridcolor\":\"#EBF0F8\",\"linecolor\":\"#EBF0F8\",\"ticks\":\"\",\"title\":{\"standoff\":15},\"zerolinecolor\":\"#EBF0F8\",\"zerolinewidth\":2}}},\"legend\":{\"tracegroupgap\":0},\"margin\":{\"t\":60},\"height\":1200,\"width\":1000},                        {\"responsive\": true}                    ).then(function(){\n",
       "                            \n",
       "var gd = document.getElementById('922576c6-5213-450d-8110-918d7eeb9b5d');\n",
       "var x = new MutationObserver(function (mutations, observer) {{\n",
       "        var display = window.getComputedStyle(gd).display;\n",
       "        if (!display || display === 'none') {{\n",
       "            console.log([gd, 'removed!']);\n",
       "            Plotly.purge(gd);\n",
       "            observer.disconnect();\n",
       "        }}\n",
       "}});\n",
       "\n",
       "// Listen for the removal of the full notebook cells\n",
       "var notebookContainer = gd.closest('#notebook-container');\n",
       "if (notebookContainer) {{\n",
       "    x.observe(notebookContainer, {childList: true});\n",
       "}}\n",
       "\n",
       "// Listen for the clearing of the current output cell\n",
       "var outputEl = gd.closest('.output');\n",
       "if (outputEl) {{\n",
       "    x.observe(outputEl, {childList: true});\n",
       "}}\n",
       "\n",
       "                        })                };                });            </script>        </div>"
      ]
     },
     "metadata": {},
     "output_type": "display_data"
    }
   ],
   "source": [
    "fig = px.treemap(data, path = [px.Constant(\"Number of Diseases in the US by Regions in 1966\"),'Region', 'Disease', 'Month'], values = 'Total',\n",
    "                 width=1000,height=1200, template = 'plotly_white',\n",
    "                 )\n",
    "fig.data[0].textinfo = 'label+text+value'\n",
    "fig.data[0].hovertemplate = 'Label: %{label}<br>Cases: %{value}<br>Parent: %{parent}<br>Id: %{id}<extra></extra>'\n",
    "fig.show()"
   ]
  },
  {
   "cell_type": "code",
   "execution_count": null,
   "id": "5e7742d8",
   "metadata": {},
   "outputs": [],
   "source": []
  }
 ],
 "metadata": {
  "kernelspec": {
   "display_name": "Python 3 (ipykernel)",
   "language": "python",
   "name": "python3"
  },
  "language_info": {
   "codemirror_mode": {
    "name": "ipython",
    "version": 3
   },
   "file_extension": ".py",
   "mimetype": "text/x-python",
   "name": "python",
   "nbconvert_exporter": "python",
   "pygments_lexer": "ipython3",
   "version": "3.9.13"
  }
 },
 "nbformat": 4,
 "nbformat_minor": 5
}
