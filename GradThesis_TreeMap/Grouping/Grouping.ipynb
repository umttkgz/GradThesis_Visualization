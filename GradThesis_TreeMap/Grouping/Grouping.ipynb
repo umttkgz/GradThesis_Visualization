{
 "cells": [
  {
   "cell_type": "code",
   "execution_count": 3,
   "id": "01fb847e",
   "metadata": {},
   "outputs": [],
   "source": [
    "import pandas as pd\n",
    "\n",
    "\n",
    "df = pd.read_csv('updated.csv')\n",
    "\n",
    "# Sum up the total number of diseases for every week\n",
    "df_sum = df.groupby(['Month', 'Region', 'Disease'], as_index=False)['Total'].sum()\n",
    "\n",
    "\n",
    "\n",
    "df_sum.to_csv('modified_dataset.csv', index=False)\n"
   ]
  }
 ],
 "metadata": {
  "kernelspec": {
   "display_name": "Python 3 (ipykernel)",
   "language": "python",
   "name": "python3"
  },
  "language_info": {
   "codemirror_mode": {
    "name": "ipython",
    "version": 3
   },
   "file_extension": ".py",
   "mimetype": "text/x-python",
   "name": "python",
   "nbconvert_exporter": "python",
   "pygments_lexer": "ipython3",
   "version": "3.9.13"
  }
 },
 "nbformat": 4,
 "nbformat_minor": 5
}
