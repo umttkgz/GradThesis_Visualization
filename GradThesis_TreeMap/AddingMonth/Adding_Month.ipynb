{
 "cells": [
  {
   "cell_type": "code",
   "execution_count": null,
   "id": "1e1083bd",
   "metadata": {},
   "outputs": [],
   "source": [
    "import pandas as pd\n",
    "\n",
    "\n",
    "df = pd.read_csv('disease.csv')\n",
    "\n",
    "# Define a function to map week values to months\n",
    "def map_week_to_month(week):\n",
    "    week = int(week) % 100  # Extract last two digits of the week value\n",
    "    if 1 <= week <= 5:\n",
    "        return 'January'\n",
    "    elif 6 <= week <= 9:\n",
    "        return 'February'\n",
    "    elif 10 <= week <= 13:\n",
    "        return 'March'\n",
    "    elif 14 <= week <= 17:\n",
    "        return 'April'\n",
    "    elif 18 <= week <= 22:\n",
    "        return 'May'\n",
    "    elif 23 <= week <= 26:\n",
    "        return 'June'\n",
    "    elif 27 <= week <= 31:\n",
    "        return 'July'\n",
    "    elif 32 <= week <= 35:\n",
    "        return 'August'\n",
    "    elif 36 <= week <= 39:\n",
    "        return 'September'\n",
    "    elif 40 <= week <= 44:\n",
    "        return 'October'\n",
    "    elif 45 <= week <= 48:\n",
    "        return 'November'\n",
    "    elif 49 <= week <= 52:\n",
    "        return 'December'\n",
    "\n",
    "# Add the \"month\" attribute to the dataset\n",
    "df['Month'] = df['Week'].map(map_week_to_month)\n",
    "\n",
    "\n",
    "df.to_csv('updated.csv', index=False)\n"
   ]
  },
  {
   "cell_type": "code",
   "execution_count": null,
   "id": "aeff6a8e",
   "metadata": {},
   "outputs": [],
   "source": [
    "df = pd.read_csv('updated.csv')\n",
    "\n",
    "# Remove any leading or trailing whitespace in attribute names\n",
    "df.columns = df.columns.str.strip()\n",
    "\n",
    "\n",
    "# Drop any rows with missing or null values\n",
    "df.dropna(inplace=True)\n",
    "\n",
    "# Reset the index of the dataframe\n",
    "df.reset_index(drop=True, inplace=True)\n",
    "\n",
    "df"
   ]
  }
 ],
 "metadata": {
  "kernelspec": {
   "display_name": "Python 3 (ipykernel)",
   "language": "python",
   "name": "python3"
  },
  "language_info": {
   "codemirror_mode": {
    "name": "ipython",
    "version": 3
   },
   "file_extension": ".py",
   "mimetype": "text/x-python",
   "name": "python",
   "nbconvert_exporter": "python",
   "pygments_lexer": "ipython3",
   "version": "3.9.13"
  }
 },
 "nbformat": 4,
 "nbformat_minor": 5
}
