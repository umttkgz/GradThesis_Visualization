{
 "cells": [
  {
   "cell_type": "code",
   "execution_count": null,
   "id": "6a53133f",
   "metadata": {},
   "outputs": [],
   "source": [
    "import plotly.express as px\n",
    "import pandas as pd\n",
    "\n",
    "df = pd.read_csv('modified_dataset.csv')\n",
    "\n",
    "\n",
    "fig = px.treemap(df, path=['Region', 'Disease', 'Month'], values='Total',\n",
    "                 color='Total', color_continuous_scale='Viridis')\n",
    "\n",
    "# Set the size and layout of the chart\n",
    "fig.update_layout(\n",
    "    title='Diseases in US by Regions',\n",
    "    treemapcolorway=['rgb(49,130,189)', 'rgb(204,204,204)', 'rgb(0,0,0)', 'rgb(217,217,217)'],\n",
    "    font=dict(size=12),\n",
    "    autosize=False,\n",
    "    width=800,\n",
    "    height=600\n",
    ")\n",
    "\n",
    "\n",
    "fig.show()"
   ]
  }
 ],
 "metadata": {
  "kernelspec": {
   "display_name": "Python 3 (ipykernel)",
   "language": "python",
   "name": "python3"
  },
  "language_info": {
   "codemirror_mode": {
    "name": "ipython",
    "version": 3
   },
   "file_extension": ".py",
   "mimetype": "text/x-python",
   "name": "python",
   "nbconvert_exporter": "python",
   "pygments_lexer": "ipython3",
   "version": "3.9.13"
  }
 },
 "nbformat": 4,
 "nbformat_minor": 5
}
