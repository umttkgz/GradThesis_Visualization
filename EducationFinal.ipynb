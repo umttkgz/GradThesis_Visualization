{
 "cells": [
  {
   "cell_type": "code",
   "execution_count": 6,
   "id": "060ecbfd",
   "metadata": {},
   "outputs": [],
   "source": [
    "import pandas as pd\n",
    "import plotly.express as px\n",
    "edu_data = pd.read_csv('filtered_updated.csv')"
   ]
  },
  {
   "cell_type": "code",
   "execution_count": 7,
   "id": "c237b8d2",
   "metadata": {},
   "outputs": [
    {
     "data": {
      "text/html": [
       "<div>\n",
       "<style scoped>\n",
       "    .dataframe tbody tr th:only-of-type {\n",
       "        vertical-align: middle;\n",
       "    }\n",
       "\n",
       "    .dataframe tbody tr th {\n",
       "        vertical-align: top;\n",
       "    }\n",
       "\n",
       "    .dataframe thead th {\n",
       "        text-align: right;\n",
       "    }\n",
       "</style>\n",
       "<table border=\"1\" class=\"dataframe\">\n",
       "  <thead>\n",
       "    <tr style=\"text-align: right;\">\n",
       "      <th></th>\n",
       "      <th>4 way domicile</th>\n",
       "      <th>Domicile</th>\n",
       "      <th>Level of study</th>\n",
       "      <th>Mode of study</th>\n",
       "      <th>Academic Year</th>\n",
       "      <th>Region of HE provider</th>\n",
       "      <th>Number</th>\n",
       "    </tr>\n",
       "  </thead>\n",
       "  <tbody>\n",
       "    <tr>\n",
       "      <th>0</th>\n",
       "      <td>All</td>\n",
       "      <td>Bulgaria</td>\n",
       "      <td>Postgraduate (research)</td>\n",
       "      <td>Full-time</td>\n",
       "      <td>2021/22</td>\n",
       "      <td>North East</td>\n",
       "      <td>5.0</td>\n",
       "    </tr>\n",
       "    <tr>\n",
       "      <th>1</th>\n",
       "      <td>All</td>\n",
       "      <td>Bulgaria</td>\n",
       "      <td>Postgraduate (research)</td>\n",
       "      <td>Full-time</td>\n",
       "      <td>2021/22</td>\n",
       "      <td>North West</td>\n",
       "      <td>10.0</td>\n",
       "    </tr>\n",
       "    <tr>\n",
       "      <th>2</th>\n",
       "      <td>All</td>\n",
       "      <td>Bulgaria</td>\n",
       "      <td>Postgraduate (research)</td>\n",
       "      <td>Full-time</td>\n",
       "      <td>2021/22</td>\n",
       "      <td>Yorkshire and The Humber</td>\n",
       "      <td>5.0</td>\n",
       "    </tr>\n",
       "    <tr>\n",
       "      <th>3</th>\n",
       "      <td>All</td>\n",
       "      <td>Bulgaria</td>\n",
       "      <td>Postgraduate (research)</td>\n",
       "      <td>Full-time</td>\n",
       "      <td>2021/22</td>\n",
       "      <td>East Midlands</td>\n",
       "      <td>10.0</td>\n",
       "    </tr>\n",
       "    <tr>\n",
       "      <th>4</th>\n",
       "      <td>All</td>\n",
       "      <td>Bulgaria</td>\n",
       "      <td>Postgraduate (research)</td>\n",
       "      <td>Full-time</td>\n",
       "      <td>2021/22</td>\n",
       "      <td>West Midlands</td>\n",
       "      <td>5.0</td>\n",
       "    </tr>\n",
       "  </tbody>\n",
       "</table>\n",
       "</div>"
      ],
      "text/plain": [
       "  4 way domicile  Domicile           Level of study Mode of study  \\\n",
       "0            All  Bulgaria  Postgraduate (research)     Full-time   \n",
       "1            All  Bulgaria  Postgraduate (research)     Full-time   \n",
       "2            All  Bulgaria  Postgraduate (research)     Full-time   \n",
       "3            All  Bulgaria  Postgraduate (research)     Full-time   \n",
       "4            All  Bulgaria  Postgraduate (research)     Full-time   \n",
       "\n",
       "  Academic Year     Region of HE provider  Number  \n",
       "0       2021/22                North East     5.0  \n",
       "1       2021/22                North West    10.0  \n",
       "2       2021/22  Yorkshire and The Humber     5.0  \n",
       "3       2021/22             East Midlands    10.0  \n",
       "4       2021/22             West Midlands     5.0  "
      ]
     },
     "execution_count": 7,
     "metadata": {},
     "output_type": "execute_result"
    }
   ],
   "source": [
    "edu_data.head()"
   ]
  },
  {
   "cell_type": "code",
   "execution_count": 8,
   "id": "66366714",
   "metadata": {},
   "outputs": [
    {
     "data": {
      "text/plain": [
       "4 way domicile           0\n",
       "Domicile                 0\n",
       "Level of study           0\n",
       "Mode of study            0\n",
       "Academic Year            0\n",
       "Region of HE provider    0\n",
       "Number                   0\n",
       "dtype: int64"
      ]
     },
     "execution_count": 8,
     "metadata": {},
     "output_type": "execute_result"
    }
   ],
   "source": [
    "edu_data.isna().sum()"
   ]
  },
  {
   "cell_type": "code",
   "execution_count": 9,
   "id": "c9c4e88d",
   "metadata": {},
   "outputs": [],
   "source": [
    "edu_data['Number'] = edu_data['Number'].astype(int)\n",
    "df_pilot = edu_data[edu_data['Number']!=0]"
   ]
  },
  {
   "cell_type": "code",
   "execution_count": 16,
   "id": "114f1743",
   "metadata": {},
   "outputs": [
    {
     "data": {
      "application/vnd.plotly.v1+json": {
       "config": {
        "plotlyServerURL": "https://plot.ly"
       },
       "data": [
        {
         "branchvalues": "total",
         "domain": {
          "x": [
           0,
           1
          ],
          "y": [
           0,
           1
          ]
         },
         "hovertemplate": "Label: %{label}<br>Number: %{value}<br>Parent: %{parent}<br>Id: %{id}<extra></extra>",
         "ids": [
          "HE student enrolments by domicile and region of HE provider in the UK (AY: 21/22)/Bulgaria/First degree/East Midlands",
          "HE student enrolments by domicile and region of HE provider in the UK (AY: 21/22)/Greece/First degree/East Midlands",
          "HE student enrolments by domicile and region of HE provider in the UK (AY: 21/22)/Russia/First degree/East Midlands",
          "HE student enrolments by domicile and region of HE provider in the UK (AY: 21/22)/Turkey/First degree/East Midlands",
          "HE student enrolments by domicile and region of HE provider in the UK (AY: 21/22)/Ukraine/First degree/East Midlands",
          "HE student enrolments by domicile and region of HE provider in the UK (AY: 21/22)/Bulgaria/Postgraduate (research)/East Midlands",
          "HE student enrolments by domicile and region of HE provider in the UK (AY: 21/22)/Greece/Postgraduate (research)/East Midlands",
          "HE student enrolments by domicile and region of HE provider in the UK (AY: 21/22)/Russia/Postgraduate (research)/East Midlands",
          "HE student enrolments by domicile and region of HE provider in the UK (AY: 21/22)/Turkey/Postgraduate (research)/East Midlands",
          "HE student enrolments by domicile and region of HE provider in the UK (AY: 21/22)/Ukraine/Postgraduate (research)/East Midlands",
          "HE student enrolments by domicile and region of HE provider in the UK (AY: 21/22)/Bulgaria/Postgraduate (taught)/East Midlands",
          "HE student enrolments by domicile and region of HE provider in the UK (AY: 21/22)/Greece/Postgraduate (taught)/East Midlands",
          "HE student enrolments by domicile and region of HE provider in the UK (AY: 21/22)/Russia/Postgraduate (taught)/East Midlands",
          "HE student enrolments by domicile and region of HE provider in the UK (AY: 21/22)/Turkey/Postgraduate (taught)/East Midlands",
          "HE student enrolments by domicile and region of HE provider in the UK (AY: 21/22)/Ukraine/Postgraduate (taught)/East Midlands",
          "HE student enrolments by domicile and region of HE provider in the UK (AY: 21/22)/Bulgaria/First degree/East of England",
          "HE student enrolments by domicile and region of HE provider in the UK (AY: 21/22)/Greece/First degree/East of England",
          "HE student enrolments by domicile and region of HE provider in the UK (AY: 21/22)/Russia/First degree/East of England",
          "HE student enrolments by domicile and region of HE provider in the UK (AY: 21/22)/Turkey/First degree/East of England",
          "HE student enrolments by domicile and region of HE provider in the UK (AY: 21/22)/Ukraine/First degree/East of England",
          "HE student enrolments by domicile and region of HE provider in the UK (AY: 21/22)/Bulgaria/Other undergraduate/East of England",
          "HE student enrolments by domicile and region of HE provider in the UK (AY: 21/22)/Greece/Other undergraduate/East of England",
          "HE student enrolments by domicile and region of HE provider in the UK (AY: 21/22)/Russia/Other undergraduate/East of England",
          "HE student enrolments by domicile and region of HE provider in the UK (AY: 21/22)/Ukraine/Other undergraduate/East of England",
          "HE student enrolments by domicile and region of HE provider in the UK (AY: 21/22)/Bulgaria/Postgraduate (research)/East of England",
          "HE student enrolments by domicile and region of HE provider in the UK (AY: 21/22)/Greece/Postgraduate (research)/East of England",
          "HE student enrolments by domicile and region of HE provider in the UK (AY: 21/22)/Russia/Postgraduate (research)/East of England",
          "HE student enrolments by domicile and region of HE provider in the UK (AY: 21/22)/Turkey/Postgraduate (research)/East of England",
          "HE student enrolments by domicile and region of HE provider in the UK (AY: 21/22)/Bulgaria/Postgraduate (taught)/East of England",
          "HE student enrolments by domicile and region of HE provider in the UK (AY: 21/22)/Greece/Postgraduate (taught)/East of England",
          "HE student enrolments by domicile and region of HE provider in the UK (AY: 21/22)/Russia/Postgraduate (taught)/East of England",
          "HE student enrolments by domicile and region of HE provider in the UK (AY: 21/22)/Turkey/Postgraduate (taught)/East of England",
          "HE student enrolments by domicile and region of HE provider in the UK (AY: 21/22)/Ukraine/Postgraduate (taught)/East of England",
          "HE student enrolments by domicile and region of HE provider in the UK (AY: 21/22)/Bulgaria/First degree/London",
          "HE student enrolments by domicile and region of HE provider in the UK (AY: 21/22)/Greece/First degree/London",
          "HE student enrolments by domicile and region of HE provider in the UK (AY: 21/22)/Russia/First degree/London",
          "HE student enrolments by domicile and region of HE provider in the UK (AY: 21/22)/Turkey/First degree/London",
          "HE student enrolments by domicile and region of HE provider in the UK (AY: 21/22)/Ukraine/First degree/London",
          "HE student enrolments by domicile and region of HE provider in the UK (AY: 21/22)/Bulgaria/Other undergraduate/London",
          "HE student enrolments by domicile and region of HE provider in the UK (AY: 21/22)/Greece/Other undergraduate/London",
          "HE student enrolments by domicile and region of HE provider in the UK (AY: 21/22)/Russia/Other undergraduate/London",
          "HE student enrolments by domicile and region of HE provider in the UK (AY: 21/22)/Turkey/Other undergraduate/London",
          "HE student enrolments by domicile and region of HE provider in the UK (AY: 21/22)/Ukraine/Other undergraduate/London",
          "HE student enrolments by domicile and region of HE provider in the UK (AY: 21/22)/Bulgaria/Postgraduate (research)/London",
          "HE student enrolments by domicile and region of HE provider in the UK (AY: 21/22)/Greece/Postgraduate (research)/London",
          "HE student enrolments by domicile and region of HE provider in the UK (AY: 21/22)/Russia/Postgraduate (research)/London",
          "HE student enrolments by domicile and region of HE provider in the UK (AY: 21/22)/Turkey/Postgraduate (research)/London",
          "HE student enrolments by domicile and region of HE provider in the UK (AY: 21/22)/Ukraine/Postgraduate (research)/London",
          "HE student enrolments by domicile and region of HE provider in the UK (AY: 21/22)/Bulgaria/Postgraduate (taught)/London",
          "HE student enrolments by domicile and region of HE provider in the UK (AY: 21/22)/Greece/Postgraduate (taught)/London",
          "HE student enrolments by domicile and region of HE provider in the UK (AY: 21/22)/Russia/Postgraduate (taught)/London",
          "HE student enrolments by domicile and region of HE provider in the UK (AY: 21/22)/Turkey/Postgraduate (taught)/London",
          "HE student enrolments by domicile and region of HE provider in the UK (AY: 21/22)/Ukraine/Postgraduate (taught)/London",
          "HE student enrolments by domicile and region of HE provider in the UK (AY: 21/22)/Bulgaria/First degree/North East",
          "HE student enrolments by domicile and region of HE provider in the UK (AY: 21/22)/Greece/First degree/North East",
          "HE student enrolments by domicile and region of HE provider in the UK (AY: 21/22)/Russia/First degree/North East",
          "HE student enrolments by domicile and region of HE provider in the UK (AY: 21/22)/Turkey/First degree/North East",
          "HE student enrolments by domicile and region of HE provider in the UK (AY: 21/22)/Ukraine/First degree/North East",
          "HE student enrolments by domicile and region of HE provider in the UK (AY: 21/22)/Bulgaria/Other undergraduate/North East",
          "HE student enrolments by domicile and region of HE provider in the UK (AY: 21/22)/Russia/Other undergraduate/North East",
          "HE student enrolments by domicile and region of HE provider in the UK (AY: 21/22)/Ukraine/Other undergraduate/North East",
          "HE student enrolments by domicile and region of HE provider in the UK (AY: 21/22)/Bulgaria/Postgraduate (research)/North East",
          "HE student enrolments by domicile and region of HE provider in the UK (AY: 21/22)/Greece/Postgraduate (research)/North East",
          "HE student enrolments by domicile and region of HE provider in the UK (AY: 21/22)/Russia/Postgraduate (research)/North East",
          "HE student enrolments by domicile and region of HE provider in the UK (AY: 21/22)/Turkey/Postgraduate (research)/North East",
          "HE student enrolments by domicile and region of HE provider in the UK (AY: 21/22)/Bulgaria/Postgraduate (taught)/North East",
          "HE student enrolments by domicile and region of HE provider in the UK (AY: 21/22)/Greece/Postgraduate (taught)/North East",
          "HE student enrolments by domicile and region of HE provider in the UK (AY: 21/22)/Russia/Postgraduate (taught)/North East",
          "HE student enrolments by domicile and region of HE provider in the UK (AY: 21/22)/Turkey/Postgraduate (taught)/North East",
          "HE student enrolments by domicile and region of HE provider in the UK (AY: 21/22)/Ukraine/Postgraduate (taught)/North East",
          "HE student enrolments by domicile and region of HE provider in the UK (AY: 21/22)/Bulgaria/First degree/North West",
          "HE student enrolments by domicile and region of HE provider in the UK (AY: 21/22)/Greece/First degree/North West",
          "HE student enrolments by domicile and region of HE provider in the UK (AY: 21/22)/Russia/First degree/North West",
          "HE student enrolments by domicile and region of HE provider in the UK (AY: 21/22)/Turkey/First degree/North West",
          "HE student enrolments by domicile and region of HE provider in the UK (AY: 21/22)/Ukraine/First degree/North West",
          "HE student enrolments by domicile and region of HE provider in the UK (AY: 21/22)/Bulgaria/Postgraduate (research)/North West",
          "HE student enrolments by domicile and region of HE provider in the UK (AY: 21/22)/Greece/Postgraduate (research)/North West",
          "HE student enrolments by domicile and region of HE provider in the UK (AY: 21/22)/Russia/Postgraduate (research)/North West",
          "HE student enrolments by domicile and region of HE provider in the UK (AY: 21/22)/Turkey/Postgraduate (research)/North West",
          "HE student enrolments by domicile and region of HE provider in the UK (AY: 21/22)/Ukraine/Postgraduate (research)/North West",
          "HE student enrolments by domicile and region of HE provider in the UK (AY: 21/22)/Bulgaria/Postgraduate (taught)/North West",
          "HE student enrolments by domicile and region of HE provider in the UK (AY: 21/22)/Greece/Postgraduate (taught)/North West",
          "HE student enrolments by domicile and region of HE provider in the UK (AY: 21/22)/Russia/Postgraduate (taught)/North West",
          "HE student enrolments by domicile and region of HE provider in the UK (AY: 21/22)/Turkey/Postgraduate (taught)/North West",
          "HE student enrolments by domicile and region of HE provider in the UK (AY: 21/22)/Ukraine/Postgraduate (taught)/North West",
          "HE student enrolments by domicile and region of HE provider in the UK (AY: 21/22)/Bulgaria/First degree/Northern Ireland",
          "HE student enrolments by domicile and region of HE provider in the UK (AY: 21/22)/Greece/First degree/Northern Ireland",
          "HE student enrolments by domicile and region of HE provider in the UK (AY: 21/22)/Russia/First degree/Northern Ireland",
          "HE student enrolments by domicile and region of HE provider in the UK (AY: 21/22)/Greece/Postgraduate (research)/Northern Ireland",
          "HE student enrolments by domicile and region of HE provider in the UK (AY: 21/22)/Turkey/Postgraduate (research)/Northern Ireland",
          "HE student enrolments by domicile and region of HE provider in the UK (AY: 21/22)/Greece/Postgraduate (taught)/Northern Ireland",
          "HE student enrolments by domicile and region of HE provider in the UK (AY: 21/22)/Russia/Postgraduate (taught)/Northern Ireland",
          "HE student enrolments by domicile and region of HE provider in the UK (AY: 21/22)/Turkey/Postgraduate (taught)/Northern Ireland",
          "HE student enrolments by domicile and region of HE provider in the UK (AY: 21/22)/Ukraine/Postgraduate (taught)/Northern Ireland",
          "HE student enrolments by domicile and region of HE provider in the UK (AY: 21/22)/Bulgaria/First degree/Scotland",
          "HE student enrolments by domicile and region of HE provider in the UK (AY: 21/22)/Greece/First degree/Scotland",
          "HE student enrolments by domicile and region of HE provider in the UK (AY: 21/22)/Russia/First degree/Scotland",
          "HE student enrolments by domicile and region of HE provider in the UK (AY: 21/22)/Turkey/First degree/Scotland",
          "HE student enrolments by domicile and region of HE provider in the UK (AY: 21/22)/Ukraine/First degree/Scotland",
          "HE student enrolments by domicile and region of HE provider in the UK (AY: 21/22)/Bulgaria/Other undergraduate/Scotland",
          "HE student enrolments by domicile and region of HE provider in the UK (AY: 21/22)/Greece/Other undergraduate/Scotland",
          "HE student enrolments by domicile and region of HE provider in the UK (AY: 21/22)/Russia/Other undergraduate/Scotland",
          "HE student enrolments by domicile and region of HE provider in the UK (AY: 21/22)/Turkey/Other undergraduate/Scotland",
          "HE student enrolments by domicile and region of HE provider in the UK (AY: 21/22)/Ukraine/Other undergraduate/Scotland",
          "HE student enrolments by domicile and region of HE provider in the UK (AY: 21/22)/Bulgaria/Postgraduate (research)/Scotland",
          "HE student enrolments by domicile and region of HE provider in the UK (AY: 21/22)/Greece/Postgraduate (research)/Scotland",
          "HE student enrolments by domicile and region of HE provider in the UK (AY: 21/22)/Russia/Postgraduate (research)/Scotland",
          "HE student enrolments by domicile and region of HE provider in the UK (AY: 21/22)/Turkey/Postgraduate (research)/Scotland",
          "HE student enrolments by domicile and region of HE provider in the UK (AY: 21/22)/Ukraine/Postgraduate (research)/Scotland",
          "HE student enrolments by domicile and region of HE provider in the UK (AY: 21/22)/Bulgaria/Postgraduate (taught)/Scotland",
          "HE student enrolments by domicile and region of HE provider in the UK (AY: 21/22)/Greece/Postgraduate (taught)/Scotland",
          "HE student enrolments by domicile and region of HE provider in the UK (AY: 21/22)/Russia/Postgraduate (taught)/Scotland",
          "HE student enrolments by domicile and region of HE provider in the UK (AY: 21/22)/Turkey/Postgraduate (taught)/Scotland",
          "HE student enrolments by domicile and region of HE provider in the UK (AY: 21/22)/Ukraine/Postgraduate (taught)/Scotland",
          "HE student enrolments by domicile and region of HE provider in the UK (AY: 21/22)/Bulgaria/First degree/South East",
          "HE student enrolments by domicile and region of HE provider in the UK (AY: 21/22)/Greece/First degree/South East",
          "HE student enrolments by domicile and region of HE provider in the UK (AY: 21/22)/Russia/First degree/South East",
          "HE student enrolments by domicile and region of HE provider in the UK (AY: 21/22)/Turkey/First degree/South East",
          "HE student enrolments by domicile and region of HE provider in the UK (AY: 21/22)/Ukraine/First degree/South East",
          "HE student enrolments by domicile and region of HE provider in the UK (AY: 21/22)/Greece/Other undergraduate/South East",
          "HE student enrolments by domicile and region of HE provider in the UK (AY: 21/22)/Russia/Other undergraduate/South East",
          "HE student enrolments by domicile and region of HE provider in the UK (AY: 21/22)/Turkey/Other undergraduate/South East",
          "HE student enrolments by domicile and region of HE provider in the UK (AY: 21/22)/Ukraine/Other undergraduate/South East",
          "HE student enrolments by domicile and region of HE provider in the UK (AY: 21/22)/Bulgaria/Postgraduate (research)/South East",
          "HE student enrolments by domicile and region of HE provider in the UK (AY: 21/22)/Greece/Postgraduate (research)/South East",
          "HE student enrolments by domicile and region of HE provider in the UK (AY: 21/22)/Russia/Postgraduate (research)/South East",
          "HE student enrolments by domicile and region of HE provider in the UK (AY: 21/22)/Turkey/Postgraduate (research)/South East",
          "HE student enrolments by domicile and region of HE provider in the UK (AY: 21/22)/Ukraine/Postgraduate (research)/South East",
          "HE student enrolments by domicile and region of HE provider in the UK (AY: 21/22)/Bulgaria/Postgraduate (taught)/South East",
          "HE student enrolments by domicile and region of HE provider in the UK (AY: 21/22)/Greece/Postgraduate (taught)/South East",
          "HE student enrolments by domicile and region of HE provider in the UK (AY: 21/22)/Russia/Postgraduate (taught)/South East",
          "HE student enrolments by domicile and region of HE provider in the UK (AY: 21/22)/Turkey/Postgraduate (taught)/South East",
          "HE student enrolments by domicile and region of HE provider in the UK (AY: 21/22)/Ukraine/Postgraduate (taught)/South East",
          "HE student enrolments by domicile and region of HE provider in the UK (AY: 21/22)/Bulgaria/First degree/South West",
          "HE student enrolments by domicile and region of HE provider in the UK (AY: 21/22)/Greece/First degree/South West",
          "HE student enrolments by domicile and region of HE provider in the UK (AY: 21/22)/Russia/First degree/South West",
          "HE student enrolments by domicile and region of HE provider in the UK (AY: 21/22)/Turkey/First degree/South West",
          "HE student enrolments by domicile and region of HE provider in the UK (AY: 21/22)/Ukraine/First degree/South West",
          "HE student enrolments by domicile and region of HE provider in the UK (AY: 21/22)/Russia/Other undergraduate/South West",
          "HE student enrolments by domicile and region of HE provider in the UK (AY: 21/22)/Turkey/Other undergraduate/South West",
          "HE student enrolments by domicile and region of HE provider in the UK (AY: 21/22)/Ukraine/Other undergraduate/South West",
          "HE student enrolments by domicile and region of HE provider in the UK (AY: 21/22)/Bulgaria/Postgraduate (research)/South West",
          "HE student enrolments by domicile and region of HE provider in the UK (AY: 21/22)/Greece/Postgraduate (research)/South West",
          "HE student enrolments by domicile and region of HE provider in the UK (AY: 21/22)/Russia/Postgraduate (research)/South West",
          "HE student enrolments by domicile and region of HE provider in the UK (AY: 21/22)/Turkey/Postgraduate (research)/South West",
          "HE student enrolments by domicile and region of HE provider in the UK (AY: 21/22)/Ukraine/Postgraduate (research)/South West",
          "HE student enrolments by domicile and region of HE provider in the UK (AY: 21/22)/Bulgaria/Postgraduate (taught)/South West",
          "HE student enrolments by domicile and region of HE provider in the UK (AY: 21/22)/Greece/Postgraduate (taught)/South West",
          "HE student enrolments by domicile and region of HE provider in the UK (AY: 21/22)/Russia/Postgraduate (taught)/South West",
          "HE student enrolments by domicile and region of HE provider in the UK (AY: 21/22)/Turkey/Postgraduate (taught)/South West",
          "HE student enrolments by domicile and region of HE provider in the UK (AY: 21/22)/Ukraine/Postgraduate (taught)/South West",
          "HE student enrolments by domicile and region of HE provider in the UK (AY: 21/22)/Bulgaria/First degree/Wales",
          "HE student enrolments by domicile and region of HE provider in the UK (AY: 21/22)/Greece/First degree/Wales",
          "HE student enrolments by domicile and region of HE provider in the UK (AY: 21/22)/Russia/First degree/Wales",
          "HE student enrolments by domicile and region of HE provider in the UK (AY: 21/22)/Turkey/First degree/Wales",
          "HE student enrolments by domicile and region of HE provider in the UK (AY: 21/22)/Ukraine/First degree/Wales",
          "HE student enrolments by domicile and region of HE provider in the UK (AY: 21/22)/Bulgaria/Other undergraduate/Wales",
          "HE student enrolments by domicile and region of HE provider in the UK (AY: 21/22)/Greece/Other undergraduate/Wales",
          "HE student enrolments by domicile and region of HE provider in the UK (AY: 21/22)/Bulgaria/Postgraduate (research)/Wales",
          "HE student enrolments by domicile and region of HE provider in the UK (AY: 21/22)/Greece/Postgraduate (research)/Wales",
          "HE student enrolments by domicile and region of HE provider in the UK (AY: 21/22)/Turkey/Postgraduate (research)/Wales",
          "HE student enrolments by domicile and region of HE provider in the UK (AY: 21/22)/Ukraine/Postgraduate (research)/Wales",
          "HE student enrolments by domicile and region of HE provider in the UK (AY: 21/22)/Bulgaria/Postgraduate (taught)/Wales",
          "HE student enrolments by domicile and region of HE provider in the UK (AY: 21/22)/Greece/Postgraduate (taught)/Wales",
          "HE student enrolments by domicile and region of HE provider in the UK (AY: 21/22)/Russia/Postgraduate (taught)/Wales",
          "HE student enrolments by domicile and region of HE provider in the UK (AY: 21/22)/Turkey/Postgraduate (taught)/Wales",
          "HE student enrolments by domicile and region of HE provider in the UK (AY: 21/22)/Ukraine/Postgraduate (taught)/Wales",
          "HE student enrolments by domicile and region of HE provider in the UK (AY: 21/22)/Bulgaria/First degree/West Midlands",
          "HE student enrolments by domicile and region of HE provider in the UK (AY: 21/22)/Greece/First degree/West Midlands",
          "HE student enrolments by domicile and region of HE provider in the UK (AY: 21/22)/Russia/First degree/West Midlands",
          "HE student enrolments by domicile and region of HE provider in the UK (AY: 21/22)/Turkey/First degree/West Midlands",
          "HE student enrolments by domicile and region of HE provider in the UK (AY: 21/22)/Ukraine/First degree/West Midlands",
          "HE student enrolments by domicile and region of HE provider in the UK (AY: 21/22)/Bulgaria/Other undergraduate/West Midlands",
          "HE student enrolments by domicile and region of HE provider in the UK (AY: 21/22)/Greece/Other undergraduate/West Midlands",
          "HE student enrolments by domicile and region of HE provider in the UK (AY: 21/22)/Russia/Other undergraduate/West Midlands",
          "HE student enrolments by domicile and region of HE provider in the UK (AY: 21/22)/Bulgaria/Postgraduate (research)/West Midlands",
          "HE student enrolments by domicile and region of HE provider in the UK (AY: 21/22)/Greece/Postgraduate (research)/West Midlands",
          "HE student enrolments by domicile and region of HE provider in the UK (AY: 21/22)/Russia/Postgraduate (research)/West Midlands",
          "HE student enrolments by domicile and region of HE provider in the UK (AY: 21/22)/Turkey/Postgraduate (research)/West Midlands",
          "HE student enrolments by domicile and region of HE provider in the UK (AY: 21/22)/Ukraine/Postgraduate (research)/West Midlands",
          "HE student enrolments by domicile and region of HE provider in the UK (AY: 21/22)/Bulgaria/Postgraduate (taught)/West Midlands",
          "HE student enrolments by domicile and region of HE provider in the UK (AY: 21/22)/Greece/Postgraduate (taught)/West Midlands",
          "HE student enrolments by domicile and region of HE provider in the UK (AY: 21/22)/Russia/Postgraduate (taught)/West Midlands",
          "HE student enrolments by domicile and region of HE provider in the UK (AY: 21/22)/Turkey/Postgraduate (taught)/West Midlands",
          "HE student enrolments by domicile and region of HE provider in the UK (AY: 21/22)/Ukraine/Postgraduate (taught)/West Midlands",
          "HE student enrolments by domicile and region of HE provider in the UK (AY: 21/22)/Bulgaria/First degree/Yorkshire and The Humber",
          "HE student enrolments by domicile and region of HE provider in the UK (AY: 21/22)/Greece/First degree/Yorkshire and The Humber",
          "HE student enrolments by domicile and region of HE provider in the UK (AY: 21/22)/Russia/First degree/Yorkshire and The Humber",
          "HE student enrolments by domicile and region of HE provider in the UK (AY: 21/22)/Turkey/First degree/Yorkshire and The Humber",
          "HE student enrolments by domicile and region of HE provider in the UK (AY: 21/22)/Ukraine/First degree/Yorkshire and The Humber",
          "HE student enrolments by domicile and region of HE provider in the UK (AY: 21/22)/Greece/Other undergraduate/Yorkshire and The Humber",
          "HE student enrolments by domicile and region of HE provider in the UK (AY: 21/22)/Bulgaria/Postgraduate (research)/Yorkshire and The Humber",
          "HE student enrolments by domicile and region of HE provider in the UK (AY: 21/22)/Greece/Postgraduate (research)/Yorkshire and The Humber",
          "HE student enrolments by domicile and region of HE provider in the UK (AY: 21/22)/Russia/Postgraduate (research)/Yorkshire and The Humber",
          "HE student enrolments by domicile and region of HE provider in the UK (AY: 21/22)/Turkey/Postgraduate (research)/Yorkshire and The Humber",
          "HE student enrolments by domicile and region of HE provider in the UK (AY: 21/22)/Ukraine/Postgraduate (research)/Yorkshire and The Humber",
          "HE student enrolments by domicile and region of HE provider in the UK (AY: 21/22)/Bulgaria/Postgraduate (taught)/Yorkshire and The Humber",
          "HE student enrolments by domicile and region of HE provider in the UK (AY: 21/22)/Greece/Postgraduate (taught)/Yorkshire and The Humber",
          "HE student enrolments by domicile and region of HE provider in the UK (AY: 21/22)/Russia/Postgraduate (taught)/Yorkshire and The Humber",
          "HE student enrolments by domicile and region of HE provider in the UK (AY: 21/22)/Turkey/Postgraduate (taught)/Yorkshire and The Humber",
          "HE student enrolments by domicile and region of HE provider in the UK (AY: 21/22)/Ukraine/Postgraduate (taught)/Yorkshire and The Humber",
          "HE student enrolments by domicile and region of HE provider in the UK (AY: 21/22)/Bulgaria/First degree",
          "HE student enrolments by domicile and region of HE provider in the UK (AY: 21/22)/Greece/First degree",
          "HE student enrolments by domicile and region of HE provider in the UK (AY: 21/22)/Russia/First degree",
          "HE student enrolments by domicile and region of HE provider in the UK (AY: 21/22)/Turkey/First degree",
          "HE student enrolments by domicile and region of HE provider in the UK (AY: 21/22)/Ukraine/First degree",
          "HE student enrolments by domicile and region of HE provider in the UK (AY: 21/22)/Bulgaria/Other undergraduate",
          "HE student enrolments by domicile and region of HE provider in the UK (AY: 21/22)/Greece/Other undergraduate",
          "HE student enrolments by domicile and region of HE provider in the UK (AY: 21/22)/Russia/Other undergraduate",
          "HE student enrolments by domicile and region of HE provider in the UK (AY: 21/22)/Turkey/Other undergraduate",
          "HE student enrolments by domicile and region of HE provider in the UK (AY: 21/22)/Ukraine/Other undergraduate",
          "HE student enrolments by domicile and region of HE provider in the UK (AY: 21/22)/Bulgaria/Postgraduate (research)",
          "HE student enrolments by domicile and region of HE provider in the UK (AY: 21/22)/Greece/Postgraduate (research)",
          "HE student enrolments by domicile and region of HE provider in the UK (AY: 21/22)/Russia/Postgraduate (research)",
          "HE student enrolments by domicile and region of HE provider in the UK (AY: 21/22)/Turkey/Postgraduate (research)",
          "HE student enrolments by domicile and region of HE provider in the UK (AY: 21/22)/Ukraine/Postgraduate (research)",
          "HE student enrolments by domicile and region of HE provider in the UK (AY: 21/22)/Bulgaria/Postgraduate (taught)",
          "HE student enrolments by domicile and region of HE provider in the UK (AY: 21/22)/Greece/Postgraduate (taught)",
          "HE student enrolments by domicile and region of HE provider in the UK (AY: 21/22)/Russia/Postgraduate (taught)",
          "HE student enrolments by domicile and region of HE provider in the UK (AY: 21/22)/Turkey/Postgraduate (taught)",
          "HE student enrolments by domicile and region of HE provider in the UK (AY: 21/22)/Ukraine/Postgraduate (taught)",
          "HE student enrolments by domicile and region of HE provider in the UK (AY: 21/22)/Bulgaria",
          "HE student enrolments by domicile and region of HE provider in the UK (AY: 21/22)/Greece",
          "HE student enrolments by domicile and region of HE provider in the UK (AY: 21/22)/Russia",
          "HE student enrolments by domicile and region of HE provider in the UK (AY: 21/22)/Turkey",
          "HE student enrolments by domicile and region of HE provider in the UK (AY: 21/22)/Ukraine",
          "HE student enrolments by domicile and region of HE provider in the UK (AY: 21/22)"
         ],
         "labels": [
          "East Midlands",
          "East Midlands",
          "East Midlands",
          "East Midlands",
          "East Midlands",
          "East Midlands",
          "East Midlands",
          "East Midlands",
          "East Midlands",
          "East Midlands",
          "East Midlands",
          "East Midlands",
          "East Midlands",
          "East Midlands",
          "East Midlands",
          "East of England",
          "East of England",
          "East of England",
          "East of England",
          "East of England",
          "East of England",
          "East of England",
          "East of England",
          "East of England",
          "East of England",
          "East of England",
          "East of England",
          "East of England",
          "East of England",
          "East of England",
          "East of England",
          "East of England",
          "East of England",
          "London",
          "London",
          "London",
          "London",
          "London",
          "London",
          "London",
          "London",
          "London",
          "London",
          "London",
          "London",
          "London",
          "London",
          "London",
          "London",
          "London",
          "London",
          "London",
          "London",
          "North East",
          "North East",
          "North East",
          "North East",
          "North East",
          "North East",
          "North East",
          "North East",
          "North East",
          "North East",
          "North East",
          "North East",
          "North East",
          "North East",
          "North East",
          "North East",
          "North East",
          "North West",
          "North West",
          "North West",
          "North West",
          "North West",
          "North West",
          "North West",
          "North West",
          "North West",
          "North West",
          "North West",
          "North West",
          "North West",
          "North West",
          "North West",
          "Northern Ireland",
          "Northern Ireland",
          "Northern Ireland",
          "Northern Ireland",
          "Northern Ireland",
          "Northern Ireland",
          "Northern Ireland",
          "Northern Ireland",
          "Northern Ireland",
          "Scotland",
          "Scotland",
          "Scotland",
          "Scotland",
          "Scotland",
          "Scotland",
          "Scotland",
          "Scotland",
          "Scotland",
          "Scotland",
          "Scotland",
          "Scotland",
          "Scotland",
          "Scotland",
          "Scotland",
          "Scotland",
          "Scotland",
          "Scotland",
          "Scotland",
          "Scotland",
          "South East",
          "South East",
          "South East",
          "South East",
          "South East",
          "South East",
          "South East",
          "South East",
          "South East",
          "South East",
          "South East",
          "South East",
          "South East",
          "South East",
          "South East",
          "South East",
          "South East",
          "South East",
          "South East",
          "South West",
          "South West",
          "South West",
          "South West",
          "South West",
          "South West",
          "South West",
          "South West",
          "South West",
          "South West",
          "South West",
          "South West",
          "South West",
          "South West",
          "South West",
          "South West",
          "South West",
          "South West",
          "Wales",
          "Wales",
          "Wales",
          "Wales",
          "Wales",
          "Wales",
          "Wales",
          "Wales",
          "Wales",
          "Wales",
          "Wales",
          "Wales",
          "Wales",
          "Wales",
          "Wales",
          "Wales",
          "West Midlands",
          "West Midlands",
          "West Midlands",
          "West Midlands",
          "West Midlands",
          "West Midlands",
          "West Midlands",
          "West Midlands",
          "West Midlands",
          "West Midlands",
          "West Midlands",
          "West Midlands",
          "West Midlands",
          "West Midlands",
          "West Midlands",
          "West Midlands",
          "West Midlands",
          "West Midlands",
          "Yorkshire and The Humber",
          "Yorkshire and The Humber",
          "Yorkshire and The Humber",
          "Yorkshire and The Humber",
          "Yorkshire and The Humber",
          "Yorkshire and The Humber",
          "Yorkshire and The Humber",
          "Yorkshire and The Humber",
          "Yorkshire and The Humber",
          "Yorkshire and The Humber",
          "Yorkshire and The Humber",
          "Yorkshire and The Humber",
          "Yorkshire and The Humber",
          "Yorkshire and The Humber",
          "Yorkshire and The Humber",
          "Yorkshire and The Humber",
          "First degree",
          "First degree",
          "First degree",
          "First degree",
          "First degree",
          "Other undergraduate",
          "Other undergraduate",
          "Other undergraduate",
          "Other undergraduate",
          "Other undergraduate",
          "Postgraduate (research)",
          "Postgraduate (research)",
          "Postgraduate (research)",
          "Postgraduate (research)",
          "Postgraduate (research)",
          "Postgraduate (taught)",
          "Postgraduate (taught)",
          "Postgraduate (taught)",
          "Postgraduate (taught)",
          "Postgraduate (taught)",
          "Bulgaria",
          "Greece",
          "Russia",
          "Turkey",
          "Ukraine",
          "HE student enrolments by domicile and region of HE provider in the UK (AY: 21/22)"
         ],
         "name": "",
         "parents": [
          "HE student enrolments by domicile and region of HE provider in the UK (AY: 21/22)/Bulgaria/First degree",
          "HE student enrolments by domicile and region of HE provider in the UK (AY: 21/22)/Greece/First degree",
          "HE student enrolments by domicile and region of HE provider in the UK (AY: 21/22)/Russia/First degree",
          "HE student enrolments by domicile and region of HE provider in the UK (AY: 21/22)/Turkey/First degree",
          "HE student enrolments by domicile and region of HE provider in the UK (AY: 21/22)/Ukraine/First degree",
          "HE student enrolments by domicile and region of HE provider in the UK (AY: 21/22)/Bulgaria/Postgraduate (research)",
          "HE student enrolments by domicile and region of HE provider in the UK (AY: 21/22)/Greece/Postgraduate (research)",
          "HE student enrolments by domicile and region of HE provider in the UK (AY: 21/22)/Russia/Postgraduate (research)",
          "HE student enrolments by domicile and region of HE provider in the UK (AY: 21/22)/Turkey/Postgraduate (research)",
          "HE student enrolments by domicile and region of HE provider in the UK (AY: 21/22)/Ukraine/Postgraduate (research)",
          "HE student enrolments by domicile and region of HE provider in the UK (AY: 21/22)/Bulgaria/Postgraduate (taught)",
          "HE student enrolments by domicile and region of HE provider in the UK (AY: 21/22)/Greece/Postgraduate (taught)",
          "HE student enrolments by domicile and region of HE provider in the UK (AY: 21/22)/Russia/Postgraduate (taught)",
          "HE student enrolments by domicile and region of HE provider in the UK (AY: 21/22)/Turkey/Postgraduate (taught)",
          "HE student enrolments by domicile and region of HE provider in the UK (AY: 21/22)/Ukraine/Postgraduate (taught)",
          "HE student enrolments by domicile and region of HE provider in the UK (AY: 21/22)/Bulgaria/First degree",
          "HE student enrolments by domicile and region of HE provider in the UK (AY: 21/22)/Greece/First degree",
          "HE student enrolments by domicile and region of HE provider in the UK (AY: 21/22)/Russia/First degree",
          "HE student enrolments by domicile and region of HE provider in the UK (AY: 21/22)/Turkey/First degree",
          "HE student enrolments by domicile and region of HE provider in the UK (AY: 21/22)/Ukraine/First degree",
          "HE student enrolments by domicile and region of HE provider in the UK (AY: 21/22)/Bulgaria/Other undergraduate",
          "HE student enrolments by domicile and region of HE provider in the UK (AY: 21/22)/Greece/Other undergraduate",
          "HE student enrolments by domicile and region of HE provider in the UK (AY: 21/22)/Russia/Other undergraduate",
          "HE student enrolments by domicile and region of HE provider in the UK (AY: 21/22)/Ukraine/Other undergraduate",
          "HE student enrolments by domicile and region of HE provider in the UK (AY: 21/22)/Bulgaria/Postgraduate (research)",
          "HE student enrolments by domicile and region of HE provider in the UK (AY: 21/22)/Greece/Postgraduate (research)",
          "HE student enrolments by domicile and region of HE provider in the UK (AY: 21/22)/Russia/Postgraduate (research)",
          "HE student enrolments by domicile and region of HE provider in the UK (AY: 21/22)/Turkey/Postgraduate (research)",
          "HE student enrolments by domicile and region of HE provider in the UK (AY: 21/22)/Bulgaria/Postgraduate (taught)",
          "HE student enrolments by domicile and region of HE provider in the UK (AY: 21/22)/Greece/Postgraduate (taught)",
          "HE student enrolments by domicile and region of HE provider in the UK (AY: 21/22)/Russia/Postgraduate (taught)",
          "HE student enrolments by domicile and region of HE provider in the UK (AY: 21/22)/Turkey/Postgraduate (taught)",
          "HE student enrolments by domicile and region of HE provider in the UK (AY: 21/22)/Ukraine/Postgraduate (taught)",
          "HE student enrolments by domicile and region of HE provider in the UK (AY: 21/22)/Bulgaria/First degree",
          "HE student enrolments by domicile and region of HE provider in the UK (AY: 21/22)/Greece/First degree",
          "HE student enrolments by domicile and region of HE provider in the UK (AY: 21/22)/Russia/First degree",
          "HE student enrolments by domicile and region of HE provider in the UK (AY: 21/22)/Turkey/First degree",
          "HE student enrolments by domicile and region of HE provider in the UK (AY: 21/22)/Ukraine/First degree",
          "HE student enrolments by domicile and region of HE provider in the UK (AY: 21/22)/Bulgaria/Other undergraduate",
          "HE student enrolments by domicile and region of HE provider in the UK (AY: 21/22)/Greece/Other undergraduate",
          "HE student enrolments by domicile and region of HE provider in the UK (AY: 21/22)/Russia/Other undergraduate",
          "HE student enrolments by domicile and region of HE provider in the UK (AY: 21/22)/Turkey/Other undergraduate",
          "HE student enrolments by domicile and region of HE provider in the UK (AY: 21/22)/Ukraine/Other undergraduate",
          "HE student enrolments by domicile and region of HE provider in the UK (AY: 21/22)/Bulgaria/Postgraduate (research)",
          "HE student enrolments by domicile and region of HE provider in the UK (AY: 21/22)/Greece/Postgraduate (research)",
          "HE student enrolments by domicile and region of HE provider in the UK (AY: 21/22)/Russia/Postgraduate (research)",
          "HE student enrolments by domicile and region of HE provider in the UK (AY: 21/22)/Turkey/Postgraduate (research)",
          "HE student enrolments by domicile and region of HE provider in the UK (AY: 21/22)/Ukraine/Postgraduate (research)",
          "HE student enrolments by domicile and region of HE provider in the UK (AY: 21/22)/Bulgaria/Postgraduate (taught)",
          "HE student enrolments by domicile and region of HE provider in the UK (AY: 21/22)/Greece/Postgraduate (taught)",
          "HE student enrolments by domicile and region of HE provider in the UK (AY: 21/22)/Russia/Postgraduate (taught)",
          "HE student enrolments by domicile and region of HE provider in the UK (AY: 21/22)/Turkey/Postgraduate (taught)",
          "HE student enrolments by domicile and region of HE provider in the UK (AY: 21/22)/Ukraine/Postgraduate (taught)",
          "HE student enrolments by domicile and region of HE provider in the UK (AY: 21/22)/Bulgaria/First degree",
          "HE student enrolments by domicile and region of HE provider in the UK (AY: 21/22)/Greece/First degree",
          "HE student enrolments by domicile and region of HE provider in the UK (AY: 21/22)/Russia/First degree",
          "HE student enrolments by domicile and region of HE provider in the UK (AY: 21/22)/Turkey/First degree",
          "HE student enrolments by domicile and region of HE provider in the UK (AY: 21/22)/Ukraine/First degree",
          "HE student enrolments by domicile and region of HE provider in the UK (AY: 21/22)/Bulgaria/Other undergraduate",
          "HE student enrolments by domicile and region of HE provider in the UK (AY: 21/22)/Russia/Other undergraduate",
          "HE student enrolments by domicile and region of HE provider in the UK (AY: 21/22)/Ukraine/Other undergraduate",
          "HE student enrolments by domicile and region of HE provider in the UK (AY: 21/22)/Bulgaria/Postgraduate (research)",
          "HE student enrolments by domicile and region of HE provider in the UK (AY: 21/22)/Greece/Postgraduate (research)",
          "HE student enrolments by domicile and region of HE provider in the UK (AY: 21/22)/Russia/Postgraduate (research)",
          "HE student enrolments by domicile and region of HE provider in the UK (AY: 21/22)/Turkey/Postgraduate (research)",
          "HE student enrolments by domicile and region of HE provider in the UK (AY: 21/22)/Bulgaria/Postgraduate (taught)",
          "HE student enrolments by domicile and region of HE provider in the UK (AY: 21/22)/Greece/Postgraduate (taught)",
          "HE student enrolments by domicile and region of HE provider in the UK (AY: 21/22)/Russia/Postgraduate (taught)",
          "HE student enrolments by domicile and region of HE provider in the UK (AY: 21/22)/Turkey/Postgraduate (taught)",
          "HE student enrolments by domicile and region of HE provider in the UK (AY: 21/22)/Ukraine/Postgraduate (taught)",
          "HE student enrolments by domicile and region of HE provider in the UK (AY: 21/22)/Bulgaria/First degree",
          "HE student enrolments by domicile and region of HE provider in the UK (AY: 21/22)/Greece/First degree",
          "HE student enrolments by domicile and region of HE provider in the UK (AY: 21/22)/Russia/First degree",
          "HE student enrolments by domicile and region of HE provider in the UK (AY: 21/22)/Turkey/First degree",
          "HE student enrolments by domicile and region of HE provider in the UK (AY: 21/22)/Ukraine/First degree",
          "HE student enrolments by domicile and region of HE provider in the UK (AY: 21/22)/Bulgaria/Postgraduate (research)",
          "HE student enrolments by domicile and region of HE provider in the UK (AY: 21/22)/Greece/Postgraduate (research)",
          "HE student enrolments by domicile and region of HE provider in the UK (AY: 21/22)/Russia/Postgraduate (research)",
          "HE student enrolments by domicile and region of HE provider in the UK (AY: 21/22)/Turkey/Postgraduate (research)",
          "HE student enrolments by domicile and region of HE provider in the UK (AY: 21/22)/Ukraine/Postgraduate (research)",
          "HE student enrolments by domicile and region of HE provider in the UK (AY: 21/22)/Bulgaria/Postgraduate (taught)",
          "HE student enrolments by domicile and region of HE provider in the UK (AY: 21/22)/Greece/Postgraduate (taught)",
          "HE student enrolments by domicile and region of HE provider in the UK (AY: 21/22)/Russia/Postgraduate (taught)",
          "HE student enrolments by domicile and region of HE provider in the UK (AY: 21/22)/Turkey/Postgraduate (taught)",
          "HE student enrolments by domicile and region of HE provider in the UK (AY: 21/22)/Ukraine/Postgraduate (taught)",
          "HE student enrolments by domicile and region of HE provider in the UK (AY: 21/22)/Bulgaria/First degree",
          "HE student enrolments by domicile and region of HE provider in the UK (AY: 21/22)/Greece/First degree",
          "HE student enrolments by domicile and region of HE provider in the UK (AY: 21/22)/Russia/First degree",
          "HE student enrolments by domicile and region of HE provider in the UK (AY: 21/22)/Greece/Postgraduate (research)",
          "HE student enrolments by domicile and region of HE provider in the UK (AY: 21/22)/Turkey/Postgraduate (research)",
          "HE student enrolments by domicile and region of HE provider in the UK (AY: 21/22)/Greece/Postgraduate (taught)",
          "HE student enrolments by domicile and region of HE provider in the UK (AY: 21/22)/Russia/Postgraduate (taught)",
          "HE student enrolments by domicile and region of HE provider in the UK (AY: 21/22)/Turkey/Postgraduate (taught)",
          "HE student enrolments by domicile and region of HE provider in the UK (AY: 21/22)/Ukraine/Postgraduate (taught)",
          "HE student enrolments by domicile and region of HE provider in the UK (AY: 21/22)/Bulgaria/First degree",
          "HE student enrolments by domicile and region of HE provider in the UK (AY: 21/22)/Greece/First degree",
          "HE student enrolments by domicile and region of HE provider in the UK (AY: 21/22)/Russia/First degree",
          "HE student enrolments by domicile and region of HE provider in the UK (AY: 21/22)/Turkey/First degree",
          "HE student enrolments by domicile and region of HE provider in the UK (AY: 21/22)/Ukraine/First degree",
          "HE student enrolments by domicile and region of HE provider in the UK (AY: 21/22)/Bulgaria/Other undergraduate",
          "HE student enrolments by domicile and region of HE provider in the UK (AY: 21/22)/Greece/Other undergraduate",
          "HE student enrolments by domicile and region of HE provider in the UK (AY: 21/22)/Russia/Other undergraduate",
          "HE student enrolments by domicile and region of HE provider in the UK (AY: 21/22)/Turkey/Other undergraduate",
          "HE student enrolments by domicile and region of HE provider in the UK (AY: 21/22)/Ukraine/Other undergraduate",
          "HE student enrolments by domicile and region of HE provider in the UK (AY: 21/22)/Bulgaria/Postgraduate (research)",
          "HE student enrolments by domicile and region of HE provider in the UK (AY: 21/22)/Greece/Postgraduate (research)",
          "HE student enrolments by domicile and region of HE provider in the UK (AY: 21/22)/Russia/Postgraduate (research)",
          "HE student enrolments by domicile and region of HE provider in the UK (AY: 21/22)/Turkey/Postgraduate (research)",
          "HE student enrolments by domicile and region of HE provider in the UK (AY: 21/22)/Ukraine/Postgraduate (research)",
          "HE student enrolments by domicile and region of HE provider in the UK (AY: 21/22)/Bulgaria/Postgraduate (taught)",
          "HE student enrolments by domicile and region of HE provider in the UK (AY: 21/22)/Greece/Postgraduate (taught)",
          "HE student enrolments by domicile and region of HE provider in the UK (AY: 21/22)/Russia/Postgraduate (taught)",
          "HE student enrolments by domicile and region of HE provider in the UK (AY: 21/22)/Turkey/Postgraduate (taught)",
          "HE student enrolments by domicile and region of HE provider in the UK (AY: 21/22)/Ukraine/Postgraduate (taught)",
          "HE student enrolments by domicile and region of HE provider in the UK (AY: 21/22)/Bulgaria/First degree",
          "HE student enrolments by domicile and region of HE provider in the UK (AY: 21/22)/Greece/First degree",
          "HE student enrolments by domicile and region of HE provider in the UK (AY: 21/22)/Russia/First degree",
          "HE student enrolments by domicile and region of HE provider in the UK (AY: 21/22)/Turkey/First degree",
          "HE student enrolments by domicile and region of HE provider in the UK (AY: 21/22)/Ukraine/First degree",
          "HE student enrolments by domicile and region of HE provider in the UK (AY: 21/22)/Greece/Other undergraduate",
          "HE student enrolments by domicile and region of HE provider in the UK (AY: 21/22)/Russia/Other undergraduate",
          "HE student enrolments by domicile and region of HE provider in the UK (AY: 21/22)/Turkey/Other undergraduate",
          "HE student enrolments by domicile and region of HE provider in the UK (AY: 21/22)/Ukraine/Other undergraduate",
          "HE student enrolments by domicile and region of HE provider in the UK (AY: 21/22)/Bulgaria/Postgraduate (research)",
          "HE student enrolments by domicile and region of HE provider in the UK (AY: 21/22)/Greece/Postgraduate (research)",
          "HE student enrolments by domicile and region of HE provider in the UK (AY: 21/22)/Russia/Postgraduate (research)",
          "HE student enrolments by domicile and region of HE provider in the UK (AY: 21/22)/Turkey/Postgraduate (research)",
          "HE student enrolments by domicile and region of HE provider in the UK (AY: 21/22)/Ukraine/Postgraduate (research)",
          "HE student enrolments by domicile and region of HE provider in the UK (AY: 21/22)/Bulgaria/Postgraduate (taught)",
          "HE student enrolments by domicile and region of HE provider in the UK (AY: 21/22)/Greece/Postgraduate (taught)",
          "HE student enrolments by domicile and region of HE provider in the UK (AY: 21/22)/Russia/Postgraduate (taught)",
          "HE student enrolments by domicile and region of HE provider in the UK (AY: 21/22)/Turkey/Postgraduate (taught)",
          "HE student enrolments by domicile and region of HE provider in the UK (AY: 21/22)/Ukraine/Postgraduate (taught)",
          "HE student enrolments by domicile and region of HE provider in the UK (AY: 21/22)/Bulgaria/First degree",
          "HE student enrolments by domicile and region of HE provider in the UK (AY: 21/22)/Greece/First degree",
          "HE student enrolments by domicile and region of HE provider in the UK (AY: 21/22)/Russia/First degree",
          "HE student enrolments by domicile and region of HE provider in the UK (AY: 21/22)/Turkey/First degree",
          "HE student enrolments by domicile and region of HE provider in the UK (AY: 21/22)/Ukraine/First degree",
          "HE student enrolments by domicile and region of HE provider in the UK (AY: 21/22)/Russia/Other undergraduate",
          "HE student enrolments by domicile and region of HE provider in the UK (AY: 21/22)/Turkey/Other undergraduate",
          "HE student enrolments by domicile and region of HE provider in the UK (AY: 21/22)/Ukraine/Other undergraduate",
          "HE student enrolments by domicile and region of HE provider in the UK (AY: 21/22)/Bulgaria/Postgraduate (research)",
          "HE student enrolments by domicile and region of HE provider in the UK (AY: 21/22)/Greece/Postgraduate (research)",
          "HE student enrolments by domicile and region of HE provider in the UK (AY: 21/22)/Russia/Postgraduate (research)",
          "HE student enrolments by domicile and region of HE provider in the UK (AY: 21/22)/Turkey/Postgraduate (research)",
          "HE student enrolments by domicile and region of HE provider in the UK (AY: 21/22)/Ukraine/Postgraduate (research)",
          "HE student enrolments by domicile and region of HE provider in the UK (AY: 21/22)/Bulgaria/Postgraduate (taught)",
          "HE student enrolments by domicile and region of HE provider in the UK (AY: 21/22)/Greece/Postgraduate (taught)",
          "HE student enrolments by domicile and region of HE provider in the UK (AY: 21/22)/Russia/Postgraduate (taught)",
          "HE student enrolments by domicile and region of HE provider in the UK (AY: 21/22)/Turkey/Postgraduate (taught)",
          "HE student enrolments by domicile and region of HE provider in the UK (AY: 21/22)/Ukraine/Postgraduate (taught)",
          "HE student enrolments by domicile and region of HE provider in the UK (AY: 21/22)/Bulgaria/First degree",
          "HE student enrolments by domicile and region of HE provider in the UK (AY: 21/22)/Greece/First degree",
          "HE student enrolments by domicile and region of HE provider in the UK (AY: 21/22)/Russia/First degree",
          "HE student enrolments by domicile and region of HE provider in the UK (AY: 21/22)/Turkey/First degree",
          "HE student enrolments by domicile and region of HE provider in the UK (AY: 21/22)/Ukraine/First degree",
          "HE student enrolments by domicile and region of HE provider in the UK (AY: 21/22)/Bulgaria/Other undergraduate",
          "HE student enrolments by domicile and region of HE provider in the UK (AY: 21/22)/Greece/Other undergraduate",
          "HE student enrolments by domicile and region of HE provider in the UK (AY: 21/22)/Bulgaria/Postgraduate (research)",
          "HE student enrolments by domicile and region of HE provider in the UK (AY: 21/22)/Greece/Postgraduate (research)",
          "HE student enrolments by domicile and region of HE provider in the UK (AY: 21/22)/Turkey/Postgraduate (research)",
          "HE student enrolments by domicile and region of HE provider in the UK (AY: 21/22)/Ukraine/Postgraduate (research)",
          "HE student enrolments by domicile and region of HE provider in the UK (AY: 21/22)/Bulgaria/Postgraduate (taught)",
          "HE student enrolments by domicile and region of HE provider in the UK (AY: 21/22)/Greece/Postgraduate (taught)",
          "HE student enrolments by domicile and region of HE provider in the UK (AY: 21/22)/Russia/Postgraduate (taught)",
          "HE student enrolments by domicile and region of HE provider in the UK (AY: 21/22)/Turkey/Postgraduate (taught)",
          "HE student enrolments by domicile and region of HE provider in the UK (AY: 21/22)/Ukraine/Postgraduate (taught)",
          "HE student enrolments by domicile and region of HE provider in the UK (AY: 21/22)/Bulgaria/First degree",
          "HE student enrolments by domicile and region of HE provider in the UK (AY: 21/22)/Greece/First degree",
          "HE student enrolments by domicile and region of HE provider in the UK (AY: 21/22)/Russia/First degree",
          "HE student enrolments by domicile and region of HE provider in the UK (AY: 21/22)/Turkey/First degree",
          "HE student enrolments by domicile and region of HE provider in the UK (AY: 21/22)/Ukraine/First degree",
          "HE student enrolments by domicile and region of HE provider in the UK (AY: 21/22)/Bulgaria/Other undergraduate",
          "HE student enrolments by domicile and region of HE provider in the UK (AY: 21/22)/Greece/Other undergraduate",
          "HE student enrolments by domicile and region of HE provider in the UK (AY: 21/22)/Russia/Other undergraduate",
          "HE student enrolments by domicile and region of HE provider in the UK (AY: 21/22)/Bulgaria/Postgraduate (research)",
          "HE student enrolments by domicile and region of HE provider in the UK (AY: 21/22)/Greece/Postgraduate (research)",
          "HE student enrolments by domicile and region of HE provider in the UK (AY: 21/22)/Russia/Postgraduate (research)",
          "HE student enrolments by domicile and region of HE provider in the UK (AY: 21/22)/Turkey/Postgraduate (research)",
          "HE student enrolments by domicile and region of HE provider in the UK (AY: 21/22)/Ukraine/Postgraduate (research)",
          "HE student enrolments by domicile and region of HE provider in the UK (AY: 21/22)/Bulgaria/Postgraduate (taught)",
          "HE student enrolments by domicile and region of HE provider in the UK (AY: 21/22)/Greece/Postgraduate (taught)",
          "HE student enrolments by domicile and region of HE provider in the UK (AY: 21/22)/Russia/Postgraduate (taught)",
          "HE student enrolments by domicile and region of HE provider in the UK (AY: 21/22)/Turkey/Postgraduate (taught)",
          "HE student enrolments by domicile and region of HE provider in the UK (AY: 21/22)/Ukraine/Postgraduate (taught)",
          "HE student enrolments by domicile and region of HE provider in the UK (AY: 21/22)/Bulgaria/First degree",
          "HE student enrolments by domicile and region of HE provider in the UK (AY: 21/22)/Greece/First degree",
          "HE student enrolments by domicile and region of HE provider in the UK (AY: 21/22)/Russia/First degree",
          "HE student enrolments by domicile and region of HE provider in the UK (AY: 21/22)/Turkey/First degree",
          "HE student enrolments by domicile and region of HE provider in the UK (AY: 21/22)/Ukraine/First degree",
          "HE student enrolments by domicile and region of HE provider in the UK (AY: 21/22)/Greece/Other undergraduate",
          "HE student enrolments by domicile and region of HE provider in the UK (AY: 21/22)/Bulgaria/Postgraduate (research)",
          "HE student enrolments by domicile and region of HE provider in the UK (AY: 21/22)/Greece/Postgraduate (research)",
          "HE student enrolments by domicile and region of HE provider in the UK (AY: 21/22)/Russia/Postgraduate (research)",
          "HE student enrolments by domicile and region of HE provider in the UK (AY: 21/22)/Turkey/Postgraduate (research)",
          "HE student enrolments by domicile and region of HE provider in the UK (AY: 21/22)/Ukraine/Postgraduate (research)",
          "HE student enrolments by domicile and region of HE provider in the UK (AY: 21/22)/Bulgaria/Postgraduate (taught)",
          "HE student enrolments by domicile and region of HE provider in the UK (AY: 21/22)/Greece/Postgraduate (taught)",
          "HE student enrolments by domicile and region of HE provider in the UK (AY: 21/22)/Russia/Postgraduate (taught)",
          "HE student enrolments by domicile and region of HE provider in the UK (AY: 21/22)/Turkey/Postgraduate (taught)",
          "HE student enrolments by domicile and region of HE provider in the UK (AY: 21/22)/Ukraine/Postgraduate (taught)",
          "HE student enrolments by domicile and region of HE provider in the UK (AY: 21/22)/Bulgaria",
          "HE student enrolments by domicile and region of HE provider in the UK (AY: 21/22)/Greece",
          "HE student enrolments by domicile and region of HE provider in the UK (AY: 21/22)/Russia",
          "HE student enrolments by domicile and region of HE provider in the UK (AY: 21/22)/Turkey",
          "HE student enrolments by domicile and region of HE provider in the UK (AY: 21/22)/Ukraine",
          "HE student enrolments by domicile and region of HE provider in the UK (AY: 21/22)/Bulgaria",
          "HE student enrolments by domicile and region of HE provider in the UK (AY: 21/22)/Greece",
          "HE student enrolments by domicile and region of HE provider in the UK (AY: 21/22)/Russia",
          "HE student enrolments by domicile and region of HE provider in the UK (AY: 21/22)/Turkey",
          "HE student enrolments by domicile and region of HE provider in the UK (AY: 21/22)/Ukraine",
          "HE student enrolments by domicile and region of HE provider in the UK (AY: 21/22)/Bulgaria",
          "HE student enrolments by domicile and region of HE provider in the UK (AY: 21/22)/Greece",
          "HE student enrolments by domicile and region of HE provider in the UK (AY: 21/22)/Russia",
          "HE student enrolments by domicile and region of HE provider in the UK (AY: 21/22)/Turkey",
          "HE student enrolments by domicile and region of HE provider in the UK (AY: 21/22)/Ukraine",
          "HE student enrolments by domicile and region of HE provider in the UK (AY: 21/22)/Bulgaria",
          "HE student enrolments by domicile and region of HE provider in the UK (AY: 21/22)/Greece",
          "HE student enrolments by domicile and region of HE provider in the UK (AY: 21/22)/Russia",
          "HE student enrolments by domicile and region of HE provider in the UK (AY: 21/22)/Turkey",
          "HE student enrolments by domicile and region of HE provider in the UK (AY: 21/22)/Ukraine",
          "HE student enrolments by domicile and region of HE provider in the UK (AY: 21/22)",
          "HE student enrolments by domicile and region of HE provider in the UK (AY: 21/22)",
          "HE student enrolments by domicile and region of HE provider in the UK (AY: 21/22)",
          "HE student enrolments by domicile and region of HE provider in the UK (AY: 21/22)",
          "HE student enrolments by domicile and region of HE provider in the UK (AY: 21/22)",
          ""
         ],
         "textinfo": "label+text+value",
         "type": "treemap",
         "values": [
          145,
          175,
          70,
          150,
          20,
          10,
          50,
          5,
          70,
          5,
          15,
          35,
          20,
          70,
          5,
          250,
          240,
          85,
          75,
          35,
          5,
          10,
          10,
          5,
          10,
          95,
          35,
          65,
          10,
          65,
          35,
          115,
          10,
          775,
          975,
          980,
          945,
          260,
          10,
          10,
          45,
          70,
          30,
          30,
          255,
          60,
          210,
          5,
          120,
          700,
          510,
          730,
          115,
          60,
          360,
          60,
          65,
          20,
          5,
          10,
          5,
          5,
          30,
          10,
          40,
          5,
          90,
          20,
          40,
          5,
          305,
          215,
          110,
          145,
          30,
          10,
          85,
          20,
          80,
          5,
          10,
          95,
          40,
          55,
          5,
          5,
          5,
          5,
          10,
          15,
          5,
          10,
          25,
          5,
          635,
          540,
          155,
          115,
          35,
          5,
          10,
          20,
          10,
          5,
          15,
          155,
          20,
          135,
          10,
          30,
          245,
          110,
          140,
          35,
          590,
          825,
          245,
          235,
          55,
          5,
          15,
          20,
          5,
          15,
          130,
          40,
          150,
          5,
          30,
          130,
          90,
          235,
          15,
          255,
          425,
          175,
          175,
          50,
          10,
          5,
          10,
          5,
          40,
          10,
          95,
          5,
          15,
          70,
          35,
          135,
          10,
          120,
          180,
          35,
          15,
          5,
          5,
          5,
          5,
          20,
          40,
          5,
          15,
          70,
          10,
          60,
          5,
          245,
          245,
          70,
          95,
          35,
          5,
          5,
          5,
          5,
          75,
          20,
          65,
          5,
          10,
          75,
          45,
          85,
          15,
          180,
          220,
          60,
          65,
          20,
          5,
          5,
          50,
          5,
          70,
          5,
          20,
          65,
          25,
          65,
          10,
          3565,
          4405,
          2050,
          2080,
          565,
          35,
          50,
          115,
          105,
          60,
          115,
          995,
          225,
          1035,
          50,
          280,
          1645,
          950,
          1755,
          235,
          3995,
          7095,
          3340,
          4975,
          910,
          20315
         ]
        }
       ],
       "layout": {
        "height": 1200,
        "legend": {
         "tracegroupgap": 0
        },
        "margin": {
         "t": 60
        },
        "template": {
         "data": {
          "bar": [
           {
            "error_x": {
             "color": "#2a3f5f"
            },
            "error_y": {
             "color": "#2a3f5f"
            },
            "marker": {
             "line": {
              "color": "white",
              "width": 0.5
             },
             "pattern": {
              "fillmode": "overlay",
              "size": 10,
              "solidity": 0.2
             }
            },
            "type": "bar"
           }
          ],
          "barpolar": [
           {
            "marker": {
             "line": {
              "color": "white",
              "width": 0.5
             },
             "pattern": {
              "fillmode": "overlay",
              "size": 10,
              "solidity": 0.2
             }
            },
            "type": "barpolar"
           }
          ],
          "carpet": [
           {
            "aaxis": {
             "endlinecolor": "#2a3f5f",
             "gridcolor": "#C8D4E3",
             "linecolor": "#C8D4E3",
             "minorgridcolor": "#C8D4E3",
             "startlinecolor": "#2a3f5f"
            },
            "baxis": {
             "endlinecolor": "#2a3f5f",
             "gridcolor": "#C8D4E3",
             "linecolor": "#C8D4E3",
             "minorgridcolor": "#C8D4E3",
             "startlinecolor": "#2a3f5f"
            },
            "type": "carpet"
           }
          ],
          "choropleth": [
           {
            "colorbar": {
             "outlinewidth": 0,
             "ticks": ""
            },
            "type": "choropleth"
           }
          ],
          "contour": [
           {
            "colorbar": {
             "outlinewidth": 0,
             "ticks": ""
            },
            "colorscale": [
             [
              0,
              "#0d0887"
             ],
             [
              0.1111111111111111,
              "#46039f"
             ],
             [
              0.2222222222222222,
              "#7201a8"
             ],
             [
              0.3333333333333333,
              "#9c179e"
             ],
             [
              0.4444444444444444,
              "#bd3786"
             ],
             [
              0.5555555555555556,
              "#d8576b"
             ],
             [
              0.6666666666666666,
              "#ed7953"
             ],
             [
              0.7777777777777778,
              "#fb9f3a"
             ],
             [
              0.8888888888888888,
              "#fdca26"
             ],
             [
              1,
              "#f0f921"
             ]
            ],
            "type": "contour"
           }
          ],
          "contourcarpet": [
           {
            "colorbar": {
             "outlinewidth": 0,
             "ticks": ""
            },
            "type": "contourcarpet"
           }
          ],
          "heatmap": [
           {
            "colorbar": {
             "outlinewidth": 0,
             "ticks": ""
            },
            "colorscale": [
             [
              0,
              "#0d0887"
             ],
             [
              0.1111111111111111,
              "#46039f"
             ],
             [
              0.2222222222222222,
              "#7201a8"
             ],
             [
              0.3333333333333333,
              "#9c179e"
             ],
             [
              0.4444444444444444,
              "#bd3786"
             ],
             [
              0.5555555555555556,
              "#d8576b"
             ],
             [
              0.6666666666666666,
              "#ed7953"
             ],
             [
              0.7777777777777778,
              "#fb9f3a"
             ],
             [
              0.8888888888888888,
              "#fdca26"
             ],
             [
              1,
              "#f0f921"
             ]
            ],
            "type": "heatmap"
           }
          ],
          "heatmapgl": [
           {
            "colorbar": {
             "outlinewidth": 0,
             "ticks": ""
            },
            "colorscale": [
             [
              0,
              "#0d0887"
             ],
             [
              0.1111111111111111,
              "#46039f"
             ],
             [
              0.2222222222222222,
              "#7201a8"
             ],
             [
              0.3333333333333333,
              "#9c179e"
             ],
             [
              0.4444444444444444,
              "#bd3786"
             ],
             [
              0.5555555555555556,
              "#d8576b"
             ],
             [
              0.6666666666666666,
              "#ed7953"
             ],
             [
              0.7777777777777778,
              "#fb9f3a"
             ],
             [
              0.8888888888888888,
              "#fdca26"
             ],
             [
              1,
              "#f0f921"
             ]
            ],
            "type": "heatmapgl"
           }
          ],
          "histogram": [
           {
            "marker": {
             "pattern": {
              "fillmode": "overlay",
              "size": 10,
              "solidity": 0.2
             }
            },
            "type": "histogram"
           }
          ],
          "histogram2d": [
           {
            "colorbar": {
             "outlinewidth": 0,
             "ticks": ""
            },
            "colorscale": [
             [
              0,
              "#0d0887"
             ],
             [
              0.1111111111111111,
              "#46039f"
             ],
             [
              0.2222222222222222,
              "#7201a8"
             ],
             [
              0.3333333333333333,
              "#9c179e"
             ],
             [
              0.4444444444444444,
              "#bd3786"
             ],
             [
              0.5555555555555556,
              "#d8576b"
             ],
             [
              0.6666666666666666,
              "#ed7953"
             ],
             [
              0.7777777777777778,
              "#fb9f3a"
             ],
             [
              0.8888888888888888,
              "#fdca26"
             ],
             [
              1,
              "#f0f921"
             ]
            ],
            "type": "histogram2d"
           }
          ],
          "histogram2dcontour": [
           {
            "colorbar": {
             "outlinewidth": 0,
             "ticks": ""
            },
            "colorscale": [
             [
              0,
              "#0d0887"
             ],
             [
              0.1111111111111111,
              "#46039f"
             ],
             [
              0.2222222222222222,
              "#7201a8"
             ],
             [
              0.3333333333333333,
              "#9c179e"
             ],
             [
              0.4444444444444444,
              "#bd3786"
             ],
             [
              0.5555555555555556,
              "#d8576b"
             ],
             [
              0.6666666666666666,
              "#ed7953"
             ],
             [
              0.7777777777777778,
              "#fb9f3a"
             ],
             [
              0.8888888888888888,
              "#fdca26"
             ],
             [
              1,
              "#f0f921"
             ]
            ],
            "type": "histogram2dcontour"
           }
          ],
          "mesh3d": [
           {
            "colorbar": {
             "outlinewidth": 0,
             "ticks": ""
            },
            "type": "mesh3d"
           }
          ],
          "parcoords": [
           {
            "line": {
             "colorbar": {
              "outlinewidth": 0,
              "ticks": ""
             }
            },
            "type": "parcoords"
           }
          ],
          "pie": [
           {
            "automargin": true,
            "type": "pie"
           }
          ],
          "scatter": [
           {
            "fillpattern": {
             "fillmode": "overlay",
             "size": 10,
             "solidity": 0.2
            },
            "type": "scatter"
           }
          ],
          "scatter3d": [
           {
            "line": {
             "colorbar": {
              "outlinewidth": 0,
              "ticks": ""
             }
            },
            "marker": {
             "colorbar": {
              "outlinewidth": 0,
              "ticks": ""
             }
            },
            "type": "scatter3d"
           }
          ],
          "scattercarpet": [
           {
            "marker": {
             "colorbar": {
              "outlinewidth": 0,
              "ticks": ""
             }
            },
            "type": "scattercarpet"
           }
          ],
          "scattergeo": [
           {
            "marker": {
             "colorbar": {
              "outlinewidth": 0,
              "ticks": ""
             }
            },
            "type": "scattergeo"
           }
          ],
          "scattergl": [
           {
            "marker": {
             "colorbar": {
              "outlinewidth": 0,
              "ticks": ""
             }
            },
            "type": "scattergl"
           }
          ],
          "scattermapbox": [
           {
            "marker": {
             "colorbar": {
              "outlinewidth": 0,
              "ticks": ""
             }
            },
            "type": "scattermapbox"
           }
          ],
          "scatterpolar": [
           {
            "marker": {
             "colorbar": {
              "outlinewidth": 0,
              "ticks": ""
             }
            },
            "type": "scatterpolar"
           }
          ],
          "scatterpolargl": [
           {
            "marker": {
             "colorbar": {
              "outlinewidth": 0,
              "ticks": ""
             }
            },
            "type": "scatterpolargl"
           }
          ],
          "scatterternary": [
           {
            "marker": {
             "colorbar": {
              "outlinewidth": 0,
              "ticks": ""
             }
            },
            "type": "scatterternary"
           }
          ],
          "surface": [
           {
            "colorbar": {
             "outlinewidth": 0,
             "ticks": ""
            },
            "colorscale": [
             [
              0,
              "#0d0887"
             ],
             [
              0.1111111111111111,
              "#46039f"
             ],
             [
              0.2222222222222222,
              "#7201a8"
             ],
             [
              0.3333333333333333,
              "#9c179e"
             ],
             [
              0.4444444444444444,
              "#bd3786"
             ],
             [
              0.5555555555555556,
              "#d8576b"
             ],
             [
              0.6666666666666666,
              "#ed7953"
             ],
             [
              0.7777777777777778,
              "#fb9f3a"
             ],
             [
              0.8888888888888888,
              "#fdca26"
             ],
             [
              1,
              "#f0f921"
             ]
            ],
            "type": "surface"
           }
          ],
          "table": [
           {
            "cells": {
             "fill": {
              "color": "#EBF0F8"
             },
             "line": {
              "color": "white"
             }
            },
            "header": {
             "fill": {
              "color": "#C8D4E3"
             },
             "line": {
              "color": "white"
             }
            },
            "type": "table"
           }
          ]
         },
         "layout": {
          "annotationdefaults": {
           "arrowcolor": "#2a3f5f",
           "arrowhead": 0,
           "arrowwidth": 1
          },
          "autotypenumbers": "strict",
          "coloraxis": {
           "colorbar": {
            "outlinewidth": 0,
            "ticks": ""
           }
          },
          "colorscale": {
           "diverging": [
            [
             0,
             "#8e0152"
            ],
            [
             0.1,
             "#c51b7d"
            ],
            [
             0.2,
             "#de77ae"
            ],
            [
             0.3,
             "#f1b6da"
            ],
            [
             0.4,
             "#fde0ef"
            ],
            [
             0.5,
             "#f7f7f7"
            ],
            [
             0.6,
             "#e6f5d0"
            ],
            [
             0.7,
             "#b8e186"
            ],
            [
             0.8,
             "#7fbc41"
            ],
            [
             0.9,
             "#4d9221"
            ],
            [
             1,
             "#276419"
            ]
           ],
           "sequential": [
            [
             0,
             "#0d0887"
            ],
            [
             0.1111111111111111,
             "#46039f"
            ],
            [
             0.2222222222222222,
             "#7201a8"
            ],
            [
             0.3333333333333333,
             "#9c179e"
            ],
            [
             0.4444444444444444,
             "#bd3786"
            ],
            [
             0.5555555555555556,
             "#d8576b"
            ],
            [
             0.6666666666666666,
             "#ed7953"
            ],
            [
             0.7777777777777778,
             "#fb9f3a"
            ],
            [
             0.8888888888888888,
             "#fdca26"
            ],
            [
             1,
             "#f0f921"
            ]
           ],
           "sequentialminus": [
            [
             0,
             "#0d0887"
            ],
            [
             0.1111111111111111,
             "#46039f"
            ],
            [
             0.2222222222222222,
             "#7201a8"
            ],
            [
             0.3333333333333333,
             "#9c179e"
            ],
            [
             0.4444444444444444,
             "#bd3786"
            ],
            [
             0.5555555555555556,
             "#d8576b"
            ],
            [
             0.6666666666666666,
             "#ed7953"
            ],
            [
             0.7777777777777778,
             "#fb9f3a"
            ],
            [
             0.8888888888888888,
             "#fdca26"
            ],
            [
             1,
             "#f0f921"
            ]
           ]
          },
          "colorway": [
           "#636efa",
           "#EF553B",
           "#00cc96",
           "#ab63fa",
           "#FFA15A",
           "#19d3f3",
           "#FF6692",
           "#B6E880",
           "#FF97FF",
           "#FECB52"
          ],
          "font": {
           "color": "#2a3f5f"
          },
          "geo": {
           "bgcolor": "white",
           "lakecolor": "white",
           "landcolor": "white",
           "showlakes": true,
           "showland": true,
           "subunitcolor": "#C8D4E3"
          },
          "hoverlabel": {
           "align": "left"
          },
          "hovermode": "closest",
          "mapbox": {
           "style": "light"
          },
          "paper_bgcolor": "white",
          "plot_bgcolor": "white",
          "polar": {
           "angularaxis": {
            "gridcolor": "#EBF0F8",
            "linecolor": "#EBF0F8",
            "ticks": ""
           },
           "bgcolor": "white",
           "radialaxis": {
            "gridcolor": "#EBF0F8",
            "linecolor": "#EBF0F8",
            "ticks": ""
           }
          },
          "scene": {
           "xaxis": {
            "backgroundcolor": "white",
            "gridcolor": "#DFE8F3",
            "gridwidth": 2,
            "linecolor": "#EBF0F8",
            "showbackground": true,
            "ticks": "",
            "zerolinecolor": "#EBF0F8"
           },
           "yaxis": {
            "backgroundcolor": "white",
            "gridcolor": "#DFE8F3",
            "gridwidth": 2,
            "linecolor": "#EBF0F8",
            "showbackground": true,
            "ticks": "",
            "zerolinecolor": "#EBF0F8"
           },
           "zaxis": {
            "backgroundcolor": "white",
            "gridcolor": "#DFE8F3",
            "gridwidth": 2,
            "linecolor": "#EBF0F8",
            "showbackground": true,
            "ticks": "",
            "zerolinecolor": "#EBF0F8"
           }
          },
          "shapedefaults": {
           "line": {
            "color": "#2a3f5f"
           }
          },
          "ternary": {
           "aaxis": {
            "gridcolor": "#DFE8F3",
            "linecolor": "#A2B1C6",
            "ticks": ""
           },
           "baxis": {
            "gridcolor": "#DFE8F3",
            "linecolor": "#A2B1C6",
            "ticks": ""
           },
           "bgcolor": "white",
           "caxis": {
            "gridcolor": "#DFE8F3",
            "linecolor": "#A2B1C6",
            "ticks": ""
           }
          },
          "title": {
           "x": 0.05
          },
          "xaxis": {
           "automargin": true,
           "gridcolor": "#EBF0F8",
           "linecolor": "#EBF0F8",
           "ticks": "",
           "title": {
            "standoff": 15
           },
           "zerolinecolor": "#EBF0F8",
           "zerolinewidth": 2
          },
          "yaxis": {
           "automargin": true,
           "gridcolor": "#EBF0F8",
           "linecolor": "#EBF0F8",
           "ticks": "",
           "title": {
            "standoff": 15
           },
           "zerolinecolor": "#EBF0F8",
           "zerolinewidth": 2
          }
         }
        },
        "width": 1000
       }
      },
      "text/html": [
       "<div>                            <div id=\"76c1f8e3-451b-4830-862e-de783da657ee\" class=\"plotly-graph-div\" style=\"height:1200px; width:1000px;\"></div>            <script type=\"text/javascript\">                require([\"plotly\"], function(Plotly) {                    window.PLOTLYENV=window.PLOTLYENV || {};                                    if (document.getElementById(\"76c1f8e3-451b-4830-862e-de783da657ee\")) {                    Plotly.newPlot(                        \"76c1f8e3-451b-4830-862e-de783da657ee\",                        [{\"branchvalues\":\"total\",\"domain\":{\"x\":[0.0,1.0],\"y\":[0.0,1.0]},\"hovertemplate\":\"Label: %{label}<br>Number: %{value}<br>Parent: %{parent}<br>Id: %{id}<extra></extra>\",\"ids\":[\"HE student enrolments by domicile and region of HE provider in the UK (AY: 21/22)/Bulgaria/First degree/East Midlands\",\"HE student enrolments by domicile and region of HE provider in the UK (AY: 21/22)/Greece/First degree/East Midlands\",\"HE student enrolments by domicile and region of HE provider in the UK (AY: 21/22)/Russia/First degree/East Midlands\",\"HE student enrolments by domicile and region of HE provider in the UK (AY: 21/22)/Turkey/First degree/East Midlands\",\"HE student enrolments by domicile and region of HE provider in the UK (AY: 21/22)/Ukraine/First degree/East Midlands\",\"HE student enrolments by domicile and region of HE provider in the UK (AY: 21/22)/Bulgaria/Postgraduate (research)/East Midlands\",\"HE student enrolments by domicile and region of HE provider in the UK (AY: 21/22)/Greece/Postgraduate (research)/East Midlands\",\"HE student enrolments by domicile and region of HE provider in the UK (AY: 21/22)/Russia/Postgraduate (research)/East Midlands\",\"HE student enrolments by domicile and region of HE provider in the UK (AY: 21/22)/Turkey/Postgraduate (research)/East Midlands\",\"HE student enrolments by domicile and region of HE provider in the UK (AY: 21/22)/Ukraine/Postgraduate (research)/East Midlands\",\"HE student enrolments by domicile and region of HE provider in the UK (AY: 21/22)/Bulgaria/Postgraduate (taught)/East Midlands\",\"HE student enrolments by domicile and region of HE provider in the UK (AY: 21/22)/Greece/Postgraduate (taught)/East Midlands\",\"HE student enrolments by domicile and region of HE provider in the UK (AY: 21/22)/Russia/Postgraduate (taught)/East Midlands\",\"HE student enrolments by domicile and region of HE provider in the UK (AY: 21/22)/Turkey/Postgraduate (taught)/East Midlands\",\"HE student enrolments by domicile and region of HE provider in the UK (AY: 21/22)/Ukraine/Postgraduate (taught)/East Midlands\",\"HE student enrolments by domicile and region of HE provider in the UK (AY: 21/22)/Bulgaria/First degree/East of England\",\"HE student enrolments by domicile and region of HE provider in the UK (AY: 21/22)/Greece/First degree/East of England\",\"HE student enrolments by domicile and region of HE provider in the UK (AY: 21/22)/Russia/First degree/East of England\",\"HE student enrolments by domicile and region of HE provider in the UK (AY: 21/22)/Turkey/First degree/East of England\",\"HE student enrolments by domicile and region of HE provider in the UK (AY: 21/22)/Ukraine/First degree/East of England\",\"HE student enrolments by domicile and region of HE provider in the UK (AY: 21/22)/Bulgaria/Other undergraduate/East of England\",\"HE student enrolments by domicile and region of HE provider in the UK (AY: 21/22)/Greece/Other undergraduate/East of England\",\"HE student enrolments by domicile and region of HE provider in the UK (AY: 21/22)/Russia/Other undergraduate/East of England\",\"HE student enrolments by domicile and region of HE provider in the UK (AY: 21/22)/Ukraine/Other undergraduate/East of England\",\"HE student enrolments by domicile and region of HE provider in the UK (AY: 21/22)/Bulgaria/Postgraduate (research)/East of England\",\"HE student enrolments by domicile and region of HE provider in the UK (AY: 21/22)/Greece/Postgraduate (research)/East of England\",\"HE student enrolments by domicile and region of HE provider in the UK (AY: 21/22)/Russia/Postgraduate (research)/East of England\",\"HE student enrolments by domicile and region of HE provider in the UK (AY: 21/22)/Turkey/Postgraduate (research)/East of England\",\"HE student enrolments by domicile and region of HE provider in the UK (AY: 21/22)/Bulgaria/Postgraduate (taught)/East of England\",\"HE student enrolments by domicile and region of HE provider in the UK (AY: 21/22)/Greece/Postgraduate (taught)/East of England\",\"HE student enrolments by domicile and region of HE provider in the UK (AY: 21/22)/Russia/Postgraduate (taught)/East of England\",\"HE student enrolments by domicile and region of HE provider in the UK (AY: 21/22)/Turkey/Postgraduate (taught)/East of England\",\"HE student enrolments by domicile and region of HE provider in the UK (AY: 21/22)/Ukraine/Postgraduate (taught)/East of England\",\"HE student enrolments by domicile and region of HE provider in the UK (AY: 21/22)/Bulgaria/First degree/London\",\"HE student enrolments by domicile and region of HE provider in the UK (AY: 21/22)/Greece/First degree/London\",\"HE student enrolments by domicile and region of HE provider in the UK (AY: 21/22)/Russia/First degree/London\",\"HE student enrolments by domicile and region of HE provider in the UK (AY: 21/22)/Turkey/First degree/London\",\"HE student enrolments by domicile and region of HE provider in the UK (AY: 21/22)/Ukraine/First degree/London\",\"HE student enrolments by domicile and region of HE provider in the UK (AY: 21/22)/Bulgaria/Other undergraduate/London\",\"HE student enrolments by domicile and region of HE provider in the UK (AY: 21/22)/Greece/Other undergraduate/London\",\"HE student enrolments by domicile and region of HE provider in the UK (AY: 21/22)/Russia/Other undergraduate/London\",\"HE student enrolments by domicile and region of HE provider in the UK (AY: 21/22)/Turkey/Other undergraduate/London\",\"HE student enrolments by domicile and region of HE provider in the UK (AY: 21/22)/Ukraine/Other undergraduate/London\",\"HE student enrolments by domicile and region of HE provider in the UK (AY: 21/22)/Bulgaria/Postgraduate (research)/London\",\"HE student enrolments by domicile and region of HE provider in the UK (AY: 21/22)/Greece/Postgraduate (research)/London\",\"HE student enrolments by domicile and region of HE provider in the UK (AY: 21/22)/Russia/Postgraduate (research)/London\",\"HE student enrolments by domicile and region of HE provider in the UK (AY: 21/22)/Turkey/Postgraduate (research)/London\",\"HE student enrolments by domicile and region of HE provider in the UK (AY: 21/22)/Ukraine/Postgraduate (research)/London\",\"HE student enrolments by domicile and region of HE provider in the UK (AY: 21/22)/Bulgaria/Postgraduate (taught)/London\",\"HE student enrolments by domicile and region of HE provider in the UK (AY: 21/22)/Greece/Postgraduate (taught)/London\",\"HE student enrolments by domicile and region of HE provider in the UK (AY: 21/22)/Russia/Postgraduate (taught)/London\",\"HE student enrolments by domicile and region of HE provider in the UK (AY: 21/22)/Turkey/Postgraduate (taught)/London\",\"HE student enrolments by domicile and region of HE provider in the UK (AY: 21/22)/Ukraine/Postgraduate (taught)/London\",\"HE student enrolments by domicile and region of HE provider in the UK (AY: 21/22)/Bulgaria/First degree/North East\",\"HE student enrolments by domicile and region of HE provider in the UK (AY: 21/22)/Greece/First degree/North East\",\"HE student enrolments by domicile and region of HE provider in the UK (AY: 21/22)/Russia/First degree/North East\",\"HE student enrolments by domicile and region of HE provider in the UK (AY: 21/22)/Turkey/First degree/North East\",\"HE student enrolments by domicile and region of HE provider in the UK (AY: 21/22)/Ukraine/First degree/North East\",\"HE student enrolments by domicile and region of HE provider in the UK (AY: 21/22)/Bulgaria/Other undergraduate/North East\",\"HE student enrolments by domicile and region of HE provider in the UK (AY: 21/22)/Russia/Other undergraduate/North East\",\"HE student enrolments by domicile and region of HE provider in the UK (AY: 21/22)/Ukraine/Other undergraduate/North East\",\"HE student enrolments by domicile and region of HE provider in the UK (AY: 21/22)/Bulgaria/Postgraduate (research)/North East\",\"HE student enrolments by domicile and region of HE provider in the UK (AY: 21/22)/Greece/Postgraduate (research)/North East\",\"HE student enrolments by domicile and region of HE provider in the UK (AY: 21/22)/Russia/Postgraduate (research)/North East\",\"HE student enrolments by domicile and region of HE provider in the UK (AY: 21/22)/Turkey/Postgraduate (research)/North East\",\"HE student enrolments by domicile and region of HE provider in the UK (AY: 21/22)/Bulgaria/Postgraduate (taught)/North East\",\"HE student enrolments by domicile and region of HE provider in the UK (AY: 21/22)/Greece/Postgraduate (taught)/North East\",\"HE student enrolments by domicile and region of HE provider in the UK (AY: 21/22)/Russia/Postgraduate (taught)/North East\",\"HE student enrolments by domicile and region of HE provider in the UK (AY: 21/22)/Turkey/Postgraduate (taught)/North East\",\"HE student enrolments by domicile and region of HE provider in the UK (AY: 21/22)/Ukraine/Postgraduate (taught)/North East\",\"HE student enrolments by domicile and region of HE provider in the UK (AY: 21/22)/Bulgaria/First degree/North West\",\"HE student enrolments by domicile and region of HE provider in the UK (AY: 21/22)/Greece/First degree/North West\",\"HE student enrolments by domicile and region of HE provider in the UK (AY: 21/22)/Russia/First degree/North West\",\"HE student enrolments by domicile and region of HE provider in the UK (AY: 21/22)/Turkey/First degree/North West\",\"HE student enrolments by domicile and region of HE provider in the UK (AY: 21/22)/Ukraine/First degree/North West\",\"HE student enrolments by domicile and region of HE provider in the UK (AY: 21/22)/Bulgaria/Postgraduate (research)/North West\",\"HE student enrolments by domicile and region of HE provider in the UK (AY: 21/22)/Greece/Postgraduate (research)/North West\",\"HE student enrolments by domicile and region of HE provider in the UK (AY: 21/22)/Russia/Postgraduate (research)/North West\",\"HE student enrolments by domicile and region of HE provider in the UK (AY: 21/22)/Turkey/Postgraduate (research)/North West\",\"HE student enrolments by domicile and region of HE provider in the UK (AY: 21/22)/Ukraine/Postgraduate (research)/North West\",\"HE student enrolments by domicile and region of HE provider in the UK (AY: 21/22)/Bulgaria/Postgraduate (taught)/North West\",\"HE student enrolments by domicile and region of HE provider in the UK (AY: 21/22)/Greece/Postgraduate (taught)/North West\",\"HE student enrolments by domicile and region of HE provider in the UK (AY: 21/22)/Russia/Postgraduate (taught)/North West\",\"HE student enrolments by domicile and region of HE provider in the UK (AY: 21/22)/Turkey/Postgraduate (taught)/North West\",\"HE student enrolments by domicile and region of HE provider in the UK (AY: 21/22)/Ukraine/Postgraduate (taught)/North West\",\"HE student enrolments by domicile and region of HE provider in the UK (AY: 21/22)/Bulgaria/First degree/Northern Ireland\",\"HE student enrolments by domicile and region of HE provider in the UK (AY: 21/22)/Greece/First degree/Northern Ireland\",\"HE student enrolments by domicile and region of HE provider in the UK (AY: 21/22)/Russia/First degree/Northern Ireland\",\"HE student enrolments by domicile and region of HE provider in the UK (AY: 21/22)/Greece/Postgraduate (research)/Northern Ireland\",\"HE student enrolments by domicile and region of HE provider in the UK (AY: 21/22)/Turkey/Postgraduate (research)/Northern Ireland\",\"HE student enrolments by domicile and region of HE provider in the UK (AY: 21/22)/Greece/Postgraduate (taught)/Northern Ireland\",\"HE student enrolments by domicile and region of HE provider in the UK (AY: 21/22)/Russia/Postgraduate (taught)/Northern Ireland\",\"HE student enrolments by domicile and region of HE provider in the UK (AY: 21/22)/Turkey/Postgraduate (taught)/Northern Ireland\",\"HE student enrolments by domicile and region of HE provider in the UK (AY: 21/22)/Ukraine/Postgraduate (taught)/Northern Ireland\",\"HE student enrolments by domicile and region of HE provider in the UK (AY: 21/22)/Bulgaria/First degree/Scotland\",\"HE student enrolments by domicile and region of HE provider in the UK (AY: 21/22)/Greece/First degree/Scotland\",\"HE student enrolments by domicile and region of HE provider in the UK (AY: 21/22)/Russia/First degree/Scotland\",\"HE student enrolments by domicile and region of HE provider in the UK (AY: 21/22)/Turkey/First degree/Scotland\",\"HE student enrolments by domicile and region of HE provider in the UK (AY: 21/22)/Ukraine/First degree/Scotland\",\"HE student enrolments by domicile and region of HE provider in the UK (AY: 21/22)/Bulgaria/Other undergraduate/Scotland\",\"HE student enrolments by domicile and region of HE provider in the UK (AY: 21/22)/Greece/Other undergraduate/Scotland\",\"HE student enrolments by domicile and region of HE provider in the UK (AY: 21/22)/Russia/Other undergraduate/Scotland\",\"HE student enrolments by domicile and region of HE provider in the UK (AY: 21/22)/Turkey/Other undergraduate/Scotland\",\"HE student enrolments by domicile and region of HE provider in the UK (AY: 21/22)/Ukraine/Other undergraduate/Scotland\",\"HE student enrolments by domicile and region of HE provider in the UK (AY: 21/22)/Bulgaria/Postgraduate (research)/Scotland\",\"HE student enrolments by domicile and region of HE provider in the UK (AY: 21/22)/Greece/Postgraduate (research)/Scotland\",\"HE student enrolments by domicile and region of HE provider in the UK (AY: 21/22)/Russia/Postgraduate (research)/Scotland\",\"HE student enrolments by domicile and region of HE provider in the UK (AY: 21/22)/Turkey/Postgraduate (research)/Scotland\",\"HE student enrolments by domicile and region of HE provider in the UK (AY: 21/22)/Ukraine/Postgraduate (research)/Scotland\",\"HE student enrolments by domicile and region of HE provider in the UK (AY: 21/22)/Bulgaria/Postgraduate (taught)/Scotland\",\"HE student enrolments by domicile and region of HE provider in the UK (AY: 21/22)/Greece/Postgraduate (taught)/Scotland\",\"HE student enrolments by domicile and region of HE provider in the UK (AY: 21/22)/Russia/Postgraduate (taught)/Scotland\",\"HE student enrolments by domicile and region of HE provider in the UK (AY: 21/22)/Turkey/Postgraduate (taught)/Scotland\",\"HE student enrolments by domicile and region of HE provider in the UK (AY: 21/22)/Ukraine/Postgraduate (taught)/Scotland\",\"HE student enrolments by domicile and region of HE provider in the UK (AY: 21/22)/Bulgaria/First degree/South East\",\"HE student enrolments by domicile and region of HE provider in the UK (AY: 21/22)/Greece/First degree/South East\",\"HE student enrolments by domicile and region of HE provider in the UK (AY: 21/22)/Russia/First degree/South East\",\"HE student enrolments by domicile and region of HE provider in the UK (AY: 21/22)/Turkey/First degree/South East\",\"HE student enrolments by domicile and region of HE provider in the UK (AY: 21/22)/Ukraine/First degree/South East\",\"HE student enrolments by domicile and region of HE provider in the UK (AY: 21/22)/Greece/Other undergraduate/South East\",\"HE student enrolments by domicile and region of HE provider in the UK (AY: 21/22)/Russia/Other undergraduate/South East\",\"HE student enrolments by domicile and region of HE provider in the UK (AY: 21/22)/Turkey/Other undergraduate/South East\",\"HE student enrolments by domicile and region of HE provider in the UK (AY: 21/22)/Ukraine/Other undergraduate/South East\",\"HE student enrolments by domicile and region of HE provider in the UK (AY: 21/22)/Bulgaria/Postgraduate (research)/South East\",\"HE student enrolments by domicile and region of HE provider in the UK (AY: 21/22)/Greece/Postgraduate (research)/South East\",\"HE student enrolments by domicile and region of HE provider in the UK (AY: 21/22)/Russia/Postgraduate (research)/South East\",\"HE student enrolments by domicile and region of HE provider in the UK (AY: 21/22)/Turkey/Postgraduate (research)/South East\",\"HE student enrolments by domicile and region of HE provider in the UK (AY: 21/22)/Ukraine/Postgraduate (research)/South East\",\"HE student enrolments by domicile and region of HE provider in the UK (AY: 21/22)/Bulgaria/Postgraduate (taught)/South East\",\"HE student enrolments by domicile and region of HE provider in the UK (AY: 21/22)/Greece/Postgraduate (taught)/South East\",\"HE student enrolments by domicile and region of HE provider in the UK (AY: 21/22)/Russia/Postgraduate (taught)/South East\",\"HE student enrolments by domicile and region of HE provider in the UK (AY: 21/22)/Turkey/Postgraduate (taught)/South East\",\"HE student enrolments by domicile and region of HE provider in the UK (AY: 21/22)/Ukraine/Postgraduate (taught)/South East\",\"HE student enrolments by domicile and region of HE provider in the UK (AY: 21/22)/Bulgaria/First degree/South West\",\"HE student enrolments by domicile and region of HE provider in the UK (AY: 21/22)/Greece/First degree/South West\",\"HE student enrolments by domicile and region of HE provider in the UK (AY: 21/22)/Russia/First degree/South West\",\"HE student enrolments by domicile and region of HE provider in the UK (AY: 21/22)/Turkey/First degree/South West\",\"HE student enrolments by domicile and region of HE provider in the UK (AY: 21/22)/Ukraine/First degree/South West\",\"HE student enrolments by domicile and region of HE provider in the UK (AY: 21/22)/Russia/Other undergraduate/South West\",\"HE student enrolments by domicile and region of HE provider in the UK (AY: 21/22)/Turkey/Other undergraduate/South West\",\"HE student enrolments by domicile and region of HE provider in the UK (AY: 21/22)/Ukraine/Other undergraduate/South West\",\"HE student enrolments by domicile and region of HE provider in the UK (AY: 21/22)/Bulgaria/Postgraduate (research)/South West\",\"HE student enrolments by domicile and region of HE provider in the UK (AY: 21/22)/Greece/Postgraduate (research)/South West\",\"HE student enrolments by domicile and region of HE provider in the UK (AY: 21/22)/Russia/Postgraduate (research)/South West\",\"HE student enrolments by domicile and region of HE provider in the UK (AY: 21/22)/Turkey/Postgraduate (research)/South West\",\"HE student enrolments by domicile and region of HE provider in the UK (AY: 21/22)/Ukraine/Postgraduate (research)/South West\",\"HE student enrolments by domicile and region of HE provider in the UK (AY: 21/22)/Bulgaria/Postgraduate (taught)/South West\",\"HE student enrolments by domicile and region of HE provider in the UK (AY: 21/22)/Greece/Postgraduate (taught)/South West\",\"HE student enrolments by domicile and region of HE provider in the UK (AY: 21/22)/Russia/Postgraduate (taught)/South West\",\"HE student enrolments by domicile and region of HE provider in the UK (AY: 21/22)/Turkey/Postgraduate (taught)/South West\",\"HE student enrolments by domicile and region of HE provider in the UK (AY: 21/22)/Ukraine/Postgraduate (taught)/South West\",\"HE student enrolments by domicile and region of HE provider in the UK (AY: 21/22)/Bulgaria/First degree/Wales\",\"HE student enrolments by domicile and region of HE provider in the UK (AY: 21/22)/Greece/First degree/Wales\",\"HE student enrolments by domicile and region of HE provider in the UK (AY: 21/22)/Russia/First degree/Wales\",\"HE student enrolments by domicile and region of HE provider in the UK (AY: 21/22)/Turkey/First degree/Wales\",\"HE student enrolments by domicile and region of HE provider in the UK (AY: 21/22)/Ukraine/First degree/Wales\",\"HE student enrolments by domicile and region of HE provider in the UK (AY: 21/22)/Bulgaria/Other undergraduate/Wales\",\"HE student enrolments by domicile and region of HE provider in the UK (AY: 21/22)/Greece/Other undergraduate/Wales\",\"HE student enrolments by domicile and region of HE provider in the UK (AY: 21/22)/Bulgaria/Postgraduate (research)/Wales\",\"HE student enrolments by domicile and region of HE provider in the UK (AY: 21/22)/Greece/Postgraduate (research)/Wales\",\"HE student enrolments by domicile and region of HE provider in the UK (AY: 21/22)/Turkey/Postgraduate (research)/Wales\",\"HE student enrolments by domicile and region of HE provider in the UK (AY: 21/22)/Ukraine/Postgraduate (research)/Wales\",\"HE student enrolments by domicile and region of HE provider in the UK (AY: 21/22)/Bulgaria/Postgraduate (taught)/Wales\",\"HE student enrolments by domicile and region of HE provider in the UK (AY: 21/22)/Greece/Postgraduate (taught)/Wales\",\"HE student enrolments by domicile and region of HE provider in the UK (AY: 21/22)/Russia/Postgraduate (taught)/Wales\",\"HE student enrolments by domicile and region of HE provider in the UK (AY: 21/22)/Turkey/Postgraduate (taught)/Wales\",\"HE student enrolments by domicile and region of HE provider in the UK (AY: 21/22)/Ukraine/Postgraduate (taught)/Wales\",\"HE student enrolments by domicile and region of HE provider in the UK (AY: 21/22)/Bulgaria/First degree/West Midlands\",\"HE student enrolments by domicile and region of HE provider in the UK (AY: 21/22)/Greece/First degree/West Midlands\",\"HE student enrolments by domicile and region of HE provider in the UK (AY: 21/22)/Russia/First degree/West Midlands\",\"HE student enrolments by domicile and region of HE provider in the UK (AY: 21/22)/Turkey/First degree/West Midlands\",\"HE student enrolments by domicile and region of HE provider in the UK (AY: 21/22)/Ukraine/First degree/West Midlands\",\"HE student enrolments by domicile and region of HE provider in the UK (AY: 21/22)/Bulgaria/Other undergraduate/West Midlands\",\"HE student enrolments by domicile and region of HE provider in the UK (AY: 21/22)/Greece/Other undergraduate/West Midlands\",\"HE student enrolments by domicile and region of HE provider in the UK (AY: 21/22)/Russia/Other undergraduate/West Midlands\",\"HE student enrolments by domicile and region of HE provider in the UK (AY: 21/22)/Bulgaria/Postgraduate (research)/West Midlands\",\"HE student enrolments by domicile and region of HE provider in the UK (AY: 21/22)/Greece/Postgraduate (research)/West Midlands\",\"HE student enrolments by domicile and region of HE provider in the UK (AY: 21/22)/Russia/Postgraduate (research)/West Midlands\",\"HE student enrolments by domicile and region of HE provider in the UK (AY: 21/22)/Turkey/Postgraduate (research)/West Midlands\",\"HE student enrolments by domicile and region of HE provider in the UK (AY: 21/22)/Ukraine/Postgraduate (research)/West Midlands\",\"HE student enrolments by domicile and region of HE provider in the UK (AY: 21/22)/Bulgaria/Postgraduate (taught)/West Midlands\",\"HE student enrolments by domicile and region of HE provider in the UK (AY: 21/22)/Greece/Postgraduate (taught)/West Midlands\",\"HE student enrolments by domicile and region of HE provider in the UK (AY: 21/22)/Russia/Postgraduate (taught)/West Midlands\",\"HE student enrolments by domicile and region of HE provider in the UK (AY: 21/22)/Turkey/Postgraduate (taught)/West Midlands\",\"HE student enrolments by domicile and region of HE provider in the UK (AY: 21/22)/Ukraine/Postgraduate (taught)/West Midlands\",\"HE student enrolments by domicile and region of HE provider in the UK (AY: 21/22)/Bulgaria/First degree/Yorkshire and The Humber\",\"HE student enrolments by domicile and region of HE provider in the UK (AY: 21/22)/Greece/First degree/Yorkshire and The Humber\",\"HE student enrolments by domicile and region of HE provider in the UK (AY: 21/22)/Russia/First degree/Yorkshire and The Humber\",\"HE student enrolments by domicile and region of HE provider in the UK (AY: 21/22)/Turkey/First degree/Yorkshire and The Humber\",\"HE student enrolments by domicile and region of HE provider in the UK (AY: 21/22)/Ukraine/First degree/Yorkshire and The Humber\",\"HE student enrolments by domicile and region of HE provider in the UK (AY: 21/22)/Greece/Other undergraduate/Yorkshire and The Humber\",\"HE student enrolments by domicile and region of HE provider in the UK (AY: 21/22)/Bulgaria/Postgraduate (research)/Yorkshire and The Humber\",\"HE student enrolments by domicile and region of HE provider in the UK (AY: 21/22)/Greece/Postgraduate (research)/Yorkshire and The Humber\",\"HE student enrolments by domicile and region of HE provider in the UK (AY: 21/22)/Russia/Postgraduate (research)/Yorkshire and The Humber\",\"HE student enrolments by domicile and region of HE provider in the UK (AY: 21/22)/Turkey/Postgraduate (research)/Yorkshire and The Humber\",\"HE student enrolments by domicile and region of HE provider in the UK (AY: 21/22)/Ukraine/Postgraduate (research)/Yorkshire and The Humber\",\"HE student enrolments by domicile and region of HE provider in the UK (AY: 21/22)/Bulgaria/Postgraduate (taught)/Yorkshire and The Humber\",\"HE student enrolments by domicile and region of HE provider in the UK (AY: 21/22)/Greece/Postgraduate (taught)/Yorkshire and The Humber\",\"HE student enrolments by domicile and region of HE provider in the UK (AY: 21/22)/Russia/Postgraduate (taught)/Yorkshire and The Humber\",\"HE student enrolments by domicile and region of HE provider in the UK (AY: 21/22)/Turkey/Postgraduate (taught)/Yorkshire and The Humber\",\"HE student enrolments by domicile and region of HE provider in the UK (AY: 21/22)/Ukraine/Postgraduate (taught)/Yorkshire and The Humber\",\"HE student enrolments by domicile and region of HE provider in the UK (AY: 21/22)/Bulgaria/First degree\",\"HE student enrolments by domicile and region of HE provider in the UK (AY: 21/22)/Greece/First degree\",\"HE student enrolments by domicile and region of HE provider in the UK (AY: 21/22)/Russia/First degree\",\"HE student enrolments by domicile and region of HE provider in the UK (AY: 21/22)/Turkey/First degree\",\"HE student enrolments by domicile and region of HE provider in the UK (AY: 21/22)/Ukraine/First degree\",\"HE student enrolments by domicile and region of HE provider in the UK (AY: 21/22)/Bulgaria/Other undergraduate\",\"HE student enrolments by domicile and region of HE provider in the UK (AY: 21/22)/Greece/Other undergraduate\",\"HE student enrolments by domicile and region of HE provider in the UK (AY: 21/22)/Russia/Other undergraduate\",\"HE student enrolments by domicile and region of HE provider in the UK (AY: 21/22)/Turkey/Other undergraduate\",\"HE student enrolments by domicile and region of HE provider in the UK (AY: 21/22)/Ukraine/Other undergraduate\",\"HE student enrolments by domicile and region of HE provider in the UK (AY: 21/22)/Bulgaria/Postgraduate (research)\",\"HE student enrolments by domicile and region of HE provider in the UK (AY: 21/22)/Greece/Postgraduate (research)\",\"HE student enrolments by domicile and region of HE provider in the UK (AY: 21/22)/Russia/Postgraduate (research)\",\"HE student enrolments by domicile and region of HE provider in the UK (AY: 21/22)/Turkey/Postgraduate (research)\",\"HE student enrolments by domicile and region of HE provider in the UK (AY: 21/22)/Ukraine/Postgraduate (research)\",\"HE student enrolments by domicile and region of HE provider in the UK (AY: 21/22)/Bulgaria/Postgraduate (taught)\",\"HE student enrolments by domicile and region of HE provider in the UK (AY: 21/22)/Greece/Postgraduate (taught)\",\"HE student enrolments by domicile and region of HE provider in the UK (AY: 21/22)/Russia/Postgraduate (taught)\",\"HE student enrolments by domicile and region of HE provider in the UK (AY: 21/22)/Turkey/Postgraduate (taught)\",\"HE student enrolments by domicile and region of HE provider in the UK (AY: 21/22)/Ukraine/Postgraduate (taught)\",\"HE student enrolments by domicile and region of HE provider in the UK (AY: 21/22)/Bulgaria\",\"HE student enrolments by domicile and region of HE provider in the UK (AY: 21/22)/Greece\",\"HE student enrolments by domicile and region of HE provider in the UK (AY: 21/22)/Russia\",\"HE student enrolments by domicile and region of HE provider in the UK (AY: 21/22)/Turkey\",\"HE student enrolments by domicile and region of HE provider in the UK (AY: 21/22)/Ukraine\",\"HE student enrolments by domicile and region of HE provider in the UK (AY: 21/22)\"],\"labels\":[\"East Midlands\",\"East Midlands\",\"East Midlands\",\"East Midlands\",\"East Midlands\",\"East Midlands\",\"East Midlands\",\"East Midlands\",\"East Midlands\",\"East Midlands\",\"East Midlands\",\"East Midlands\",\"East Midlands\",\"East Midlands\",\"East Midlands\",\"East of England\",\"East of England\",\"East of England\",\"East of England\",\"East of England\",\"East of England\",\"East of England\",\"East of England\",\"East of England\",\"East of England\",\"East of England\",\"East of England\",\"East of England\",\"East of England\",\"East of England\",\"East of England\",\"East of England\",\"East of England\",\"London\",\"London\",\"London\",\"London\",\"London\",\"London\",\"London\",\"London\",\"London\",\"London\",\"London\",\"London\",\"London\",\"London\",\"London\",\"London\",\"London\",\"London\",\"London\",\"London\",\"North East\",\"North East\",\"North East\",\"North East\",\"North East\",\"North East\",\"North East\",\"North East\",\"North East\",\"North East\",\"North East\",\"North East\",\"North East\",\"North East\",\"North East\",\"North East\",\"North East\",\"North West\",\"North West\",\"North West\",\"North West\",\"North West\",\"North West\",\"North West\",\"North West\",\"North West\",\"North West\",\"North West\",\"North West\",\"North West\",\"North West\",\"North West\",\"Northern Ireland\",\"Northern Ireland\",\"Northern Ireland\",\"Northern Ireland\",\"Northern Ireland\",\"Northern Ireland\",\"Northern Ireland\",\"Northern Ireland\",\"Northern Ireland\",\"Scotland\",\"Scotland\",\"Scotland\",\"Scotland\",\"Scotland\",\"Scotland\",\"Scotland\",\"Scotland\",\"Scotland\",\"Scotland\",\"Scotland\",\"Scotland\",\"Scotland\",\"Scotland\",\"Scotland\",\"Scotland\",\"Scotland\",\"Scotland\",\"Scotland\",\"Scotland\",\"South East\",\"South East\",\"South East\",\"South East\",\"South East\",\"South East\",\"South East\",\"South East\",\"South East\",\"South East\",\"South East\",\"South East\",\"South East\",\"South East\",\"South East\",\"South East\",\"South East\",\"South East\",\"South East\",\"South West\",\"South West\",\"South West\",\"South West\",\"South West\",\"South West\",\"South West\",\"South West\",\"South West\",\"South West\",\"South West\",\"South West\",\"South West\",\"South West\",\"South West\",\"South West\",\"South West\",\"South West\",\"Wales\",\"Wales\",\"Wales\",\"Wales\",\"Wales\",\"Wales\",\"Wales\",\"Wales\",\"Wales\",\"Wales\",\"Wales\",\"Wales\",\"Wales\",\"Wales\",\"Wales\",\"Wales\",\"West Midlands\",\"West Midlands\",\"West Midlands\",\"West Midlands\",\"West Midlands\",\"West Midlands\",\"West Midlands\",\"West Midlands\",\"West Midlands\",\"West Midlands\",\"West Midlands\",\"West Midlands\",\"West Midlands\",\"West Midlands\",\"West Midlands\",\"West Midlands\",\"West Midlands\",\"West Midlands\",\"Yorkshire and The Humber\",\"Yorkshire and The Humber\",\"Yorkshire and The Humber\",\"Yorkshire and The Humber\",\"Yorkshire and The Humber\",\"Yorkshire and The Humber\",\"Yorkshire and The Humber\",\"Yorkshire and The Humber\",\"Yorkshire and The Humber\",\"Yorkshire and The Humber\",\"Yorkshire and The Humber\",\"Yorkshire and The Humber\",\"Yorkshire and The Humber\",\"Yorkshire and The Humber\",\"Yorkshire and The Humber\",\"Yorkshire and The Humber\",\"First degree\",\"First degree\",\"First degree\",\"First degree\",\"First degree\",\"Other undergraduate\",\"Other undergraduate\",\"Other undergraduate\",\"Other undergraduate\",\"Other undergraduate\",\"Postgraduate (research)\",\"Postgraduate (research)\",\"Postgraduate (research)\",\"Postgraduate (research)\",\"Postgraduate (research)\",\"Postgraduate (taught)\",\"Postgraduate (taught)\",\"Postgraduate (taught)\",\"Postgraduate (taught)\",\"Postgraduate (taught)\",\"Bulgaria\",\"Greece\",\"Russia\",\"Turkey\",\"Ukraine\",\"HE student enrolments by domicile and region of HE provider in the UK (AY: 21/22)\"],\"name\":\"\",\"parents\":[\"HE student enrolments by domicile and region of HE provider in the UK (AY: 21/22)/Bulgaria/First degree\",\"HE student enrolments by domicile and region of HE provider in the UK (AY: 21/22)/Greece/First degree\",\"HE student enrolments by domicile and region of HE provider in the UK (AY: 21/22)/Russia/First degree\",\"HE student enrolments by domicile and region of HE provider in the UK (AY: 21/22)/Turkey/First degree\",\"HE student enrolments by domicile and region of HE provider in the UK (AY: 21/22)/Ukraine/First degree\",\"HE student enrolments by domicile and region of HE provider in the UK (AY: 21/22)/Bulgaria/Postgraduate (research)\",\"HE student enrolments by domicile and region of HE provider in the UK (AY: 21/22)/Greece/Postgraduate (research)\",\"HE student enrolments by domicile and region of HE provider in the UK (AY: 21/22)/Russia/Postgraduate (research)\",\"HE student enrolments by domicile and region of HE provider in the UK (AY: 21/22)/Turkey/Postgraduate (research)\",\"HE student enrolments by domicile and region of HE provider in the UK (AY: 21/22)/Ukraine/Postgraduate (research)\",\"HE student enrolments by domicile and region of HE provider in the UK (AY: 21/22)/Bulgaria/Postgraduate (taught)\",\"HE student enrolments by domicile and region of HE provider in the UK (AY: 21/22)/Greece/Postgraduate (taught)\",\"HE student enrolments by domicile and region of HE provider in the UK (AY: 21/22)/Russia/Postgraduate (taught)\",\"HE student enrolments by domicile and region of HE provider in the UK (AY: 21/22)/Turkey/Postgraduate (taught)\",\"HE student enrolments by domicile and region of HE provider in the UK (AY: 21/22)/Ukraine/Postgraduate (taught)\",\"HE student enrolments by domicile and region of HE provider in the UK (AY: 21/22)/Bulgaria/First degree\",\"HE student enrolments by domicile and region of HE provider in the UK (AY: 21/22)/Greece/First degree\",\"HE student enrolments by domicile and region of HE provider in the UK (AY: 21/22)/Russia/First degree\",\"HE student enrolments by domicile and region of HE provider in the UK (AY: 21/22)/Turkey/First degree\",\"HE student enrolments by domicile and region of HE provider in the UK (AY: 21/22)/Ukraine/First degree\",\"HE student enrolments by domicile and region of HE provider in the UK (AY: 21/22)/Bulgaria/Other undergraduate\",\"HE student enrolments by domicile and region of HE provider in the UK (AY: 21/22)/Greece/Other undergraduate\",\"HE student enrolments by domicile and region of HE provider in the UK (AY: 21/22)/Russia/Other undergraduate\",\"HE student enrolments by domicile and region of HE provider in the UK (AY: 21/22)/Ukraine/Other undergraduate\",\"HE student enrolments by domicile and region of HE provider in the UK (AY: 21/22)/Bulgaria/Postgraduate (research)\",\"HE student enrolments by domicile and region of HE provider in the UK (AY: 21/22)/Greece/Postgraduate (research)\",\"HE student enrolments by domicile and region of HE provider in the UK (AY: 21/22)/Russia/Postgraduate (research)\",\"HE student enrolments by domicile and region of HE provider in the UK (AY: 21/22)/Turkey/Postgraduate (research)\",\"HE student enrolments by domicile and region of HE provider in the UK (AY: 21/22)/Bulgaria/Postgraduate (taught)\",\"HE student enrolments by domicile and region of HE provider in the UK (AY: 21/22)/Greece/Postgraduate (taught)\",\"HE student enrolments by domicile and region of HE provider in the UK (AY: 21/22)/Russia/Postgraduate (taught)\",\"HE student enrolments by domicile and region of HE provider in the UK (AY: 21/22)/Turkey/Postgraduate (taught)\",\"HE student enrolments by domicile and region of HE provider in the UK (AY: 21/22)/Ukraine/Postgraduate (taught)\",\"HE student enrolments by domicile and region of HE provider in the UK (AY: 21/22)/Bulgaria/First degree\",\"HE student enrolments by domicile and region of HE provider in the UK (AY: 21/22)/Greece/First degree\",\"HE student enrolments by domicile and region of HE provider in the UK (AY: 21/22)/Russia/First degree\",\"HE student enrolments by domicile and region of HE provider in the UK (AY: 21/22)/Turkey/First degree\",\"HE student enrolments by domicile and region of HE provider in the UK (AY: 21/22)/Ukraine/First degree\",\"HE student enrolments by domicile and region of HE provider in the UK (AY: 21/22)/Bulgaria/Other undergraduate\",\"HE student enrolments by domicile and region of HE provider in the UK (AY: 21/22)/Greece/Other undergraduate\",\"HE student enrolments by domicile and region of HE provider in the UK (AY: 21/22)/Russia/Other undergraduate\",\"HE student enrolments by domicile and region of HE provider in the UK (AY: 21/22)/Turkey/Other undergraduate\",\"HE student enrolments by domicile and region of HE provider in the UK (AY: 21/22)/Ukraine/Other undergraduate\",\"HE student enrolments by domicile and region of HE provider in the UK (AY: 21/22)/Bulgaria/Postgraduate (research)\",\"HE student enrolments by domicile and region of HE provider in the UK (AY: 21/22)/Greece/Postgraduate (research)\",\"HE student enrolments by domicile and region of HE provider in the UK (AY: 21/22)/Russia/Postgraduate (research)\",\"HE student enrolments by domicile and region of HE provider in the UK (AY: 21/22)/Turkey/Postgraduate (research)\",\"HE student enrolments by domicile and region of HE provider in the UK (AY: 21/22)/Ukraine/Postgraduate (research)\",\"HE student enrolments by domicile and region of HE provider in the UK (AY: 21/22)/Bulgaria/Postgraduate (taught)\",\"HE student enrolments by domicile and region of HE provider in the UK (AY: 21/22)/Greece/Postgraduate (taught)\",\"HE student enrolments by domicile and region of HE provider in the UK (AY: 21/22)/Russia/Postgraduate (taught)\",\"HE student enrolments by domicile and region of HE provider in the UK (AY: 21/22)/Turkey/Postgraduate (taught)\",\"HE student enrolments by domicile and region of HE provider in the UK (AY: 21/22)/Ukraine/Postgraduate (taught)\",\"HE student enrolments by domicile and region of HE provider in the UK (AY: 21/22)/Bulgaria/First degree\",\"HE student enrolments by domicile and region of HE provider in the UK (AY: 21/22)/Greece/First degree\",\"HE student enrolments by domicile and region of HE provider in the UK (AY: 21/22)/Russia/First degree\",\"HE student enrolments by domicile and region of HE provider in the UK (AY: 21/22)/Turkey/First degree\",\"HE student enrolments by domicile and region of HE provider in the UK (AY: 21/22)/Ukraine/First degree\",\"HE student enrolments by domicile and region of HE provider in the UK (AY: 21/22)/Bulgaria/Other undergraduate\",\"HE student enrolments by domicile and region of HE provider in the UK (AY: 21/22)/Russia/Other undergraduate\",\"HE student enrolments by domicile and region of HE provider in the UK (AY: 21/22)/Ukraine/Other undergraduate\",\"HE student enrolments by domicile and region of HE provider in the UK (AY: 21/22)/Bulgaria/Postgraduate (research)\",\"HE student enrolments by domicile and region of HE provider in the UK (AY: 21/22)/Greece/Postgraduate (research)\",\"HE student enrolments by domicile and region of HE provider in the UK (AY: 21/22)/Russia/Postgraduate (research)\",\"HE student enrolments by domicile and region of HE provider in the UK (AY: 21/22)/Turkey/Postgraduate (research)\",\"HE student enrolments by domicile and region of HE provider in the UK (AY: 21/22)/Bulgaria/Postgraduate (taught)\",\"HE student enrolments by domicile and region of HE provider in the UK (AY: 21/22)/Greece/Postgraduate (taught)\",\"HE student enrolments by domicile and region of HE provider in the UK (AY: 21/22)/Russia/Postgraduate (taught)\",\"HE student enrolments by domicile and region of HE provider in the UK (AY: 21/22)/Turkey/Postgraduate (taught)\",\"HE student enrolments by domicile and region of HE provider in the UK (AY: 21/22)/Ukraine/Postgraduate (taught)\",\"HE student enrolments by domicile and region of HE provider in the UK (AY: 21/22)/Bulgaria/First degree\",\"HE student enrolments by domicile and region of HE provider in the UK (AY: 21/22)/Greece/First degree\",\"HE student enrolments by domicile and region of HE provider in the UK (AY: 21/22)/Russia/First degree\",\"HE student enrolments by domicile and region of HE provider in the UK (AY: 21/22)/Turkey/First degree\",\"HE student enrolments by domicile and region of HE provider in the UK (AY: 21/22)/Ukraine/First degree\",\"HE student enrolments by domicile and region of HE provider in the UK (AY: 21/22)/Bulgaria/Postgraduate (research)\",\"HE student enrolments by domicile and region of HE provider in the UK (AY: 21/22)/Greece/Postgraduate (research)\",\"HE student enrolments by domicile and region of HE provider in the UK (AY: 21/22)/Russia/Postgraduate (research)\",\"HE student enrolments by domicile and region of HE provider in the UK (AY: 21/22)/Turkey/Postgraduate (research)\",\"HE student enrolments by domicile and region of HE provider in the UK (AY: 21/22)/Ukraine/Postgraduate (research)\",\"HE student enrolments by domicile and region of HE provider in the UK (AY: 21/22)/Bulgaria/Postgraduate (taught)\",\"HE student enrolments by domicile and region of HE provider in the UK (AY: 21/22)/Greece/Postgraduate (taught)\",\"HE student enrolments by domicile and region of HE provider in the UK (AY: 21/22)/Russia/Postgraduate (taught)\",\"HE student enrolments by domicile and region of HE provider in the UK (AY: 21/22)/Turkey/Postgraduate (taught)\",\"HE student enrolments by domicile and region of HE provider in the UK (AY: 21/22)/Ukraine/Postgraduate (taught)\",\"HE student enrolments by domicile and region of HE provider in the UK (AY: 21/22)/Bulgaria/First degree\",\"HE student enrolments by domicile and region of HE provider in the UK (AY: 21/22)/Greece/First degree\",\"HE student enrolments by domicile and region of HE provider in the UK (AY: 21/22)/Russia/First degree\",\"HE student enrolments by domicile and region of HE provider in the UK (AY: 21/22)/Greece/Postgraduate (research)\",\"HE student enrolments by domicile and region of HE provider in the UK (AY: 21/22)/Turkey/Postgraduate (research)\",\"HE student enrolments by domicile and region of HE provider in the UK (AY: 21/22)/Greece/Postgraduate (taught)\",\"HE student enrolments by domicile and region of HE provider in the UK (AY: 21/22)/Russia/Postgraduate (taught)\",\"HE student enrolments by domicile and region of HE provider in the UK (AY: 21/22)/Turkey/Postgraduate (taught)\",\"HE student enrolments by domicile and region of HE provider in the UK (AY: 21/22)/Ukraine/Postgraduate (taught)\",\"HE student enrolments by domicile and region of HE provider in the UK (AY: 21/22)/Bulgaria/First degree\",\"HE student enrolments by domicile and region of HE provider in the UK (AY: 21/22)/Greece/First degree\",\"HE student enrolments by domicile and region of HE provider in the UK (AY: 21/22)/Russia/First degree\",\"HE student enrolments by domicile and region of HE provider in the UK (AY: 21/22)/Turkey/First degree\",\"HE student enrolments by domicile and region of HE provider in the UK (AY: 21/22)/Ukraine/First degree\",\"HE student enrolments by domicile and region of HE provider in the UK (AY: 21/22)/Bulgaria/Other undergraduate\",\"HE student enrolments by domicile and region of HE provider in the UK (AY: 21/22)/Greece/Other undergraduate\",\"HE student enrolments by domicile and region of HE provider in the UK (AY: 21/22)/Russia/Other undergraduate\",\"HE student enrolments by domicile and region of HE provider in the UK (AY: 21/22)/Turkey/Other undergraduate\",\"HE student enrolments by domicile and region of HE provider in the UK (AY: 21/22)/Ukraine/Other undergraduate\",\"HE student enrolments by domicile and region of HE provider in the UK (AY: 21/22)/Bulgaria/Postgraduate (research)\",\"HE student enrolments by domicile and region of HE provider in the UK (AY: 21/22)/Greece/Postgraduate (research)\",\"HE student enrolments by domicile and region of HE provider in the UK (AY: 21/22)/Russia/Postgraduate (research)\",\"HE student enrolments by domicile and region of HE provider in the UK (AY: 21/22)/Turkey/Postgraduate (research)\",\"HE student enrolments by domicile and region of HE provider in the UK (AY: 21/22)/Ukraine/Postgraduate (research)\",\"HE student enrolments by domicile and region of HE provider in the UK (AY: 21/22)/Bulgaria/Postgraduate (taught)\",\"HE student enrolments by domicile and region of HE provider in the UK (AY: 21/22)/Greece/Postgraduate (taught)\",\"HE student enrolments by domicile and region of HE provider in the UK (AY: 21/22)/Russia/Postgraduate (taught)\",\"HE student enrolments by domicile and region of HE provider in the UK (AY: 21/22)/Turkey/Postgraduate (taught)\",\"HE student enrolments by domicile and region of HE provider in the UK (AY: 21/22)/Ukraine/Postgraduate (taught)\",\"HE student enrolments by domicile and region of HE provider in the UK (AY: 21/22)/Bulgaria/First degree\",\"HE student enrolments by domicile and region of HE provider in the UK (AY: 21/22)/Greece/First degree\",\"HE student enrolments by domicile and region of HE provider in the UK (AY: 21/22)/Russia/First degree\",\"HE student enrolments by domicile and region of HE provider in the UK (AY: 21/22)/Turkey/First degree\",\"HE student enrolments by domicile and region of HE provider in the UK (AY: 21/22)/Ukraine/First degree\",\"HE student enrolments by domicile and region of HE provider in the UK (AY: 21/22)/Greece/Other undergraduate\",\"HE student enrolments by domicile and region of HE provider in the UK (AY: 21/22)/Russia/Other undergraduate\",\"HE student enrolments by domicile and region of HE provider in the UK (AY: 21/22)/Turkey/Other undergraduate\",\"HE student enrolments by domicile and region of HE provider in the UK (AY: 21/22)/Ukraine/Other undergraduate\",\"HE student enrolments by domicile and region of HE provider in the UK (AY: 21/22)/Bulgaria/Postgraduate (research)\",\"HE student enrolments by domicile and region of HE provider in the UK (AY: 21/22)/Greece/Postgraduate (research)\",\"HE student enrolments by domicile and region of HE provider in the UK (AY: 21/22)/Russia/Postgraduate (research)\",\"HE student enrolments by domicile and region of HE provider in the UK (AY: 21/22)/Turkey/Postgraduate (research)\",\"HE student enrolments by domicile and region of HE provider in the UK (AY: 21/22)/Ukraine/Postgraduate (research)\",\"HE student enrolments by domicile and region of HE provider in the UK (AY: 21/22)/Bulgaria/Postgraduate (taught)\",\"HE student enrolments by domicile and region of HE provider in the UK (AY: 21/22)/Greece/Postgraduate (taught)\",\"HE student enrolments by domicile and region of HE provider in the UK (AY: 21/22)/Russia/Postgraduate (taught)\",\"HE student enrolments by domicile and region of HE provider in the UK (AY: 21/22)/Turkey/Postgraduate (taught)\",\"HE student enrolments by domicile and region of HE provider in the UK (AY: 21/22)/Ukraine/Postgraduate (taught)\",\"HE student enrolments by domicile and region of HE provider in the UK (AY: 21/22)/Bulgaria/First degree\",\"HE student enrolments by domicile and region of HE provider in the UK (AY: 21/22)/Greece/First degree\",\"HE student enrolments by domicile and region of HE provider in the UK (AY: 21/22)/Russia/First degree\",\"HE student enrolments by domicile and region of HE provider in the UK (AY: 21/22)/Turkey/First degree\",\"HE student enrolments by domicile and region of HE provider in the UK (AY: 21/22)/Ukraine/First degree\",\"HE student enrolments by domicile and region of HE provider in the UK (AY: 21/22)/Russia/Other undergraduate\",\"HE student enrolments by domicile and region of HE provider in the UK (AY: 21/22)/Turkey/Other undergraduate\",\"HE student enrolments by domicile and region of HE provider in the UK (AY: 21/22)/Ukraine/Other undergraduate\",\"HE student enrolments by domicile and region of HE provider in the UK (AY: 21/22)/Bulgaria/Postgraduate (research)\",\"HE student enrolments by domicile and region of HE provider in the UK (AY: 21/22)/Greece/Postgraduate (research)\",\"HE student enrolments by domicile and region of HE provider in the UK (AY: 21/22)/Russia/Postgraduate (research)\",\"HE student enrolments by domicile and region of HE provider in the UK (AY: 21/22)/Turkey/Postgraduate (research)\",\"HE student enrolments by domicile and region of HE provider in the UK (AY: 21/22)/Ukraine/Postgraduate (research)\",\"HE student enrolments by domicile and region of HE provider in the UK (AY: 21/22)/Bulgaria/Postgraduate (taught)\",\"HE student enrolments by domicile and region of HE provider in the UK (AY: 21/22)/Greece/Postgraduate (taught)\",\"HE student enrolments by domicile and region of HE provider in the UK (AY: 21/22)/Russia/Postgraduate (taught)\",\"HE student enrolments by domicile and region of HE provider in the UK (AY: 21/22)/Turkey/Postgraduate (taught)\",\"HE student enrolments by domicile and region of HE provider in the UK (AY: 21/22)/Ukraine/Postgraduate (taught)\",\"HE student enrolments by domicile and region of HE provider in the UK (AY: 21/22)/Bulgaria/First degree\",\"HE student enrolments by domicile and region of HE provider in the UK (AY: 21/22)/Greece/First degree\",\"HE student enrolments by domicile and region of HE provider in the UK (AY: 21/22)/Russia/First degree\",\"HE student enrolments by domicile and region of HE provider in the UK (AY: 21/22)/Turkey/First degree\",\"HE student enrolments by domicile and region of HE provider in the UK (AY: 21/22)/Ukraine/First degree\",\"HE student enrolments by domicile and region of HE provider in the UK (AY: 21/22)/Bulgaria/Other undergraduate\",\"HE student enrolments by domicile and region of HE provider in the UK (AY: 21/22)/Greece/Other undergraduate\",\"HE student enrolments by domicile and region of HE provider in the UK (AY: 21/22)/Bulgaria/Postgraduate (research)\",\"HE student enrolments by domicile and region of HE provider in the UK (AY: 21/22)/Greece/Postgraduate (research)\",\"HE student enrolments by domicile and region of HE provider in the UK (AY: 21/22)/Turkey/Postgraduate (research)\",\"HE student enrolments by domicile and region of HE provider in the UK (AY: 21/22)/Ukraine/Postgraduate (research)\",\"HE student enrolments by domicile and region of HE provider in the UK (AY: 21/22)/Bulgaria/Postgraduate (taught)\",\"HE student enrolments by domicile and region of HE provider in the UK (AY: 21/22)/Greece/Postgraduate (taught)\",\"HE student enrolments by domicile and region of HE provider in the UK (AY: 21/22)/Russia/Postgraduate (taught)\",\"HE student enrolments by domicile and region of HE provider in the UK (AY: 21/22)/Turkey/Postgraduate (taught)\",\"HE student enrolments by domicile and region of HE provider in the UK (AY: 21/22)/Ukraine/Postgraduate (taught)\",\"HE student enrolments by domicile and region of HE provider in the UK (AY: 21/22)/Bulgaria/First degree\",\"HE student enrolments by domicile and region of HE provider in the UK (AY: 21/22)/Greece/First degree\",\"HE student enrolments by domicile and region of HE provider in the UK (AY: 21/22)/Russia/First degree\",\"HE student enrolments by domicile and region of HE provider in the UK (AY: 21/22)/Turkey/First degree\",\"HE student enrolments by domicile and region of HE provider in the UK (AY: 21/22)/Ukraine/First degree\",\"HE student enrolments by domicile and region of HE provider in the UK (AY: 21/22)/Bulgaria/Other undergraduate\",\"HE student enrolments by domicile and region of HE provider in the UK (AY: 21/22)/Greece/Other undergraduate\",\"HE student enrolments by domicile and region of HE provider in the UK (AY: 21/22)/Russia/Other undergraduate\",\"HE student enrolments by domicile and region of HE provider in the UK (AY: 21/22)/Bulgaria/Postgraduate (research)\",\"HE student enrolments by domicile and region of HE provider in the UK (AY: 21/22)/Greece/Postgraduate (research)\",\"HE student enrolments by domicile and region of HE provider in the UK (AY: 21/22)/Russia/Postgraduate (research)\",\"HE student enrolments by domicile and region of HE provider in the UK (AY: 21/22)/Turkey/Postgraduate (research)\",\"HE student enrolments by domicile and region of HE provider in the UK (AY: 21/22)/Ukraine/Postgraduate (research)\",\"HE student enrolments by domicile and region of HE provider in the UK (AY: 21/22)/Bulgaria/Postgraduate (taught)\",\"HE student enrolments by domicile and region of HE provider in the UK (AY: 21/22)/Greece/Postgraduate (taught)\",\"HE student enrolments by domicile and region of HE provider in the UK (AY: 21/22)/Russia/Postgraduate (taught)\",\"HE student enrolments by domicile and region of HE provider in the UK (AY: 21/22)/Turkey/Postgraduate (taught)\",\"HE student enrolments by domicile and region of HE provider in the UK (AY: 21/22)/Ukraine/Postgraduate (taught)\",\"HE student enrolments by domicile and region of HE provider in the UK (AY: 21/22)/Bulgaria/First degree\",\"HE student enrolments by domicile and region of HE provider in the UK (AY: 21/22)/Greece/First degree\",\"HE student enrolments by domicile and region of HE provider in the UK (AY: 21/22)/Russia/First degree\",\"HE student enrolments by domicile and region of HE provider in the UK (AY: 21/22)/Turkey/First degree\",\"HE student enrolments by domicile and region of HE provider in the UK (AY: 21/22)/Ukraine/First degree\",\"HE student enrolments by domicile and region of HE provider in the UK (AY: 21/22)/Greece/Other undergraduate\",\"HE student enrolments by domicile and region of HE provider in the UK (AY: 21/22)/Bulgaria/Postgraduate (research)\",\"HE student enrolments by domicile and region of HE provider in the UK (AY: 21/22)/Greece/Postgraduate (research)\",\"HE student enrolments by domicile and region of HE provider in the UK (AY: 21/22)/Russia/Postgraduate (research)\",\"HE student enrolments by domicile and region of HE provider in the UK (AY: 21/22)/Turkey/Postgraduate (research)\",\"HE student enrolments by domicile and region of HE provider in the UK (AY: 21/22)/Ukraine/Postgraduate (research)\",\"HE student enrolments by domicile and region of HE provider in the UK (AY: 21/22)/Bulgaria/Postgraduate (taught)\",\"HE student enrolments by domicile and region of HE provider in the UK (AY: 21/22)/Greece/Postgraduate (taught)\",\"HE student enrolments by domicile and region of HE provider in the UK (AY: 21/22)/Russia/Postgraduate (taught)\",\"HE student enrolments by domicile and region of HE provider in the UK (AY: 21/22)/Turkey/Postgraduate (taught)\",\"HE student enrolments by domicile and region of HE provider in the UK (AY: 21/22)/Ukraine/Postgraduate (taught)\",\"HE student enrolments by domicile and region of HE provider in the UK (AY: 21/22)/Bulgaria\",\"HE student enrolments by domicile and region of HE provider in the UK (AY: 21/22)/Greece\",\"HE student enrolments by domicile and region of HE provider in the UK (AY: 21/22)/Russia\",\"HE student enrolments by domicile and region of HE provider in the UK (AY: 21/22)/Turkey\",\"HE student enrolments by domicile and region of HE provider in the UK (AY: 21/22)/Ukraine\",\"HE student enrolments by domicile and region of HE provider in the UK (AY: 21/22)/Bulgaria\",\"HE student enrolments by domicile and region of HE provider in the UK (AY: 21/22)/Greece\",\"HE student enrolments by domicile and region of HE provider in the UK (AY: 21/22)/Russia\",\"HE student enrolments by domicile and region of HE provider in the UK (AY: 21/22)/Turkey\",\"HE student enrolments by domicile and region of HE provider in the UK (AY: 21/22)/Ukraine\",\"HE student enrolments by domicile and region of HE provider in the UK (AY: 21/22)/Bulgaria\",\"HE student enrolments by domicile and region of HE provider in the UK (AY: 21/22)/Greece\",\"HE student enrolments by domicile and region of HE provider in the UK (AY: 21/22)/Russia\",\"HE student enrolments by domicile and region of HE provider in the UK (AY: 21/22)/Turkey\",\"HE student enrolments by domicile and region of HE provider in the UK (AY: 21/22)/Ukraine\",\"HE student enrolments by domicile and region of HE provider in the UK (AY: 21/22)/Bulgaria\",\"HE student enrolments by domicile and region of HE provider in the UK (AY: 21/22)/Greece\",\"HE student enrolments by domicile and region of HE provider in the UK (AY: 21/22)/Russia\",\"HE student enrolments by domicile and region of HE provider in the UK (AY: 21/22)/Turkey\",\"HE student enrolments by domicile and region of HE provider in the UK (AY: 21/22)/Ukraine\",\"HE student enrolments by domicile and region of HE provider in the UK (AY: 21/22)\",\"HE student enrolments by domicile and region of HE provider in the UK (AY: 21/22)\",\"HE student enrolments by domicile and region of HE provider in the UK (AY: 21/22)\",\"HE student enrolments by domicile and region of HE provider in the UK (AY: 21/22)\",\"HE student enrolments by domicile and region of HE provider in the UK (AY: 21/22)\",\"\"],\"values\":[145,175,70,150,20,10,50,5,70,5,15,35,20,70,5,250,240,85,75,35,5,10,10,5,10,95,35,65,10,65,35,115,10,775,975,980,945,260,10,10,45,70,30,30,255,60,210,5,120,700,510,730,115,60,360,60,65,20,5,10,5,5,30,10,40,5,90,20,40,5,305,215,110,145,30,10,85,20,80,5,10,95,40,55,5,5,5,5,10,15,5,10,25,5,635,540,155,115,35,5,10,20,10,5,15,155,20,135,10,30,245,110,140,35,590,825,245,235,55,5,15,20,5,15,130,40,150,5,30,130,90,235,15,255,425,175,175,50,10,5,10,5,40,10,95,5,15,70,35,135,10,120,180,35,15,5,5,5,5,20,40,5,15,70,10,60,5,245,245,70,95,35,5,5,5,5,75,20,65,5,10,75,45,85,15,180,220,60,65,20,5,5,50,5,70,5,20,65,25,65,10,3565,4405,2050,2080,565,35,50,115,105,60,115,995,225,1035,50,280,1645,950,1755,235,3995,7095,3340,4975,910,20315],\"type\":\"treemap\",\"textinfo\":\"label+text+value\"}],                        {\"template\":{\"data\":{\"barpolar\":[{\"marker\":{\"line\":{\"color\":\"white\",\"width\":0.5},\"pattern\":{\"fillmode\":\"overlay\",\"size\":10,\"solidity\":0.2}},\"type\":\"barpolar\"}],\"bar\":[{\"error_x\":{\"color\":\"#2a3f5f\"},\"error_y\":{\"color\":\"#2a3f5f\"},\"marker\":{\"line\":{\"color\":\"white\",\"width\":0.5},\"pattern\":{\"fillmode\":\"overlay\",\"size\":10,\"solidity\":0.2}},\"type\":\"bar\"}],\"carpet\":[{\"aaxis\":{\"endlinecolor\":\"#2a3f5f\",\"gridcolor\":\"#C8D4E3\",\"linecolor\":\"#C8D4E3\",\"minorgridcolor\":\"#C8D4E3\",\"startlinecolor\":\"#2a3f5f\"},\"baxis\":{\"endlinecolor\":\"#2a3f5f\",\"gridcolor\":\"#C8D4E3\",\"linecolor\":\"#C8D4E3\",\"minorgridcolor\":\"#C8D4E3\",\"startlinecolor\":\"#2a3f5f\"},\"type\":\"carpet\"}],\"choropleth\":[{\"colorbar\":{\"outlinewidth\":0,\"ticks\":\"\"},\"type\":\"choropleth\"}],\"contourcarpet\":[{\"colorbar\":{\"outlinewidth\":0,\"ticks\":\"\"},\"type\":\"contourcarpet\"}],\"contour\":[{\"colorbar\":{\"outlinewidth\":0,\"ticks\":\"\"},\"colorscale\":[[0.0,\"#0d0887\"],[0.1111111111111111,\"#46039f\"],[0.2222222222222222,\"#7201a8\"],[0.3333333333333333,\"#9c179e\"],[0.4444444444444444,\"#bd3786\"],[0.5555555555555556,\"#d8576b\"],[0.6666666666666666,\"#ed7953\"],[0.7777777777777778,\"#fb9f3a\"],[0.8888888888888888,\"#fdca26\"],[1.0,\"#f0f921\"]],\"type\":\"contour\"}],\"heatmapgl\":[{\"colorbar\":{\"outlinewidth\":0,\"ticks\":\"\"},\"colorscale\":[[0.0,\"#0d0887\"],[0.1111111111111111,\"#46039f\"],[0.2222222222222222,\"#7201a8\"],[0.3333333333333333,\"#9c179e\"],[0.4444444444444444,\"#bd3786\"],[0.5555555555555556,\"#d8576b\"],[0.6666666666666666,\"#ed7953\"],[0.7777777777777778,\"#fb9f3a\"],[0.8888888888888888,\"#fdca26\"],[1.0,\"#f0f921\"]],\"type\":\"heatmapgl\"}],\"heatmap\":[{\"colorbar\":{\"outlinewidth\":0,\"ticks\":\"\"},\"colorscale\":[[0.0,\"#0d0887\"],[0.1111111111111111,\"#46039f\"],[0.2222222222222222,\"#7201a8\"],[0.3333333333333333,\"#9c179e\"],[0.4444444444444444,\"#bd3786\"],[0.5555555555555556,\"#d8576b\"],[0.6666666666666666,\"#ed7953\"],[0.7777777777777778,\"#fb9f3a\"],[0.8888888888888888,\"#fdca26\"],[1.0,\"#f0f921\"]],\"type\":\"heatmap\"}],\"histogram2dcontour\":[{\"colorbar\":{\"outlinewidth\":0,\"ticks\":\"\"},\"colorscale\":[[0.0,\"#0d0887\"],[0.1111111111111111,\"#46039f\"],[0.2222222222222222,\"#7201a8\"],[0.3333333333333333,\"#9c179e\"],[0.4444444444444444,\"#bd3786\"],[0.5555555555555556,\"#d8576b\"],[0.6666666666666666,\"#ed7953\"],[0.7777777777777778,\"#fb9f3a\"],[0.8888888888888888,\"#fdca26\"],[1.0,\"#f0f921\"]],\"type\":\"histogram2dcontour\"}],\"histogram2d\":[{\"colorbar\":{\"outlinewidth\":0,\"ticks\":\"\"},\"colorscale\":[[0.0,\"#0d0887\"],[0.1111111111111111,\"#46039f\"],[0.2222222222222222,\"#7201a8\"],[0.3333333333333333,\"#9c179e\"],[0.4444444444444444,\"#bd3786\"],[0.5555555555555556,\"#d8576b\"],[0.6666666666666666,\"#ed7953\"],[0.7777777777777778,\"#fb9f3a\"],[0.8888888888888888,\"#fdca26\"],[1.0,\"#f0f921\"]],\"type\":\"histogram2d\"}],\"histogram\":[{\"marker\":{\"pattern\":{\"fillmode\":\"overlay\",\"size\":10,\"solidity\":0.2}},\"type\":\"histogram\"}],\"mesh3d\":[{\"colorbar\":{\"outlinewidth\":0,\"ticks\":\"\"},\"type\":\"mesh3d\"}],\"parcoords\":[{\"line\":{\"colorbar\":{\"outlinewidth\":0,\"ticks\":\"\"}},\"type\":\"parcoords\"}],\"pie\":[{\"automargin\":true,\"type\":\"pie\"}],\"scatter3d\":[{\"line\":{\"colorbar\":{\"outlinewidth\":0,\"ticks\":\"\"}},\"marker\":{\"colorbar\":{\"outlinewidth\":0,\"ticks\":\"\"}},\"type\":\"scatter3d\"}],\"scattercarpet\":[{\"marker\":{\"colorbar\":{\"outlinewidth\":0,\"ticks\":\"\"}},\"type\":\"scattercarpet\"}],\"scattergeo\":[{\"marker\":{\"colorbar\":{\"outlinewidth\":0,\"ticks\":\"\"}},\"type\":\"scattergeo\"}],\"scattergl\":[{\"marker\":{\"colorbar\":{\"outlinewidth\":0,\"ticks\":\"\"}},\"type\":\"scattergl\"}],\"scattermapbox\":[{\"marker\":{\"colorbar\":{\"outlinewidth\":0,\"ticks\":\"\"}},\"type\":\"scattermapbox\"}],\"scatterpolargl\":[{\"marker\":{\"colorbar\":{\"outlinewidth\":0,\"ticks\":\"\"}},\"type\":\"scatterpolargl\"}],\"scatterpolar\":[{\"marker\":{\"colorbar\":{\"outlinewidth\":0,\"ticks\":\"\"}},\"type\":\"scatterpolar\"}],\"scatter\":[{\"fillpattern\":{\"fillmode\":\"overlay\",\"size\":10,\"solidity\":0.2},\"type\":\"scatter\"}],\"scatterternary\":[{\"marker\":{\"colorbar\":{\"outlinewidth\":0,\"ticks\":\"\"}},\"type\":\"scatterternary\"}],\"surface\":[{\"colorbar\":{\"outlinewidth\":0,\"ticks\":\"\"},\"colorscale\":[[0.0,\"#0d0887\"],[0.1111111111111111,\"#46039f\"],[0.2222222222222222,\"#7201a8\"],[0.3333333333333333,\"#9c179e\"],[0.4444444444444444,\"#bd3786\"],[0.5555555555555556,\"#d8576b\"],[0.6666666666666666,\"#ed7953\"],[0.7777777777777778,\"#fb9f3a\"],[0.8888888888888888,\"#fdca26\"],[1.0,\"#f0f921\"]],\"type\":\"surface\"}],\"table\":[{\"cells\":{\"fill\":{\"color\":\"#EBF0F8\"},\"line\":{\"color\":\"white\"}},\"header\":{\"fill\":{\"color\":\"#C8D4E3\"},\"line\":{\"color\":\"white\"}},\"type\":\"table\"}]},\"layout\":{\"annotationdefaults\":{\"arrowcolor\":\"#2a3f5f\",\"arrowhead\":0,\"arrowwidth\":1},\"autotypenumbers\":\"strict\",\"coloraxis\":{\"colorbar\":{\"outlinewidth\":0,\"ticks\":\"\"}},\"colorscale\":{\"diverging\":[[0,\"#8e0152\"],[0.1,\"#c51b7d\"],[0.2,\"#de77ae\"],[0.3,\"#f1b6da\"],[0.4,\"#fde0ef\"],[0.5,\"#f7f7f7\"],[0.6,\"#e6f5d0\"],[0.7,\"#b8e186\"],[0.8,\"#7fbc41\"],[0.9,\"#4d9221\"],[1,\"#276419\"]],\"sequential\":[[0.0,\"#0d0887\"],[0.1111111111111111,\"#46039f\"],[0.2222222222222222,\"#7201a8\"],[0.3333333333333333,\"#9c179e\"],[0.4444444444444444,\"#bd3786\"],[0.5555555555555556,\"#d8576b\"],[0.6666666666666666,\"#ed7953\"],[0.7777777777777778,\"#fb9f3a\"],[0.8888888888888888,\"#fdca26\"],[1.0,\"#f0f921\"]],\"sequentialminus\":[[0.0,\"#0d0887\"],[0.1111111111111111,\"#46039f\"],[0.2222222222222222,\"#7201a8\"],[0.3333333333333333,\"#9c179e\"],[0.4444444444444444,\"#bd3786\"],[0.5555555555555556,\"#d8576b\"],[0.6666666666666666,\"#ed7953\"],[0.7777777777777778,\"#fb9f3a\"],[0.8888888888888888,\"#fdca26\"],[1.0,\"#f0f921\"]]},\"colorway\":[\"#636efa\",\"#EF553B\",\"#00cc96\",\"#ab63fa\",\"#FFA15A\",\"#19d3f3\",\"#FF6692\",\"#B6E880\",\"#FF97FF\",\"#FECB52\"],\"font\":{\"color\":\"#2a3f5f\"},\"geo\":{\"bgcolor\":\"white\",\"lakecolor\":\"white\",\"landcolor\":\"white\",\"showlakes\":true,\"showland\":true,\"subunitcolor\":\"#C8D4E3\"},\"hoverlabel\":{\"align\":\"left\"},\"hovermode\":\"closest\",\"mapbox\":{\"style\":\"light\"},\"paper_bgcolor\":\"white\",\"plot_bgcolor\":\"white\",\"polar\":{\"angularaxis\":{\"gridcolor\":\"#EBF0F8\",\"linecolor\":\"#EBF0F8\",\"ticks\":\"\"},\"bgcolor\":\"white\",\"radialaxis\":{\"gridcolor\":\"#EBF0F8\",\"linecolor\":\"#EBF0F8\",\"ticks\":\"\"}},\"scene\":{\"xaxis\":{\"backgroundcolor\":\"white\",\"gridcolor\":\"#DFE8F3\",\"gridwidth\":2,\"linecolor\":\"#EBF0F8\",\"showbackground\":true,\"ticks\":\"\",\"zerolinecolor\":\"#EBF0F8\"},\"yaxis\":{\"backgroundcolor\":\"white\",\"gridcolor\":\"#DFE8F3\",\"gridwidth\":2,\"linecolor\":\"#EBF0F8\",\"showbackground\":true,\"ticks\":\"\",\"zerolinecolor\":\"#EBF0F8\"},\"zaxis\":{\"backgroundcolor\":\"white\",\"gridcolor\":\"#DFE8F3\",\"gridwidth\":2,\"linecolor\":\"#EBF0F8\",\"showbackground\":true,\"ticks\":\"\",\"zerolinecolor\":\"#EBF0F8\"}},\"shapedefaults\":{\"line\":{\"color\":\"#2a3f5f\"}},\"ternary\":{\"aaxis\":{\"gridcolor\":\"#DFE8F3\",\"linecolor\":\"#A2B1C6\",\"ticks\":\"\"},\"baxis\":{\"gridcolor\":\"#DFE8F3\",\"linecolor\":\"#A2B1C6\",\"ticks\":\"\"},\"bgcolor\":\"white\",\"caxis\":{\"gridcolor\":\"#DFE8F3\",\"linecolor\":\"#A2B1C6\",\"ticks\":\"\"}},\"title\":{\"x\":0.05},\"xaxis\":{\"automargin\":true,\"gridcolor\":\"#EBF0F8\",\"linecolor\":\"#EBF0F8\",\"ticks\":\"\",\"title\":{\"standoff\":15},\"zerolinecolor\":\"#EBF0F8\",\"zerolinewidth\":2},\"yaxis\":{\"automargin\":true,\"gridcolor\":\"#EBF0F8\",\"linecolor\":\"#EBF0F8\",\"ticks\":\"\",\"title\":{\"standoff\":15},\"zerolinecolor\":\"#EBF0F8\",\"zerolinewidth\":2}}},\"legend\":{\"tracegroupgap\":0},\"margin\":{\"t\":60},\"height\":1200,\"width\":1000},                        {\"responsive\": true}                    ).then(function(){\n",
       "                            \n",
       "var gd = document.getElementById('76c1f8e3-451b-4830-862e-de783da657ee');\n",
       "var x = new MutationObserver(function (mutations, observer) {{\n",
       "        var display = window.getComputedStyle(gd).display;\n",
       "        if (!display || display === 'none') {{\n",
       "            console.log([gd, 'removed!']);\n",
       "            Plotly.purge(gd);\n",
       "            observer.disconnect();\n",
       "        }}\n",
       "}});\n",
       "\n",
       "// Listen for the removal of the full notebook cells\n",
       "var notebookContainer = gd.closest('#notebook-container');\n",
       "if (notebookContainer) {{\n",
       "    x.observe(notebookContainer, {childList: true});\n",
       "}}\n",
       "\n",
       "// Listen for the clearing of the current output cell\n",
       "var outputEl = gd.closest('.output');\n",
       "if (outputEl) {{\n",
       "    x.observe(outputEl, {childList: true});\n",
       "}}\n",
       "\n",
       "                        })                };                });            </script>        </div>"
      ]
     },
     "metadata": {},
     "output_type": "display_data"
    }
   ],
   "source": [
    "fig2 = px.treemap(df_pilot, path = [px.Constant('HE student enrolments by domicile and region of HE provider in the UK (AY: 21/22)'),'Domicile', 'Level of study', 'Region of HE provider'], values = 'Number',\n",
    "                 width=1000,height=1200, template = 'plotly_white',\n",
    "                \n",
    "                 )\n",
    "fig2.data[0].textinfo = 'label+text+value'\n",
    "fig2.data[0].hovertemplate = 'Label: %{label}<br>Number: %{value}<br>Parent: %{parent}<br>Id: %{id}<extra></extra>'\n",
    "fig2.show()"
   ]
  },
  {
   "cell_type": "code",
   "execution_count": 15,
   "id": "b44282cd",
   "metadata": {},
   "outputs": [
    {
     "data": {
      "application/vnd.plotly.v1+json": {
       "config": {
        "plotlyServerURL": "https://plot.ly"
       },
       "data": [
        {
         "branchvalues": "total",
         "domain": {
          "x": [
           0,
           1
          ],
          "y": [
           0,
           1
          ]
         },
         "hovertemplate": "Label: %{label}<br>Number: %{value}<br>Parent: %{parent}<br>Id: %{id}<extra></extra>",
         "ids": [
          "HE student enrolments by domicile and region of HE provider in the UK (AY: 21/22)/Bulgaria/Full-time/East Midlands",
          "HE student enrolments by domicile and region of HE provider in the UK (AY: 21/22)/Greece/Full-time/East Midlands",
          "HE student enrolments by domicile and region of HE provider in the UK (AY: 21/22)/Russia/Full-time/East Midlands",
          "HE student enrolments by domicile and region of HE provider in the UK (AY: 21/22)/Turkey/Full-time/East Midlands",
          "HE student enrolments by domicile and region of HE provider in the UK (AY: 21/22)/Ukraine/Full-time/East Midlands",
          "HE student enrolments by domicile and region of HE provider in the UK (AY: 21/22)/Bulgaria/Part-time/East Midlands",
          "HE student enrolments by domicile and region of HE provider in the UK (AY: 21/22)/Greece/Part-time/East Midlands",
          "HE student enrolments by domicile and region of HE provider in the UK (AY: 21/22)/Russia/Part-time/East Midlands",
          "HE student enrolments by domicile and region of HE provider in the UK (AY: 21/22)/Turkey/Part-time/East Midlands",
          "HE student enrolments by domicile and region of HE provider in the UK (AY: 21/22)/Bulgaria/Full-time/East of England",
          "HE student enrolments by domicile and region of HE provider in the UK (AY: 21/22)/Greece/Full-time/East of England",
          "HE student enrolments by domicile and region of HE provider in the UK (AY: 21/22)/Russia/Full-time/East of England",
          "HE student enrolments by domicile and region of HE provider in the UK (AY: 21/22)/Turkey/Full-time/East of England",
          "HE student enrolments by domicile and region of HE provider in the UK (AY: 21/22)/Ukraine/Full-time/East of England",
          "HE student enrolments by domicile and region of HE provider in the UK (AY: 21/22)/Bulgaria/Part-time/East of England",
          "HE student enrolments by domicile and region of HE provider in the UK (AY: 21/22)/Greece/Part-time/East of England",
          "HE student enrolments by domicile and region of HE provider in the UK (AY: 21/22)/Turkey/Part-time/East of England",
          "HE student enrolments by domicile and region of HE provider in the UK (AY: 21/22)/Bulgaria/Full-time/London",
          "HE student enrolments by domicile and region of HE provider in the UK (AY: 21/22)/Greece/Full-time/London",
          "HE student enrolments by domicile and region of HE provider in the UK (AY: 21/22)/Russia/Full-time/London",
          "HE student enrolments by domicile and region of HE provider in the UK (AY: 21/22)/Turkey/Full-time/London",
          "HE student enrolments by domicile and region of HE provider in the UK (AY: 21/22)/Ukraine/Full-time/London",
          "HE student enrolments by domicile and region of HE provider in the UK (AY: 21/22)/Bulgaria/Part-time/London",
          "HE student enrolments by domicile and region of HE provider in the UK (AY: 21/22)/Greece/Part-time/London",
          "HE student enrolments by domicile and region of HE provider in the UK (AY: 21/22)/Russia/Part-time/London",
          "HE student enrolments by domicile and region of HE provider in the UK (AY: 21/22)/Turkey/Part-time/London",
          "HE student enrolments by domicile and region of HE provider in the UK (AY: 21/22)/Ukraine/Part-time/London",
          "HE student enrolments by domicile and region of HE provider in the UK (AY: 21/22)/Bulgaria/Full-time/North East",
          "HE student enrolments by domicile and region of HE provider in the UK (AY: 21/22)/Greece/Full-time/North East",
          "HE student enrolments by domicile and region of HE provider in the UK (AY: 21/22)/Russia/Full-time/North East",
          "HE student enrolments by domicile and region of HE provider in the UK (AY: 21/22)/Turkey/Full-time/North East",
          "HE student enrolments by domicile and region of HE provider in the UK (AY: 21/22)/Ukraine/Full-time/North East",
          "HE student enrolments by domicile and region of HE provider in the UK (AY: 21/22)/Greece/Part-time/North East",
          "HE student enrolments by domicile and region of HE provider in the UK (AY: 21/22)/Bulgaria/Full-time/North West",
          "HE student enrolments by domicile and region of HE provider in the UK (AY: 21/22)/Greece/Full-time/North West",
          "HE student enrolments by domicile and region of HE provider in the UK (AY: 21/22)/Russia/Full-time/North West",
          "HE student enrolments by domicile and region of HE provider in the UK (AY: 21/22)/Turkey/Full-time/North West",
          "HE student enrolments by domicile and region of HE provider in the UK (AY: 21/22)/Ukraine/Full-time/North West",
          "HE student enrolments by domicile and region of HE provider in the UK (AY: 21/22)/Bulgaria/Part-time/North West",
          "HE student enrolments by domicile and region of HE provider in the UK (AY: 21/22)/Greece/Part-time/North West",
          "HE student enrolments by domicile and region of HE provider in the UK (AY: 21/22)/Russia/Part-time/North West",
          "HE student enrolments by domicile and region of HE provider in the UK (AY: 21/22)/Turkey/Part-time/North West",
          "HE student enrolments by domicile and region of HE provider in the UK (AY: 21/22)/Bulgaria/Full-time/Northern Ireland",
          "HE student enrolments by domicile and region of HE provider in the UK (AY: 21/22)/Greece/Full-time/Northern Ireland",
          "HE student enrolments by domicile and region of HE provider in the UK (AY: 21/22)/Russia/Full-time/Northern Ireland",
          "HE student enrolments by domicile and region of HE provider in the UK (AY: 21/22)/Turkey/Full-time/Northern Ireland",
          "HE student enrolments by domicile and region of HE provider in the UK (AY: 21/22)/Ukraine/Full-time/Northern Ireland",
          "HE student enrolments by domicile and region of HE provider in the UK (AY: 21/22)/Greece/Part-time/Northern Ireland",
          "HE student enrolments by domicile and region of HE provider in the UK (AY: 21/22)/Bulgaria/Full-time/Scotland",
          "HE student enrolments by domicile and region of HE provider in the UK (AY: 21/22)/Greece/Full-time/Scotland",
          "HE student enrolments by domicile and region of HE provider in the UK (AY: 21/22)/Russia/Full-time/Scotland",
          "HE student enrolments by domicile and region of HE provider in the UK (AY: 21/22)/Turkey/Full-time/Scotland",
          "HE student enrolments by domicile and region of HE provider in the UK (AY: 21/22)/Ukraine/Full-time/Scotland",
          "HE student enrolments by domicile and region of HE provider in the UK (AY: 21/22)/Bulgaria/Part-time/Scotland",
          "HE student enrolments by domicile and region of HE provider in the UK (AY: 21/22)/Greece/Part-time/Scotland",
          "HE student enrolments by domicile and region of HE provider in the UK (AY: 21/22)/Russia/Part-time/Scotland",
          "HE student enrolments by domicile and region of HE provider in the UK (AY: 21/22)/Turkey/Part-time/Scotland",
          "HE student enrolments by domicile and region of HE provider in the UK (AY: 21/22)/Ukraine/Part-time/Scotland",
          "HE student enrolments by domicile and region of HE provider in the UK (AY: 21/22)/Bulgaria/Full-time/South East",
          "HE student enrolments by domicile and region of HE provider in the UK (AY: 21/22)/Greece/Full-time/South East",
          "HE student enrolments by domicile and region of HE provider in the UK (AY: 21/22)/Russia/Full-time/South East",
          "HE student enrolments by domicile and region of HE provider in the UK (AY: 21/22)/Turkey/Full-time/South East",
          "HE student enrolments by domicile and region of HE provider in the UK (AY: 21/22)/Ukraine/Full-time/South East",
          "HE student enrolments by domicile and region of HE provider in the UK (AY: 21/22)/Bulgaria/Part-time/South East",
          "HE student enrolments by domicile and region of HE provider in the UK (AY: 21/22)/Greece/Part-time/South East",
          "HE student enrolments by domicile and region of HE provider in the UK (AY: 21/22)/Russia/Part-time/South East",
          "HE student enrolments by domicile and region of HE provider in the UK (AY: 21/22)/Turkey/Part-time/South East",
          "HE student enrolments by domicile and region of HE provider in the UK (AY: 21/22)/Ukraine/Part-time/South East",
          "HE student enrolments by domicile and region of HE provider in the UK (AY: 21/22)/Bulgaria/Full-time/South West",
          "HE student enrolments by domicile and region of HE provider in the UK (AY: 21/22)/Greece/Full-time/South West",
          "HE student enrolments by domicile and region of HE provider in the UK (AY: 21/22)/Russia/Full-time/South West",
          "HE student enrolments by domicile and region of HE provider in the UK (AY: 21/22)/Turkey/Full-time/South West",
          "HE student enrolments by domicile and region of HE provider in the UK (AY: 21/22)/Ukraine/Full-time/South West",
          "HE student enrolments by domicile and region of HE provider in the UK (AY: 21/22)/Bulgaria/Part-time/South West",
          "HE student enrolments by domicile and region of HE provider in the UK (AY: 21/22)/Greece/Part-time/South West",
          "HE student enrolments by domicile and region of HE provider in the UK (AY: 21/22)/Russia/Part-time/South West",
          "HE student enrolments by domicile and region of HE provider in the UK (AY: 21/22)/Turkey/Part-time/South West",
          "HE student enrolments by domicile and region of HE provider in the UK (AY: 21/22)/Bulgaria/Full-time/Wales",
          "HE student enrolments by domicile and region of HE provider in the UK (AY: 21/22)/Greece/Full-time/Wales",
          "HE student enrolments by domicile and region of HE provider in the UK (AY: 21/22)/Russia/Full-time/Wales",
          "HE student enrolments by domicile and region of HE provider in the UK (AY: 21/22)/Turkey/Full-time/Wales",
          "HE student enrolments by domicile and region of HE provider in the UK (AY: 21/22)/Ukraine/Full-time/Wales",
          "HE student enrolments by domicile and region of HE provider in the UK (AY: 21/22)/Greece/Part-time/Wales",
          "HE student enrolments by domicile and region of HE provider in the UK (AY: 21/22)/Russia/Part-time/Wales",
          "HE student enrolments by domicile and region of HE provider in the UK (AY: 21/22)/Turkey/Part-time/Wales",
          "HE student enrolments by domicile and region of HE provider in the UK (AY: 21/22)/Bulgaria/Full-time/West Midlands",
          "HE student enrolments by domicile and region of HE provider in the UK (AY: 21/22)/Greece/Full-time/West Midlands",
          "HE student enrolments by domicile and region of HE provider in the UK (AY: 21/22)/Russia/Full-time/West Midlands",
          "HE student enrolments by domicile and region of HE provider in the UK (AY: 21/22)/Turkey/Full-time/West Midlands",
          "HE student enrolments by domicile and region of HE provider in the UK (AY: 21/22)/Ukraine/Full-time/West Midlands",
          "HE student enrolments by domicile and region of HE provider in the UK (AY: 21/22)/Bulgaria/Part-time/West Midlands",
          "HE student enrolments by domicile and region of HE provider in the UK (AY: 21/22)/Greece/Part-time/West Midlands",
          "HE student enrolments by domicile and region of HE provider in the UK (AY: 21/22)/Russia/Part-time/West Midlands",
          "HE student enrolments by domicile and region of HE provider in the UK (AY: 21/22)/Turkey/Part-time/West Midlands",
          "HE student enrolments by domicile and region of HE provider in the UK (AY: 21/22)/Bulgaria/Full-time/Yorkshire and The Humber",
          "HE student enrolments by domicile and region of HE provider in the UK (AY: 21/22)/Greece/Full-time/Yorkshire and The Humber",
          "HE student enrolments by domicile and region of HE provider in the UK (AY: 21/22)/Russia/Full-time/Yorkshire and The Humber",
          "HE student enrolments by domicile and region of HE provider in the UK (AY: 21/22)/Turkey/Full-time/Yorkshire and The Humber",
          "HE student enrolments by domicile and region of HE provider in the UK (AY: 21/22)/Ukraine/Full-time/Yorkshire and The Humber",
          "HE student enrolments by domicile and region of HE provider in the UK (AY: 21/22)/Bulgaria/Part-time/Yorkshire and The Humber",
          "HE student enrolments by domicile and region of HE provider in the UK (AY: 21/22)/Greece/Part-time/Yorkshire and The Humber",
          "HE student enrolments by domicile and region of HE provider in the UK (AY: 21/22)/Russia/Part-time/Yorkshire and The Humber",
          "HE student enrolments by domicile and region of HE provider in the UK (AY: 21/22)/Turkey/Part-time/Yorkshire and The Humber",
          "HE student enrolments by domicile and region of HE provider in the UK (AY: 21/22)/Bulgaria/Full-time",
          "HE student enrolments by domicile and region of HE provider in the UK (AY: 21/22)/Greece/Full-time",
          "HE student enrolments by domicile and region of HE provider in the UK (AY: 21/22)/Russia/Full-time",
          "HE student enrolments by domicile and region of HE provider in the UK (AY: 21/22)/Turkey/Full-time",
          "HE student enrolments by domicile and region of HE provider in the UK (AY: 21/22)/Ukraine/Full-time",
          "HE student enrolments by domicile and region of HE provider in the UK (AY: 21/22)/Bulgaria/Part-time",
          "HE student enrolments by domicile and region of HE provider in the UK (AY: 21/22)/Greece/Part-time",
          "HE student enrolments by domicile and region of HE provider in the UK (AY: 21/22)/Russia/Part-time",
          "HE student enrolments by domicile and region of HE provider in the UK (AY: 21/22)/Turkey/Part-time",
          "HE student enrolments by domicile and region of HE provider in the UK (AY: 21/22)/Ukraine/Part-time",
          "HE student enrolments by domicile and region of HE provider in the UK (AY: 21/22)/Bulgaria",
          "HE student enrolments by domicile and region of HE provider in the UK (AY: 21/22)/Greece",
          "HE student enrolments by domicile and region of HE provider in the UK (AY: 21/22)/Russia",
          "HE student enrolments by domicile and region of HE provider in the UK (AY: 21/22)/Turkey",
          "HE student enrolments by domicile and region of HE provider in the UK (AY: 21/22)/Ukraine",
          "HE student enrolments by domicile and region of HE provider in the UK (AY: 21/22)"
         ],
         "labels": [
          "East Midlands",
          "East Midlands",
          "East Midlands",
          "East Midlands",
          "East Midlands",
          "East Midlands",
          "East Midlands",
          "East Midlands",
          "East Midlands",
          "East of England",
          "East of England",
          "East of England",
          "East of England",
          "East of England",
          "East of England",
          "East of England",
          "East of England",
          "London",
          "London",
          "London",
          "London",
          "London",
          "London",
          "London",
          "London",
          "London",
          "London",
          "North East",
          "North East",
          "North East",
          "North East",
          "North East",
          "North East",
          "North West",
          "North West",
          "North West",
          "North West",
          "North West",
          "North West",
          "North West",
          "North West",
          "North West",
          "Northern Ireland",
          "Northern Ireland",
          "Northern Ireland",
          "Northern Ireland",
          "Northern Ireland",
          "Northern Ireland",
          "Scotland",
          "Scotland",
          "Scotland",
          "Scotland",
          "Scotland",
          "Scotland",
          "Scotland",
          "Scotland",
          "Scotland",
          "Scotland",
          "South East",
          "South East",
          "South East",
          "South East",
          "South East",
          "South East",
          "South East",
          "South East",
          "South East",
          "South East",
          "South West",
          "South West",
          "South West",
          "South West",
          "South West",
          "South West",
          "South West",
          "South West",
          "South West",
          "Wales",
          "Wales",
          "Wales",
          "Wales",
          "Wales",
          "Wales",
          "Wales",
          "Wales",
          "West Midlands",
          "West Midlands",
          "West Midlands",
          "West Midlands",
          "West Midlands",
          "West Midlands",
          "West Midlands",
          "West Midlands",
          "West Midlands",
          "Yorkshire and The Humber",
          "Yorkshire and The Humber",
          "Yorkshire and The Humber",
          "Yorkshire and The Humber",
          "Yorkshire and The Humber",
          "Yorkshire and The Humber",
          "Yorkshire and The Humber",
          "Yorkshire and The Humber",
          "Yorkshire and The Humber",
          "Full-time",
          "Full-time",
          "Full-time",
          "Full-time",
          "Full-time",
          "Part-time",
          "Part-time",
          "Part-time",
          "Part-time",
          "Part-time",
          "Bulgaria",
          "Greece",
          "Russia",
          "Turkey",
          "Ukraine",
          "HE student enrolments by domicile and region of HE provider in the UK (AY: 21/22)"
         ],
         "name": "",
         "parents": [
          "HE student enrolments by domicile and region of HE provider in the UK (AY: 21/22)/Bulgaria/Full-time",
          "HE student enrolments by domicile and region of HE provider in the UK (AY: 21/22)/Greece/Full-time",
          "HE student enrolments by domicile and region of HE provider in the UK (AY: 21/22)/Russia/Full-time",
          "HE student enrolments by domicile and region of HE provider in the UK (AY: 21/22)/Turkey/Full-time",
          "HE student enrolments by domicile and region of HE provider in the UK (AY: 21/22)/Ukraine/Full-time",
          "HE student enrolments by domicile and region of HE provider in the UK (AY: 21/22)/Bulgaria/Part-time",
          "HE student enrolments by domicile and region of HE provider in the UK (AY: 21/22)/Greece/Part-time",
          "HE student enrolments by domicile and region of HE provider in the UK (AY: 21/22)/Russia/Part-time",
          "HE student enrolments by domicile and region of HE provider in the UK (AY: 21/22)/Turkey/Part-time",
          "HE student enrolments by domicile and region of HE provider in the UK (AY: 21/22)/Bulgaria/Full-time",
          "HE student enrolments by domicile and region of HE provider in the UK (AY: 21/22)/Greece/Full-time",
          "HE student enrolments by domicile and region of HE provider in the UK (AY: 21/22)/Russia/Full-time",
          "HE student enrolments by domicile and region of HE provider in the UK (AY: 21/22)/Turkey/Full-time",
          "HE student enrolments by domicile and region of HE provider in the UK (AY: 21/22)/Ukraine/Full-time",
          "HE student enrolments by domicile and region of HE provider in the UK (AY: 21/22)/Bulgaria/Part-time",
          "HE student enrolments by domicile and region of HE provider in the UK (AY: 21/22)/Greece/Part-time",
          "HE student enrolments by domicile and region of HE provider in the UK (AY: 21/22)/Turkey/Part-time",
          "HE student enrolments by domicile and region of HE provider in the UK (AY: 21/22)/Bulgaria/Full-time",
          "HE student enrolments by domicile and region of HE provider in the UK (AY: 21/22)/Greece/Full-time",
          "HE student enrolments by domicile and region of HE provider in the UK (AY: 21/22)/Russia/Full-time",
          "HE student enrolments by domicile and region of HE provider in the UK (AY: 21/22)/Turkey/Full-time",
          "HE student enrolments by domicile and region of HE provider in the UK (AY: 21/22)/Ukraine/Full-time",
          "HE student enrolments by domicile and region of HE provider in the UK (AY: 21/22)/Bulgaria/Part-time",
          "HE student enrolments by domicile and region of HE provider in the UK (AY: 21/22)/Greece/Part-time",
          "HE student enrolments by domicile and region of HE provider in the UK (AY: 21/22)/Russia/Part-time",
          "HE student enrolments by domicile and region of HE provider in the UK (AY: 21/22)/Turkey/Part-time",
          "HE student enrolments by domicile and region of HE provider in the UK (AY: 21/22)/Ukraine/Part-time",
          "HE student enrolments by domicile and region of HE provider in the UK (AY: 21/22)/Bulgaria/Full-time",
          "HE student enrolments by domicile and region of HE provider in the UK (AY: 21/22)/Greece/Full-time",
          "HE student enrolments by domicile and region of HE provider in the UK (AY: 21/22)/Russia/Full-time",
          "HE student enrolments by domicile and region of HE provider in the UK (AY: 21/22)/Turkey/Full-time",
          "HE student enrolments by domicile and region of HE provider in the UK (AY: 21/22)/Ukraine/Full-time",
          "HE student enrolments by domicile and region of HE provider in the UK (AY: 21/22)/Greece/Part-time",
          "HE student enrolments by domicile and region of HE provider in the UK (AY: 21/22)/Bulgaria/Full-time",
          "HE student enrolments by domicile and region of HE provider in the UK (AY: 21/22)/Greece/Full-time",
          "HE student enrolments by domicile and region of HE provider in the UK (AY: 21/22)/Russia/Full-time",
          "HE student enrolments by domicile and region of HE provider in the UK (AY: 21/22)/Turkey/Full-time",
          "HE student enrolments by domicile and region of HE provider in the UK (AY: 21/22)/Ukraine/Full-time",
          "HE student enrolments by domicile and region of HE provider in the UK (AY: 21/22)/Bulgaria/Part-time",
          "HE student enrolments by domicile and region of HE provider in the UK (AY: 21/22)/Greece/Part-time",
          "HE student enrolments by domicile and region of HE provider in the UK (AY: 21/22)/Russia/Part-time",
          "HE student enrolments by domicile and region of HE provider in the UK (AY: 21/22)/Turkey/Part-time",
          "HE student enrolments by domicile and region of HE provider in the UK (AY: 21/22)/Bulgaria/Full-time",
          "HE student enrolments by domicile and region of HE provider in the UK (AY: 21/22)/Greece/Full-time",
          "HE student enrolments by domicile and region of HE provider in the UK (AY: 21/22)/Russia/Full-time",
          "HE student enrolments by domicile and region of HE provider in the UK (AY: 21/22)/Turkey/Full-time",
          "HE student enrolments by domicile and region of HE provider in the UK (AY: 21/22)/Ukraine/Full-time",
          "HE student enrolments by domicile and region of HE provider in the UK (AY: 21/22)/Greece/Part-time",
          "HE student enrolments by domicile and region of HE provider in the UK (AY: 21/22)/Bulgaria/Full-time",
          "HE student enrolments by domicile and region of HE provider in the UK (AY: 21/22)/Greece/Full-time",
          "HE student enrolments by domicile and region of HE provider in the UK (AY: 21/22)/Russia/Full-time",
          "HE student enrolments by domicile and region of HE provider in the UK (AY: 21/22)/Turkey/Full-time",
          "HE student enrolments by domicile and region of HE provider in the UK (AY: 21/22)/Ukraine/Full-time",
          "HE student enrolments by domicile and region of HE provider in the UK (AY: 21/22)/Bulgaria/Part-time",
          "HE student enrolments by domicile and region of HE provider in the UK (AY: 21/22)/Greece/Part-time",
          "HE student enrolments by domicile and region of HE provider in the UK (AY: 21/22)/Russia/Part-time",
          "HE student enrolments by domicile and region of HE provider in the UK (AY: 21/22)/Turkey/Part-time",
          "HE student enrolments by domicile and region of HE provider in the UK (AY: 21/22)/Ukraine/Part-time",
          "HE student enrolments by domicile and region of HE provider in the UK (AY: 21/22)/Bulgaria/Full-time",
          "HE student enrolments by domicile and region of HE provider in the UK (AY: 21/22)/Greece/Full-time",
          "HE student enrolments by domicile and region of HE provider in the UK (AY: 21/22)/Russia/Full-time",
          "HE student enrolments by domicile and region of HE provider in the UK (AY: 21/22)/Turkey/Full-time",
          "HE student enrolments by domicile and region of HE provider in the UK (AY: 21/22)/Ukraine/Full-time",
          "HE student enrolments by domicile and region of HE provider in the UK (AY: 21/22)/Bulgaria/Part-time",
          "HE student enrolments by domicile and region of HE provider in the UK (AY: 21/22)/Greece/Part-time",
          "HE student enrolments by domicile and region of HE provider in the UK (AY: 21/22)/Russia/Part-time",
          "HE student enrolments by domicile and region of HE provider in the UK (AY: 21/22)/Turkey/Part-time",
          "HE student enrolments by domicile and region of HE provider in the UK (AY: 21/22)/Ukraine/Part-time",
          "HE student enrolments by domicile and region of HE provider in the UK (AY: 21/22)/Bulgaria/Full-time",
          "HE student enrolments by domicile and region of HE provider in the UK (AY: 21/22)/Greece/Full-time",
          "HE student enrolments by domicile and region of HE provider in the UK (AY: 21/22)/Russia/Full-time",
          "HE student enrolments by domicile and region of HE provider in the UK (AY: 21/22)/Turkey/Full-time",
          "HE student enrolments by domicile and region of HE provider in the UK (AY: 21/22)/Ukraine/Full-time",
          "HE student enrolments by domicile and region of HE provider in the UK (AY: 21/22)/Bulgaria/Part-time",
          "HE student enrolments by domicile and region of HE provider in the UK (AY: 21/22)/Greece/Part-time",
          "HE student enrolments by domicile and region of HE provider in the UK (AY: 21/22)/Russia/Part-time",
          "HE student enrolments by domicile and region of HE provider in the UK (AY: 21/22)/Turkey/Part-time",
          "HE student enrolments by domicile and region of HE provider in the UK (AY: 21/22)/Bulgaria/Full-time",
          "HE student enrolments by domicile and region of HE provider in the UK (AY: 21/22)/Greece/Full-time",
          "HE student enrolments by domicile and region of HE provider in the UK (AY: 21/22)/Russia/Full-time",
          "HE student enrolments by domicile and region of HE provider in the UK (AY: 21/22)/Turkey/Full-time",
          "HE student enrolments by domicile and region of HE provider in the UK (AY: 21/22)/Ukraine/Full-time",
          "HE student enrolments by domicile and region of HE provider in the UK (AY: 21/22)/Greece/Part-time",
          "HE student enrolments by domicile and region of HE provider in the UK (AY: 21/22)/Russia/Part-time",
          "HE student enrolments by domicile and region of HE provider in the UK (AY: 21/22)/Turkey/Part-time",
          "HE student enrolments by domicile and region of HE provider in the UK (AY: 21/22)/Bulgaria/Full-time",
          "HE student enrolments by domicile and region of HE provider in the UK (AY: 21/22)/Greece/Full-time",
          "HE student enrolments by domicile and region of HE provider in the UK (AY: 21/22)/Russia/Full-time",
          "HE student enrolments by domicile and region of HE provider in the UK (AY: 21/22)/Turkey/Full-time",
          "HE student enrolments by domicile and region of HE provider in the UK (AY: 21/22)/Ukraine/Full-time",
          "HE student enrolments by domicile and region of HE provider in the UK (AY: 21/22)/Bulgaria/Part-time",
          "HE student enrolments by domicile and region of HE provider in the UK (AY: 21/22)/Greece/Part-time",
          "HE student enrolments by domicile and region of HE provider in the UK (AY: 21/22)/Russia/Part-time",
          "HE student enrolments by domicile and region of HE provider in the UK (AY: 21/22)/Turkey/Part-time",
          "HE student enrolments by domicile and region of HE provider in the UK (AY: 21/22)/Bulgaria/Full-time",
          "HE student enrolments by domicile and region of HE provider in the UK (AY: 21/22)/Greece/Full-time",
          "HE student enrolments by domicile and region of HE provider in the UK (AY: 21/22)/Russia/Full-time",
          "HE student enrolments by domicile and region of HE provider in the UK (AY: 21/22)/Turkey/Full-time",
          "HE student enrolments by domicile and region of HE provider in the UK (AY: 21/22)/Ukraine/Full-time",
          "HE student enrolments by domicile and region of HE provider in the UK (AY: 21/22)/Bulgaria/Part-time",
          "HE student enrolments by domicile and region of HE provider in the UK (AY: 21/22)/Greece/Part-time",
          "HE student enrolments by domicile and region of HE provider in the UK (AY: 21/22)/Russia/Part-time",
          "HE student enrolments by domicile and region of HE provider in the UK (AY: 21/22)/Turkey/Part-time",
          "HE student enrolments by domicile and region of HE provider in the UK (AY: 21/22)/Bulgaria",
          "HE student enrolments by domicile and region of HE provider in the UK (AY: 21/22)/Greece",
          "HE student enrolments by domicile and region of HE provider in the UK (AY: 21/22)/Russia",
          "HE student enrolments by domicile and region of HE provider in the UK (AY: 21/22)/Turkey",
          "HE student enrolments by domicile and region of HE provider in the UK (AY: 21/22)/Ukraine",
          "HE student enrolments by domicile and region of HE provider in the UK (AY: 21/22)/Bulgaria",
          "HE student enrolments by domicile and region of HE provider in the UK (AY: 21/22)/Greece",
          "HE student enrolments by domicile and region of HE provider in the UK (AY: 21/22)/Russia",
          "HE student enrolments by domicile and region of HE provider in the UK (AY: 21/22)/Turkey",
          "HE student enrolments by domicile and region of HE provider in the UK (AY: 21/22)/Ukraine",
          "HE student enrolments by domicile and region of HE provider in the UK (AY: 21/22)",
          "HE student enrolments by domicile and region of HE provider in the UK (AY: 21/22)",
          "HE student enrolments by domicile and region of HE provider in the UK (AY: 21/22)",
          "HE student enrolments by domicile and region of HE provider in the UK (AY: 21/22)",
          "HE student enrolments by domicile and region of HE provider in the UK (AY: 21/22)",
          ""
         ],
         "textinfo": "label+text+value",
         "type": "treemap",
         "values": [
          165,
          240,
          90,
          285,
          30,
          5,
          20,
          5,
          5,
          255,
          365,
          165,
          250,
          50,
          20,
          45,
          5,
          870,
          1730,
          1515,
          1875,
          385,
          65,
          210,
          80,
          80,
          25,
          75,
          440,
          100,
          145,
          30,
          40,
          320,
          335,
          165,
          270,
          40,
          5,
          60,
          5,
          10,
          5,
          15,
          15,
          40,
          5,
          5,
          645,
          850,
          275,
          370,
          80,
          40,
          100,
          30,
          30,
          5,
          610,
          1020,
          360,
          615,
          75,
          25,
          70,
          30,
          25,
          5,
          260,
          495,
          225,
          390,
          75,
          15,
          40,
          5,
          20,
          145,
          240,
          40,
          105,
          15,
          35,
          5,
          10,
          250,
          340,
          125,
          235,
          55,
          15,
          60,
          15,
          10,
          190,
          300,
          85,
          190,
          35,
          15,
          40,
          5,
          10,
          3790,
          6370,
          3160,
          4770,
          875,
          205,
          725,
          180,
          205,
          35,
          3995,
          7095,
          3340,
          4975,
          910,
          20315
         ]
        }
       ],
       "layout": {
        "height": 1200,
        "legend": {
         "tracegroupgap": 0
        },
        "margin": {
         "t": 60
        },
        "template": {
         "data": {
          "bar": [
           {
            "error_x": {
             "color": "#2a3f5f"
            },
            "error_y": {
             "color": "#2a3f5f"
            },
            "marker": {
             "line": {
              "color": "white",
              "width": 0.5
             },
             "pattern": {
              "fillmode": "overlay",
              "size": 10,
              "solidity": 0.2
             }
            },
            "type": "bar"
           }
          ],
          "barpolar": [
           {
            "marker": {
             "line": {
              "color": "white",
              "width": 0.5
             },
             "pattern": {
              "fillmode": "overlay",
              "size": 10,
              "solidity": 0.2
             }
            },
            "type": "barpolar"
           }
          ],
          "carpet": [
           {
            "aaxis": {
             "endlinecolor": "#2a3f5f",
             "gridcolor": "#C8D4E3",
             "linecolor": "#C8D4E3",
             "minorgridcolor": "#C8D4E3",
             "startlinecolor": "#2a3f5f"
            },
            "baxis": {
             "endlinecolor": "#2a3f5f",
             "gridcolor": "#C8D4E3",
             "linecolor": "#C8D4E3",
             "minorgridcolor": "#C8D4E3",
             "startlinecolor": "#2a3f5f"
            },
            "type": "carpet"
           }
          ],
          "choropleth": [
           {
            "colorbar": {
             "outlinewidth": 0,
             "ticks": ""
            },
            "type": "choropleth"
           }
          ],
          "contour": [
           {
            "colorbar": {
             "outlinewidth": 0,
             "ticks": ""
            },
            "colorscale": [
             [
              0,
              "#0d0887"
             ],
             [
              0.1111111111111111,
              "#46039f"
             ],
             [
              0.2222222222222222,
              "#7201a8"
             ],
             [
              0.3333333333333333,
              "#9c179e"
             ],
             [
              0.4444444444444444,
              "#bd3786"
             ],
             [
              0.5555555555555556,
              "#d8576b"
             ],
             [
              0.6666666666666666,
              "#ed7953"
             ],
             [
              0.7777777777777778,
              "#fb9f3a"
             ],
             [
              0.8888888888888888,
              "#fdca26"
             ],
             [
              1,
              "#f0f921"
             ]
            ],
            "type": "contour"
           }
          ],
          "contourcarpet": [
           {
            "colorbar": {
             "outlinewidth": 0,
             "ticks": ""
            },
            "type": "contourcarpet"
           }
          ],
          "heatmap": [
           {
            "colorbar": {
             "outlinewidth": 0,
             "ticks": ""
            },
            "colorscale": [
             [
              0,
              "#0d0887"
             ],
             [
              0.1111111111111111,
              "#46039f"
             ],
             [
              0.2222222222222222,
              "#7201a8"
             ],
             [
              0.3333333333333333,
              "#9c179e"
             ],
             [
              0.4444444444444444,
              "#bd3786"
             ],
             [
              0.5555555555555556,
              "#d8576b"
             ],
             [
              0.6666666666666666,
              "#ed7953"
             ],
             [
              0.7777777777777778,
              "#fb9f3a"
             ],
             [
              0.8888888888888888,
              "#fdca26"
             ],
             [
              1,
              "#f0f921"
             ]
            ],
            "type": "heatmap"
           }
          ],
          "heatmapgl": [
           {
            "colorbar": {
             "outlinewidth": 0,
             "ticks": ""
            },
            "colorscale": [
             [
              0,
              "#0d0887"
             ],
             [
              0.1111111111111111,
              "#46039f"
             ],
             [
              0.2222222222222222,
              "#7201a8"
             ],
             [
              0.3333333333333333,
              "#9c179e"
             ],
             [
              0.4444444444444444,
              "#bd3786"
             ],
             [
              0.5555555555555556,
              "#d8576b"
             ],
             [
              0.6666666666666666,
              "#ed7953"
             ],
             [
              0.7777777777777778,
              "#fb9f3a"
             ],
             [
              0.8888888888888888,
              "#fdca26"
             ],
             [
              1,
              "#f0f921"
             ]
            ],
            "type": "heatmapgl"
           }
          ],
          "histogram": [
           {
            "marker": {
             "pattern": {
              "fillmode": "overlay",
              "size": 10,
              "solidity": 0.2
             }
            },
            "type": "histogram"
           }
          ],
          "histogram2d": [
           {
            "colorbar": {
             "outlinewidth": 0,
             "ticks": ""
            },
            "colorscale": [
             [
              0,
              "#0d0887"
             ],
             [
              0.1111111111111111,
              "#46039f"
             ],
             [
              0.2222222222222222,
              "#7201a8"
             ],
             [
              0.3333333333333333,
              "#9c179e"
             ],
             [
              0.4444444444444444,
              "#bd3786"
             ],
             [
              0.5555555555555556,
              "#d8576b"
             ],
             [
              0.6666666666666666,
              "#ed7953"
             ],
             [
              0.7777777777777778,
              "#fb9f3a"
             ],
             [
              0.8888888888888888,
              "#fdca26"
             ],
             [
              1,
              "#f0f921"
             ]
            ],
            "type": "histogram2d"
           }
          ],
          "histogram2dcontour": [
           {
            "colorbar": {
             "outlinewidth": 0,
             "ticks": ""
            },
            "colorscale": [
             [
              0,
              "#0d0887"
             ],
             [
              0.1111111111111111,
              "#46039f"
             ],
             [
              0.2222222222222222,
              "#7201a8"
             ],
             [
              0.3333333333333333,
              "#9c179e"
             ],
             [
              0.4444444444444444,
              "#bd3786"
             ],
             [
              0.5555555555555556,
              "#d8576b"
             ],
             [
              0.6666666666666666,
              "#ed7953"
             ],
             [
              0.7777777777777778,
              "#fb9f3a"
             ],
             [
              0.8888888888888888,
              "#fdca26"
             ],
             [
              1,
              "#f0f921"
             ]
            ],
            "type": "histogram2dcontour"
           }
          ],
          "mesh3d": [
           {
            "colorbar": {
             "outlinewidth": 0,
             "ticks": ""
            },
            "type": "mesh3d"
           }
          ],
          "parcoords": [
           {
            "line": {
             "colorbar": {
              "outlinewidth": 0,
              "ticks": ""
             }
            },
            "type": "parcoords"
           }
          ],
          "pie": [
           {
            "automargin": true,
            "type": "pie"
           }
          ],
          "scatter": [
           {
            "fillpattern": {
             "fillmode": "overlay",
             "size": 10,
             "solidity": 0.2
            },
            "type": "scatter"
           }
          ],
          "scatter3d": [
           {
            "line": {
             "colorbar": {
              "outlinewidth": 0,
              "ticks": ""
             }
            },
            "marker": {
             "colorbar": {
              "outlinewidth": 0,
              "ticks": ""
             }
            },
            "type": "scatter3d"
           }
          ],
          "scattercarpet": [
           {
            "marker": {
             "colorbar": {
              "outlinewidth": 0,
              "ticks": ""
             }
            },
            "type": "scattercarpet"
           }
          ],
          "scattergeo": [
           {
            "marker": {
             "colorbar": {
              "outlinewidth": 0,
              "ticks": ""
             }
            },
            "type": "scattergeo"
           }
          ],
          "scattergl": [
           {
            "marker": {
             "colorbar": {
              "outlinewidth": 0,
              "ticks": ""
             }
            },
            "type": "scattergl"
           }
          ],
          "scattermapbox": [
           {
            "marker": {
             "colorbar": {
              "outlinewidth": 0,
              "ticks": ""
             }
            },
            "type": "scattermapbox"
           }
          ],
          "scatterpolar": [
           {
            "marker": {
             "colorbar": {
              "outlinewidth": 0,
              "ticks": ""
             }
            },
            "type": "scatterpolar"
           }
          ],
          "scatterpolargl": [
           {
            "marker": {
             "colorbar": {
              "outlinewidth": 0,
              "ticks": ""
             }
            },
            "type": "scatterpolargl"
           }
          ],
          "scatterternary": [
           {
            "marker": {
             "colorbar": {
              "outlinewidth": 0,
              "ticks": ""
             }
            },
            "type": "scatterternary"
           }
          ],
          "surface": [
           {
            "colorbar": {
             "outlinewidth": 0,
             "ticks": ""
            },
            "colorscale": [
             [
              0,
              "#0d0887"
             ],
             [
              0.1111111111111111,
              "#46039f"
             ],
             [
              0.2222222222222222,
              "#7201a8"
             ],
             [
              0.3333333333333333,
              "#9c179e"
             ],
             [
              0.4444444444444444,
              "#bd3786"
             ],
             [
              0.5555555555555556,
              "#d8576b"
             ],
             [
              0.6666666666666666,
              "#ed7953"
             ],
             [
              0.7777777777777778,
              "#fb9f3a"
             ],
             [
              0.8888888888888888,
              "#fdca26"
             ],
             [
              1,
              "#f0f921"
             ]
            ],
            "type": "surface"
           }
          ],
          "table": [
           {
            "cells": {
             "fill": {
              "color": "#EBF0F8"
             },
             "line": {
              "color": "white"
             }
            },
            "header": {
             "fill": {
              "color": "#C8D4E3"
             },
             "line": {
              "color": "white"
             }
            },
            "type": "table"
           }
          ]
         },
         "layout": {
          "annotationdefaults": {
           "arrowcolor": "#2a3f5f",
           "arrowhead": 0,
           "arrowwidth": 1
          },
          "autotypenumbers": "strict",
          "coloraxis": {
           "colorbar": {
            "outlinewidth": 0,
            "ticks": ""
           }
          },
          "colorscale": {
           "diverging": [
            [
             0,
             "#8e0152"
            ],
            [
             0.1,
             "#c51b7d"
            ],
            [
             0.2,
             "#de77ae"
            ],
            [
             0.3,
             "#f1b6da"
            ],
            [
             0.4,
             "#fde0ef"
            ],
            [
             0.5,
             "#f7f7f7"
            ],
            [
             0.6,
             "#e6f5d0"
            ],
            [
             0.7,
             "#b8e186"
            ],
            [
             0.8,
             "#7fbc41"
            ],
            [
             0.9,
             "#4d9221"
            ],
            [
             1,
             "#276419"
            ]
           ],
           "sequential": [
            [
             0,
             "#0d0887"
            ],
            [
             0.1111111111111111,
             "#46039f"
            ],
            [
             0.2222222222222222,
             "#7201a8"
            ],
            [
             0.3333333333333333,
             "#9c179e"
            ],
            [
             0.4444444444444444,
             "#bd3786"
            ],
            [
             0.5555555555555556,
             "#d8576b"
            ],
            [
             0.6666666666666666,
             "#ed7953"
            ],
            [
             0.7777777777777778,
             "#fb9f3a"
            ],
            [
             0.8888888888888888,
             "#fdca26"
            ],
            [
             1,
             "#f0f921"
            ]
           ],
           "sequentialminus": [
            [
             0,
             "#0d0887"
            ],
            [
             0.1111111111111111,
             "#46039f"
            ],
            [
             0.2222222222222222,
             "#7201a8"
            ],
            [
             0.3333333333333333,
             "#9c179e"
            ],
            [
             0.4444444444444444,
             "#bd3786"
            ],
            [
             0.5555555555555556,
             "#d8576b"
            ],
            [
             0.6666666666666666,
             "#ed7953"
            ],
            [
             0.7777777777777778,
             "#fb9f3a"
            ],
            [
             0.8888888888888888,
             "#fdca26"
            ],
            [
             1,
             "#f0f921"
            ]
           ]
          },
          "colorway": [
           "#636efa",
           "#EF553B",
           "#00cc96",
           "#ab63fa",
           "#FFA15A",
           "#19d3f3",
           "#FF6692",
           "#B6E880",
           "#FF97FF",
           "#FECB52"
          ],
          "font": {
           "color": "#2a3f5f"
          },
          "geo": {
           "bgcolor": "white",
           "lakecolor": "white",
           "landcolor": "white",
           "showlakes": true,
           "showland": true,
           "subunitcolor": "#C8D4E3"
          },
          "hoverlabel": {
           "align": "left"
          },
          "hovermode": "closest",
          "mapbox": {
           "style": "light"
          },
          "paper_bgcolor": "white",
          "plot_bgcolor": "white",
          "polar": {
           "angularaxis": {
            "gridcolor": "#EBF0F8",
            "linecolor": "#EBF0F8",
            "ticks": ""
           },
           "bgcolor": "white",
           "radialaxis": {
            "gridcolor": "#EBF0F8",
            "linecolor": "#EBF0F8",
            "ticks": ""
           }
          },
          "scene": {
           "xaxis": {
            "backgroundcolor": "white",
            "gridcolor": "#DFE8F3",
            "gridwidth": 2,
            "linecolor": "#EBF0F8",
            "showbackground": true,
            "ticks": "",
            "zerolinecolor": "#EBF0F8"
           },
           "yaxis": {
            "backgroundcolor": "white",
            "gridcolor": "#DFE8F3",
            "gridwidth": 2,
            "linecolor": "#EBF0F8",
            "showbackground": true,
            "ticks": "",
            "zerolinecolor": "#EBF0F8"
           },
           "zaxis": {
            "backgroundcolor": "white",
            "gridcolor": "#DFE8F3",
            "gridwidth": 2,
            "linecolor": "#EBF0F8",
            "showbackground": true,
            "ticks": "",
            "zerolinecolor": "#EBF0F8"
           }
          },
          "shapedefaults": {
           "line": {
            "color": "#2a3f5f"
           }
          },
          "ternary": {
           "aaxis": {
            "gridcolor": "#DFE8F3",
            "linecolor": "#A2B1C6",
            "ticks": ""
           },
           "baxis": {
            "gridcolor": "#DFE8F3",
            "linecolor": "#A2B1C6",
            "ticks": ""
           },
           "bgcolor": "white",
           "caxis": {
            "gridcolor": "#DFE8F3",
            "linecolor": "#A2B1C6",
            "ticks": ""
           }
          },
          "title": {
           "x": 0.05
          },
          "xaxis": {
           "automargin": true,
           "gridcolor": "#EBF0F8",
           "linecolor": "#EBF0F8",
           "ticks": "",
           "title": {
            "standoff": 15
           },
           "zerolinecolor": "#EBF0F8",
           "zerolinewidth": 2
          },
          "yaxis": {
           "automargin": true,
           "gridcolor": "#EBF0F8",
           "linecolor": "#EBF0F8",
           "ticks": "",
           "title": {
            "standoff": 15
           },
           "zerolinecolor": "#EBF0F8",
           "zerolinewidth": 2
          }
         }
        },
        "width": 1000
       }
      },
      "text/html": [
       "<div>                            <div id=\"a45e8347-0db2-44e1-a263-ab18c1fd5013\" class=\"plotly-graph-div\" style=\"height:1200px; width:1000px;\"></div>            <script type=\"text/javascript\">                require([\"plotly\"], function(Plotly) {                    window.PLOTLYENV=window.PLOTLYENV || {};                                    if (document.getElementById(\"a45e8347-0db2-44e1-a263-ab18c1fd5013\")) {                    Plotly.newPlot(                        \"a45e8347-0db2-44e1-a263-ab18c1fd5013\",                        [{\"branchvalues\":\"total\",\"domain\":{\"x\":[0.0,1.0],\"y\":[0.0,1.0]},\"hovertemplate\":\"Label: %{label}<br>Number: %{value}<br>Parent: %{parent}<br>Id: %{id}<extra></extra>\",\"ids\":[\"HE student enrolments by domicile and region of HE provider in the UK (AY: 21/22)/Bulgaria/Full-time/East Midlands\",\"HE student enrolments by domicile and region of HE provider in the UK (AY: 21/22)/Greece/Full-time/East Midlands\",\"HE student enrolments by domicile and region of HE provider in the UK (AY: 21/22)/Russia/Full-time/East Midlands\",\"HE student enrolments by domicile and region of HE provider in the UK (AY: 21/22)/Turkey/Full-time/East Midlands\",\"HE student enrolments by domicile and region of HE provider in the UK (AY: 21/22)/Ukraine/Full-time/East Midlands\",\"HE student enrolments by domicile and region of HE provider in the UK (AY: 21/22)/Bulgaria/Part-time/East Midlands\",\"HE student enrolments by domicile and region of HE provider in the UK (AY: 21/22)/Greece/Part-time/East Midlands\",\"HE student enrolments by domicile and region of HE provider in the UK (AY: 21/22)/Russia/Part-time/East Midlands\",\"HE student enrolments by domicile and region of HE provider in the UK (AY: 21/22)/Turkey/Part-time/East Midlands\",\"HE student enrolments by domicile and region of HE provider in the UK (AY: 21/22)/Bulgaria/Full-time/East of England\",\"HE student enrolments by domicile and region of HE provider in the UK (AY: 21/22)/Greece/Full-time/East of England\",\"HE student enrolments by domicile and region of HE provider in the UK (AY: 21/22)/Russia/Full-time/East of England\",\"HE student enrolments by domicile and region of HE provider in the UK (AY: 21/22)/Turkey/Full-time/East of England\",\"HE student enrolments by domicile and region of HE provider in the UK (AY: 21/22)/Ukraine/Full-time/East of England\",\"HE student enrolments by domicile and region of HE provider in the UK (AY: 21/22)/Bulgaria/Part-time/East of England\",\"HE student enrolments by domicile and region of HE provider in the UK (AY: 21/22)/Greece/Part-time/East of England\",\"HE student enrolments by domicile and region of HE provider in the UK (AY: 21/22)/Turkey/Part-time/East of England\",\"HE student enrolments by domicile and region of HE provider in the UK (AY: 21/22)/Bulgaria/Full-time/London\",\"HE student enrolments by domicile and region of HE provider in the UK (AY: 21/22)/Greece/Full-time/London\",\"HE student enrolments by domicile and region of HE provider in the UK (AY: 21/22)/Russia/Full-time/London\",\"HE student enrolments by domicile and region of HE provider in the UK (AY: 21/22)/Turkey/Full-time/London\",\"HE student enrolments by domicile and region of HE provider in the UK (AY: 21/22)/Ukraine/Full-time/London\",\"HE student enrolments by domicile and region of HE provider in the UK (AY: 21/22)/Bulgaria/Part-time/London\",\"HE student enrolments by domicile and region of HE provider in the UK (AY: 21/22)/Greece/Part-time/London\",\"HE student enrolments by domicile and region of HE provider in the UK (AY: 21/22)/Russia/Part-time/London\",\"HE student enrolments by domicile and region of HE provider in the UK (AY: 21/22)/Turkey/Part-time/London\",\"HE student enrolments by domicile and region of HE provider in the UK (AY: 21/22)/Ukraine/Part-time/London\",\"HE student enrolments by domicile and region of HE provider in the UK (AY: 21/22)/Bulgaria/Full-time/North East\",\"HE student enrolments by domicile and region of HE provider in the UK (AY: 21/22)/Greece/Full-time/North East\",\"HE student enrolments by domicile and region of HE provider in the UK (AY: 21/22)/Russia/Full-time/North East\",\"HE student enrolments by domicile and region of HE provider in the UK (AY: 21/22)/Turkey/Full-time/North East\",\"HE student enrolments by domicile and region of HE provider in the UK (AY: 21/22)/Ukraine/Full-time/North East\",\"HE student enrolments by domicile and region of HE provider in the UK (AY: 21/22)/Greece/Part-time/North East\",\"HE student enrolments by domicile and region of HE provider in the UK (AY: 21/22)/Bulgaria/Full-time/North West\",\"HE student enrolments by domicile and region of HE provider in the UK (AY: 21/22)/Greece/Full-time/North West\",\"HE student enrolments by domicile and region of HE provider in the UK (AY: 21/22)/Russia/Full-time/North West\",\"HE student enrolments by domicile and region of HE provider in the UK (AY: 21/22)/Turkey/Full-time/North West\",\"HE student enrolments by domicile and region of HE provider in the UK (AY: 21/22)/Ukraine/Full-time/North West\",\"HE student enrolments by domicile and region of HE provider in the UK (AY: 21/22)/Bulgaria/Part-time/North West\",\"HE student enrolments by domicile and region of HE provider in the UK (AY: 21/22)/Greece/Part-time/North West\",\"HE student enrolments by domicile and region of HE provider in the UK (AY: 21/22)/Russia/Part-time/North West\",\"HE student enrolments by domicile and region of HE provider in the UK (AY: 21/22)/Turkey/Part-time/North West\",\"HE student enrolments by domicile and region of HE provider in the UK (AY: 21/22)/Bulgaria/Full-time/Northern Ireland\",\"HE student enrolments by domicile and region of HE provider in the UK (AY: 21/22)/Greece/Full-time/Northern Ireland\",\"HE student enrolments by domicile and region of HE provider in the UK (AY: 21/22)/Russia/Full-time/Northern Ireland\",\"HE student enrolments by domicile and region of HE provider in the UK (AY: 21/22)/Turkey/Full-time/Northern Ireland\",\"HE student enrolments by domicile and region of HE provider in the UK (AY: 21/22)/Ukraine/Full-time/Northern Ireland\",\"HE student enrolments by domicile and region of HE provider in the UK (AY: 21/22)/Greece/Part-time/Northern Ireland\",\"HE student enrolments by domicile and region of HE provider in the UK (AY: 21/22)/Bulgaria/Full-time/Scotland\",\"HE student enrolments by domicile and region of HE provider in the UK (AY: 21/22)/Greece/Full-time/Scotland\",\"HE student enrolments by domicile and region of HE provider in the UK (AY: 21/22)/Russia/Full-time/Scotland\",\"HE student enrolments by domicile and region of HE provider in the UK (AY: 21/22)/Turkey/Full-time/Scotland\",\"HE student enrolments by domicile and region of HE provider in the UK (AY: 21/22)/Ukraine/Full-time/Scotland\",\"HE student enrolments by domicile and region of HE provider in the UK (AY: 21/22)/Bulgaria/Part-time/Scotland\",\"HE student enrolments by domicile and region of HE provider in the UK (AY: 21/22)/Greece/Part-time/Scotland\",\"HE student enrolments by domicile and region of HE provider in the UK (AY: 21/22)/Russia/Part-time/Scotland\",\"HE student enrolments by domicile and region of HE provider in the UK (AY: 21/22)/Turkey/Part-time/Scotland\",\"HE student enrolments by domicile and region of HE provider in the UK (AY: 21/22)/Ukraine/Part-time/Scotland\",\"HE student enrolments by domicile and region of HE provider in the UK (AY: 21/22)/Bulgaria/Full-time/South East\",\"HE student enrolments by domicile and region of HE provider in the UK (AY: 21/22)/Greece/Full-time/South East\",\"HE student enrolments by domicile and region of HE provider in the UK (AY: 21/22)/Russia/Full-time/South East\",\"HE student enrolments by domicile and region of HE provider in the UK (AY: 21/22)/Turkey/Full-time/South East\",\"HE student enrolments by domicile and region of HE provider in the UK (AY: 21/22)/Ukraine/Full-time/South East\",\"HE student enrolments by domicile and region of HE provider in the UK (AY: 21/22)/Bulgaria/Part-time/South East\",\"HE student enrolments by domicile and region of HE provider in the UK (AY: 21/22)/Greece/Part-time/South East\",\"HE student enrolments by domicile and region of HE provider in the UK (AY: 21/22)/Russia/Part-time/South East\",\"HE student enrolments by domicile and region of HE provider in the UK (AY: 21/22)/Turkey/Part-time/South East\",\"HE student enrolments by domicile and region of HE provider in the UK (AY: 21/22)/Ukraine/Part-time/South East\",\"HE student enrolments by domicile and region of HE provider in the UK (AY: 21/22)/Bulgaria/Full-time/South West\",\"HE student enrolments by domicile and region of HE provider in the UK (AY: 21/22)/Greece/Full-time/South West\",\"HE student enrolments by domicile and region of HE provider in the UK (AY: 21/22)/Russia/Full-time/South West\",\"HE student enrolments by domicile and region of HE provider in the UK (AY: 21/22)/Turkey/Full-time/South West\",\"HE student enrolments by domicile and region of HE provider in the UK (AY: 21/22)/Ukraine/Full-time/South West\",\"HE student enrolments by domicile and region of HE provider in the UK (AY: 21/22)/Bulgaria/Part-time/South West\",\"HE student enrolments by domicile and region of HE provider in the UK (AY: 21/22)/Greece/Part-time/South West\",\"HE student enrolments by domicile and region of HE provider in the UK (AY: 21/22)/Russia/Part-time/South West\",\"HE student enrolments by domicile and region of HE provider in the UK (AY: 21/22)/Turkey/Part-time/South West\",\"HE student enrolments by domicile and region of HE provider in the UK (AY: 21/22)/Bulgaria/Full-time/Wales\",\"HE student enrolments by domicile and region of HE provider in the UK (AY: 21/22)/Greece/Full-time/Wales\",\"HE student enrolments by domicile and region of HE provider in the UK (AY: 21/22)/Russia/Full-time/Wales\",\"HE student enrolments by domicile and region of HE provider in the UK (AY: 21/22)/Turkey/Full-time/Wales\",\"HE student enrolments by domicile and region of HE provider in the UK (AY: 21/22)/Ukraine/Full-time/Wales\",\"HE student enrolments by domicile and region of HE provider in the UK (AY: 21/22)/Greece/Part-time/Wales\",\"HE student enrolments by domicile and region of HE provider in the UK (AY: 21/22)/Russia/Part-time/Wales\",\"HE student enrolments by domicile and region of HE provider in the UK (AY: 21/22)/Turkey/Part-time/Wales\",\"HE student enrolments by domicile and region of HE provider in the UK (AY: 21/22)/Bulgaria/Full-time/West Midlands\",\"HE student enrolments by domicile and region of HE provider in the UK (AY: 21/22)/Greece/Full-time/West Midlands\",\"HE student enrolments by domicile and region of HE provider in the UK (AY: 21/22)/Russia/Full-time/West Midlands\",\"HE student enrolments by domicile and region of HE provider in the UK (AY: 21/22)/Turkey/Full-time/West Midlands\",\"HE student enrolments by domicile and region of HE provider in the UK (AY: 21/22)/Ukraine/Full-time/West Midlands\",\"HE student enrolments by domicile and region of HE provider in the UK (AY: 21/22)/Bulgaria/Part-time/West Midlands\",\"HE student enrolments by domicile and region of HE provider in the UK (AY: 21/22)/Greece/Part-time/West Midlands\",\"HE student enrolments by domicile and region of HE provider in the UK (AY: 21/22)/Russia/Part-time/West Midlands\",\"HE student enrolments by domicile and region of HE provider in the UK (AY: 21/22)/Turkey/Part-time/West Midlands\",\"HE student enrolments by domicile and region of HE provider in the UK (AY: 21/22)/Bulgaria/Full-time/Yorkshire and The Humber\",\"HE student enrolments by domicile and region of HE provider in the UK (AY: 21/22)/Greece/Full-time/Yorkshire and The Humber\",\"HE student enrolments by domicile and region of HE provider in the UK (AY: 21/22)/Russia/Full-time/Yorkshire and The Humber\",\"HE student enrolments by domicile and region of HE provider in the UK (AY: 21/22)/Turkey/Full-time/Yorkshire and The Humber\",\"HE student enrolments by domicile and region of HE provider in the UK (AY: 21/22)/Ukraine/Full-time/Yorkshire and The Humber\",\"HE student enrolments by domicile and region of HE provider in the UK (AY: 21/22)/Bulgaria/Part-time/Yorkshire and The Humber\",\"HE student enrolments by domicile and region of HE provider in the UK (AY: 21/22)/Greece/Part-time/Yorkshire and The Humber\",\"HE student enrolments by domicile and region of HE provider in the UK (AY: 21/22)/Russia/Part-time/Yorkshire and The Humber\",\"HE student enrolments by domicile and region of HE provider in the UK (AY: 21/22)/Turkey/Part-time/Yorkshire and The Humber\",\"HE student enrolments by domicile and region of HE provider in the UK (AY: 21/22)/Bulgaria/Full-time\",\"HE student enrolments by domicile and region of HE provider in the UK (AY: 21/22)/Greece/Full-time\",\"HE student enrolments by domicile and region of HE provider in the UK (AY: 21/22)/Russia/Full-time\",\"HE student enrolments by domicile and region of HE provider in the UK (AY: 21/22)/Turkey/Full-time\",\"HE student enrolments by domicile and region of HE provider in the UK (AY: 21/22)/Ukraine/Full-time\",\"HE student enrolments by domicile and region of HE provider in the UK (AY: 21/22)/Bulgaria/Part-time\",\"HE student enrolments by domicile and region of HE provider in the UK (AY: 21/22)/Greece/Part-time\",\"HE student enrolments by domicile and region of HE provider in the UK (AY: 21/22)/Russia/Part-time\",\"HE student enrolments by domicile and region of HE provider in the UK (AY: 21/22)/Turkey/Part-time\",\"HE student enrolments by domicile and region of HE provider in the UK (AY: 21/22)/Ukraine/Part-time\",\"HE student enrolments by domicile and region of HE provider in the UK (AY: 21/22)/Bulgaria\",\"HE student enrolments by domicile and region of HE provider in the UK (AY: 21/22)/Greece\",\"HE student enrolments by domicile and region of HE provider in the UK (AY: 21/22)/Russia\",\"HE student enrolments by domicile and region of HE provider in the UK (AY: 21/22)/Turkey\",\"HE student enrolments by domicile and region of HE provider in the UK (AY: 21/22)/Ukraine\",\"HE student enrolments by domicile and region of HE provider in the UK (AY: 21/22)\"],\"labels\":[\"East Midlands\",\"East Midlands\",\"East Midlands\",\"East Midlands\",\"East Midlands\",\"East Midlands\",\"East Midlands\",\"East Midlands\",\"East Midlands\",\"East of England\",\"East of England\",\"East of England\",\"East of England\",\"East of England\",\"East of England\",\"East of England\",\"East of England\",\"London\",\"London\",\"London\",\"London\",\"London\",\"London\",\"London\",\"London\",\"London\",\"London\",\"North East\",\"North East\",\"North East\",\"North East\",\"North East\",\"North East\",\"North West\",\"North West\",\"North West\",\"North West\",\"North West\",\"North West\",\"North West\",\"North West\",\"North West\",\"Northern Ireland\",\"Northern Ireland\",\"Northern Ireland\",\"Northern Ireland\",\"Northern Ireland\",\"Northern Ireland\",\"Scotland\",\"Scotland\",\"Scotland\",\"Scotland\",\"Scotland\",\"Scotland\",\"Scotland\",\"Scotland\",\"Scotland\",\"Scotland\",\"South East\",\"South East\",\"South East\",\"South East\",\"South East\",\"South East\",\"South East\",\"South East\",\"South East\",\"South East\",\"South West\",\"South West\",\"South West\",\"South West\",\"South West\",\"South West\",\"South West\",\"South West\",\"South West\",\"Wales\",\"Wales\",\"Wales\",\"Wales\",\"Wales\",\"Wales\",\"Wales\",\"Wales\",\"West Midlands\",\"West Midlands\",\"West Midlands\",\"West Midlands\",\"West Midlands\",\"West Midlands\",\"West Midlands\",\"West Midlands\",\"West Midlands\",\"Yorkshire and The Humber\",\"Yorkshire and The Humber\",\"Yorkshire and The Humber\",\"Yorkshire and The Humber\",\"Yorkshire and The Humber\",\"Yorkshire and The Humber\",\"Yorkshire and The Humber\",\"Yorkshire and The Humber\",\"Yorkshire and The Humber\",\"Full-time\",\"Full-time\",\"Full-time\",\"Full-time\",\"Full-time\",\"Part-time\",\"Part-time\",\"Part-time\",\"Part-time\",\"Part-time\",\"Bulgaria\",\"Greece\",\"Russia\",\"Turkey\",\"Ukraine\",\"HE student enrolments by domicile and region of HE provider in the UK (AY: 21/22)\"],\"name\":\"\",\"parents\":[\"HE student enrolments by domicile and region of HE provider in the UK (AY: 21/22)/Bulgaria/Full-time\",\"HE student enrolments by domicile and region of HE provider in the UK (AY: 21/22)/Greece/Full-time\",\"HE student enrolments by domicile and region of HE provider in the UK (AY: 21/22)/Russia/Full-time\",\"HE student enrolments by domicile and region of HE provider in the UK (AY: 21/22)/Turkey/Full-time\",\"HE student enrolments by domicile and region of HE provider in the UK (AY: 21/22)/Ukraine/Full-time\",\"HE student enrolments by domicile and region of HE provider in the UK (AY: 21/22)/Bulgaria/Part-time\",\"HE student enrolments by domicile and region of HE provider in the UK (AY: 21/22)/Greece/Part-time\",\"HE student enrolments by domicile and region of HE provider in the UK (AY: 21/22)/Russia/Part-time\",\"HE student enrolments by domicile and region of HE provider in the UK (AY: 21/22)/Turkey/Part-time\",\"HE student enrolments by domicile and region of HE provider in the UK (AY: 21/22)/Bulgaria/Full-time\",\"HE student enrolments by domicile and region of HE provider in the UK (AY: 21/22)/Greece/Full-time\",\"HE student enrolments by domicile and region of HE provider in the UK (AY: 21/22)/Russia/Full-time\",\"HE student enrolments by domicile and region of HE provider in the UK (AY: 21/22)/Turkey/Full-time\",\"HE student enrolments by domicile and region of HE provider in the UK (AY: 21/22)/Ukraine/Full-time\",\"HE student enrolments by domicile and region of HE provider in the UK (AY: 21/22)/Bulgaria/Part-time\",\"HE student enrolments by domicile and region of HE provider in the UK (AY: 21/22)/Greece/Part-time\",\"HE student enrolments by domicile and region of HE provider in the UK (AY: 21/22)/Turkey/Part-time\",\"HE student enrolments by domicile and region of HE provider in the UK (AY: 21/22)/Bulgaria/Full-time\",\"HE student enrolments by domicile and region of HE provider in the UK (AY: 21/22)/Greece/Full-time\",\"HE student enrolments by domicile and region of HE provider in the UK (AY: 21/22)/Russia/Full-time\",\"HE student enrolments by domicile and region of HE provider in the UK (AY: 21/22)/Turkey/Full-time\",\"HE student enrolments by domicile and region of HE provider in the UK (AY: 21/22)/Ukraine/Full-time\",\"HE student enrolments by domicile and region of HE provider in the UK (AY: 21/22)/Bulgaria/Part-time\",\"HE student enrolments by domicile and region of HE provider in the UK (AY: 21/22)/Greece/Part-time\",\"HE student enrolments by domicile and region of HE provider in the UK (AY: 21/22)/Russia/Part-time\",\"HE student enrolments by domicile and region of HE provider in the UK (AY: 21/22)/Turkey/Part-time\",\"HE student enrolments by domicile and region of HE provider in the UK (AY: 21/22)/Ukraine/Part-time\",\"HE student enrolments by domicile and region of HE provider in the UK (AY: 21/22)/Bulgaria/Full-time\",\"HE student enrolments by domicile and region of HE provider in the UK (AY: 21/22)/Greece/Full-time\",\"HE student enrolments by domicile and region of HE provider in the UK (AY: 21/22)/Russia/Full-time\",\"HE student enrolments by domicile and region of HE provider in the UK (AY: 21/22)/Turkey/Full-time\",\"HE student enrolments by domicile and region of HE provider in the UK (AY: 21/22)/Ukraine/Full-time\",\"HE student enrolments by domicile and region of HE provider in the UK (AY: 21/22)/Greece/Part-time\",\"HE student enrolments by domicile and region of HE provider in the UK (AY: 21/22)/Bulgaria/Full-time\",\"HE student enrolments by domicile and region of HE provider in the UK (AY: 21/22)/Greece/Full-time\",\"HE student enrolments by domicile and region of HE provider in the UK (AY: 21/22)/Russia/Full-time\",\"HE student enrolments by domicile and region of HE provider in the UK (AY: 21/22)/Turkey/Full-time\",\"HE student enrolments by domicile and region of HE provider in the UK (AY: 21/22)/Ukraine/Full-time\",\"HE student enrolments by domicile and region of HE provider in the UK (AY: 21/22)/Bulgaria/Part-time\",\"HE student enrolments by domicile and region of HE provider in the UK (AY: 21/22)/Greece/Part-time\",\"HE student enrolments by domicile and region of HE provider in the UK (AY: 21/22)/Russia/Part-time\",\"HE student enrolments by domicile and region of HE provider in the UK (AY: 21/22)/Turkey/Part-time\",\"HE student enrolments by domicile and region of HE provider in the UK (AY: 21/22)/Bulgaria/Full-time\",\"HE student enrolments by domicile and region of HE provider in the UK (AY: 21/22)/Greece/Full-time\",\"HE student enrolments by domicile and region of HE provider in the UK (AY: 21/22)/Russia/Full-time\",\"HE student enrolments by domicile and region of HE provider in the UK (AY: 21/22)/Turkey/Full-time\",\"HE student enrolments by domicile and region of HE provider in the UK (AY: 21/22)/Ukraine/Full-time\",\"HE student enrolments by domicile and region of HE provider in the UK (AY: 21/22)/Greece/Part-time\",\"HE student enrolments by domicile and region of HE provider in the UK (AY: 21/22)/Bulgaria/Full-time\",\"HE student enrolments by domicile and region of HE provider in the UK (AY: 21/22)/Greece/Full-time\",\"HE student enrolments by domicile and region of HE provider in the UK (AY: 21/22)/Russia/Full-time\",\"HE student enrolments by domicile and region of HE provider in the UK (AY: 21/22)/Turkey/Full-time\",\"HE student enrolments by domicile and region of HE provider in the UK (AY: 21/22)/Ukraine/Full-time\",\"HE student enrolments by domicile and region of HE provider in the UK (AY: 21/22)/Bulgaria/Part-time\",\"HE student enrolments by domicile and region of HE provider in the UK (AY: 21/22)/Greece/Part-time\",\"HE student enrolments by domicile and region of HE provider in the UK (AY: 21/22)/Russia/Part-time\",\"HE student enrolments by domicile and region of HE provider in the UK (AY: 21/22)/Turkey/Part-time\",\"HE student enrolments by domicile and region of HE provider in the UK (AY: 21/22)/Ukraine/Part-time\",\"HE student enrolments by domicile and region of HE provider in the UK (AY: 21/22)/Bulgaria/Full-time\",\"HE student enrolments by domicile and region of HE provider in the UK (AY: 21/22)/Greece/Full-time\",\"HE student enrolments by domicile and region of HE provider in the UK (AY: 21/22)/Russia/Full-time\",\"HE student enrolments by domicile and region of HE provider in the UK (AY: 21/22)/Turkey/Full-time\",\"HE student enrolments by domicile and region of HE provider in the UK (AY: 21/22)/Ukraine/Full-time\",\"HE student enrolments by domicile and region of HE provider in the UK (AY: 21/22)/Bulgaria/Part-time\",\"HE student enrolments by domicile and region of HE provider in the UK (AY: 21/22)/Greece/Part-time\",\"HE student enrolments by domicile and region of HE provider in the UK (AY: 21/22)/Russia/Part-time\",\"HE student enrolments by domicile and region of HE provider in the UK (AY: 21/22)/Turkey/Part-time\",\"HE student enrolments by domicile and region of HE provider in the UK (AY: 21/22)/Ukraine/Part-time\",\"HE student enrolments by domicile and region of HE provider in the UK (AY: 21/22)/Bulgaria/Full-time\",\"HE student enrolments by domicile and region of HE provider in the UK (AY: 21/22)/Greece/Full-time\",\"HE student enrolments by domicile and region of HE provider in the UK (AY: 21/22)/Russia/Full-time\",\"HE student enrolments by domicile and region of HE provider in the UK (AY: 21/22)/Turkey/Full-time\",\"HE student enrolments by domicile and region of HE provider in the UK (AY: 21/22)/Ukraine/Full-time\",\"HE student enrolments by domicile and region of HE provider in the UK (AY: 21/22)/Bulgaria/Part-time\",\"HE student enrolments by domicile and region of HE provider in the UK (AY: 21/22)/Greece/Part-time\",\"HE student enrolments by domicile and region of HE provider in the UK (AY: 21/22)/Russia/Part-time\",\"HE student enrolments by domicile and region of HE provider in the UK (AY: 21/22)/Turkey/Part-time\",\"HE student enrolments by domicile and region of HE provider in the UK (AY: 21/22)/Bulgaria/Full-time\",\"HE student enrolments by domicile and region of HE provider in the UK (AY: 21/22)/Greece/Full-time\",\"HE student enrolments by domicile and region of HE provider in the UK (AY: 21/22)/Russia/Full-time\",\"HE student enrolments by domicile and region of HE provider in the UK (AY: 21/22)/Turkey/Full-time\",\"HE student enrolments by domicile and region of HE provider in the UK (AY: 21/22)/Ukraine/Full-time\",\"HE student enrolments by domicile and region of HE provider in the UK (AY: 21/22)/Greece/Part-time\",\"HE student enrolments by domicile and region of HE provider in the UK (AY: 21/22)/Russia/Part-time\",\"HE student enrolments by domicile and region of HE provider in the UK (AY: 21/22)/Turkey/Part-time\",\"HE student enrolments by domicile and region of HE provider in the UK (AY: 21/22)/Bulgaria/Full-time\",\"HE student enrolments by domicile and region of HE provider in the UK (AY: 21/22)/Greece/Full-time\",\"HE student enrolments by domicile and region of HE provider in the UK (AY: 21/22)/Russia/Full-time\",\"HE student enrolments by domicile and region of HE provider in the UK (AY: 21/22)/Turkey/Full-time\",\"HE student enrolments by domicile and region of HE provider in the UK (AY: 21/22)/Ukraine/Full-time\",\"HE student enrolments by domicile and region of HE provider in the UK (AY: 21/22)/Bulgaria/Part-time\",\"HE student enrolments by domicile and region of HE provider in the UK (AY: 21/22)/Greece/Part-time\",\"HE student enrolments by domicile and region of HE provider in the UK (AY: 21/22)/Russia/Part-time\",\"HE student enrolments by domicile and region of HE provider in the UK (AY: 21/22)/Turkey/Part-time\",\"HE student enrolments by domicile and region of HE provider in the UK (AY: 21/22)/Bulgaria/Full-time\",\"HE student enrolments by domicile and region of HE provider in the UK (AY: 21/22)/Greece/Full-time\",\"HE student enrolments by domicile and region of HE provider in the UK (AY: 21/22)/Russia/Full-time\",\"HE student enrolments by domicile and region of HE provider in the UK (AY: 21/22)/Turkey/Full-time\",\"HE student enrolments by domicile and region of HE provider in the UK (AY: 21/22)/Ukraine/Full-time\",\"HE student enrolments by domicile and region of HE provider in the UK (AY: 21/22)/Bulgaria/Part-time\",\"HE student enrolments by domicile and region of HE provider in the UK (AY: 21/22)/Greece/Part-time\",\"HE student enrolments by domicile and region of HE provider in the UK (AY: 21/22)/Russia/Part-time\",\"HE student enrolments by domicile and region of HE provider in the UK (AY: 21/22)/Turkey/Part-time\",\"HE student enrolments by domicile and region of HE provider in the UK (AY: 21/22)/Bulgaria\",\"HE student enrolments by domicile and region of HE provider in the UK (AY: 21/22)/Greece\",\"HE student enrolments by domicile and region of HE provider in the UK (AY: 21/22)/Russia\",\"HE student enrolments by domicile and region of HE provider in the UK (AY: 21/22)/Turkey\",\"HE student enrolments by domicile and region of HE provider in the UK (AY: 21/22)/Ukraine\",\"HE student enrolments by domicile and region of HE provider in the UK (AY: 21/22)/Bulgaria\",\"HE student enrolments by domicile and region of HE provider in the UK (AY: 21/22)/Greece\",\"HE student enrolments by domicile and region of HE provider in the UK (AY: 21/22)/Russia\",\"HE student enrolments by domicile and region of HE provider in the UK (AY: 21/22)/Turkey\",\"HE student enrolments by domicile and region of HE provider in the UK (AY: 21/22)/Ukraine\",\"HE student enrolments by domicile and region of HE provider in the UK (AY: 21/22)\",\"HE student enrolments by domicile and region of HE provider in the UK (AY: 21/22)\",\"HE student enrolments by domicile and region of HE provider in the UK (AY: 21/22)\",\"HE student enrolments by domicile and region of HE provider in the UK (AY: 21/22)\",\"HE student enrolments by domicile and region of HE provider in the UK (AY: 21/22)\",\"\"],\"values\":[165,240,90,285,30,5,20,5,5,255,365,165,250,50,20,45,5,870,1730,1515,1875,385,65,210,80,80,25,75,440,100,145,30,40,320,335,165,270,40,5,60,5,10,5,15,15,40,5,5,645,850,275,370,80,40,100,30,30,5,610,1020,360,615,75,25,70,30,25,5,260,495,225,390,75,15,40,5,20,145,240,40,105,15,35,5,10,250,340,125,235,55,15,60,15,10,190,300,85,190,35,15,40,5,10,3790,6370,3160,4770,875,205,725,180,205,35,3995,7095,3340,4975,910,20315],\"type\":\"treemap\",\"textinfo\":\"label+text+value\"}],                        {\"template\":{\"data\":{\"barpolar\":[{\"marker\":{\"line\":{\"color\":\"white\",\"width\":0.5},\"pattern\":{\"fillmode\":\"overlay\",\"size\":10,\"solidity\":0.2}},\"type\":\"barpolar\"}],\"bar\":[{\"error_x\":{\"color\":\"#2a3f5f\"},\"error_y\":{\"color\":\"#2a3f5f\"},\"marker\":{\"line\":{\"color\":\"white\",\"width\":0.5},\"pattern\":{\"fillmode\":\"overlay\",\"size\":10,\"solidity\":0.2}},\"type\":\"bar\"}],\"carpet\":[{\"aaxis\":{\"endlinecolor\":\"#2a3f5f\",\"gridcolor\":\"#C8D4E3\",\"linecolor\":\"#C8D4E3\",\"minorgridcolor\":\"#C8D4E3\",\"startlinecolor\":\"#2a3f5f\"},\"baxis\":{\"endlinecolor\":\"#2a3f5f\",\"gridcolor\":\"#C8D4E3\",\"linecolor\":\"#C8D4E3\",\"minorgridcolor\":\"#C8D4E3\",\"startlinecolor\":\"#2a3f5f\"},\"type\":\"carpet\"}],\"choropleth\":[{\"colorbar\":{\"outlinewidth\":0,\"ticks\":\"\"},\"type\":\"choropleth\"}],\"contourcarpet\":[{\"colorbar\":{\"outlinewidth\":0,\"ticks\":\"\"},\"type\":\"contourcarpet\"}],\"contour\":[{\"colorbar\":{\"outlinewidth\":0,\"ticks\":\"\"},\"colorscale\":[[0.0,\"#0d0887\"],[0.1111111111111111,\"#46039f\"],[0.2222222222222222,\"#7201a8\"],[0.3333333333333333,\"#9c179e\"],[0.4444444444444444,\"#bd3786\"],[0.5555555555555556,\"#d8576b\"],[0.6666666666666666,\"#ed7953\"],[0.7777777777777778,\"#fb9f3a\"],[0.8888888888888888,\"#fdca26\"],[1.0,\"#f0f921\"]],\"type\":\"contour\"}],\"heatmapgl\":[{\"colorbar\":{\"outlinewidth\":0,\"ticks\":\"\"},\"colorscale\":[[0.0,\"#0d0887\"],[0.1111111111111111,\"#46039f\"],[0.2222222222222222,\"#7201a8\"],[0.3333333333333333,\"#9c179e\"],[0.4444444444444444,\"#bd3786\"],[0.5555555555555556,\"#d8576b\"],[0.6666666666666666,\"#ed7953\"],[0.7777777777777778,\"#fb9f3a\"],[0.8888888888888888,\"#fdca26\"],[1.0,\"#f0f921\"]],\"type\":\"heatmapgl\"}],\"heatmap\":[{\"colorbar\":{\"outlinewidth\":0,\"ticks\":\"\"},\"colorscale\":[[0.0,\"#0d0887\"],[0.1111111111111111,\"#46039f\"],[0.2222222222222222,\"#7201a8\"],[0.3333333333333333,\"#9c179e\"],[0.4444444444444444,\"#bd3786\"],[0.5555555555555556,\"#d8576b\"],[0.6666666666666666,\"#ed7953\"],[0.7777777777777778,\"#fb9f3a\"],[0.8888888888888888,\"#fdca26\"],[1.0,\"#f0f921\"]],\"type\":\"heatmap\"}],\"histogram2dcontour\":[{\"colorbar\":{\"outlinewidth\":0,\"ticks\":\"\"},\"colorscale\":[[0.0,\"#0d0887\"],[0.1111111111111111,\"#46039f\"],[0.2222222222222222,\"#7201a8\"],[0.3333333333333333,\"#9c179e\"],[0.4444444444444444,\"#bd3786\"],[0.5555555555555556,\"#d8576b\"],[0.6666666666666666,\"#ed7953\"],[0.7777777777777778,\"#fb9f3a\"],[0.8888888888888888,\"#fdca26\"],[1.0,\"#f0f921\"]],\"type\":\"histogram2dcontour\"}],\"histogram2d\":[{\"colorbar\":{\"outlinewidth\":0,\"ticks\":\"\"},\"colorscale\":[[0.0,\"#0d0887\"],[0.1111111111111111,\"#46039f\"],[0.2222222222222222,\"#7201a8\"],[0.3333333333333333,\"#9c179e\"],[0.4444444444444444,\"#bd3786\"],[0.5555555555555556,\"#d8576b\"],[0.6666666666666666,\"#ed7953\"],[0.7777777777777778,\"#fb9f3a\"],[0.8888888888888888,\"#fdca26\"],[1.0,\"#f0f921\"]],\"type\":\"histogram2d\"}],\"histogram\":[{\"marker\":{\"pattern\":{\"fillmode\":\"overlay\",\"size\":10,\"solidity\":0.2}},\"type\":\"histogram\"}],\"mesh3d\":[{\"colorbar\":{\"outlinewidth\":0,\"ticks\":\"\"},\"type\":\"mesh3d\"}],\"parcoords\":[{\"line\":{\"colorbar\":{\"outlinewidth\":0,\"ticks\":\"\"}},\"type\":\"parcoords\"}],\"pie\":[{\"automargin\":true,\"type\":\"pie\"}],\"scatter3d\":[{\"line\":{\"colorbar\":{\"outlinewidth\":0,\"ticks\":\"\"}},\"marker\":{\"colorbar\":{\"outlinewidth\":0,\"ticks\":\"\"}},\"type\":\"scatter3d\"}],\"scattercarpet\":[{\"marker\":{\"colorbar\":{\"outlinewidth\":0,\"ticks\":\"\"}},\"type\":\"scattercarpet\"}],\"scattergeo\":[{\"marker\":{\"colorbar\":{\"outlinewidth\":0,\"ticks\":\"\"}},\"type\":\"scattergeo\"}],\"scattergl\":[{\"marker\":{\"colorbar\":{\"outlinewidth\":0,\"ticks\":\"\"}},\"type\":\"scattergl\"}],\"scattermapbox\":[{\"marker\":{\"colorbar\":{\"outlinewidth\":0,\"ticks\":\"\"}},\"type\":\"scattermapbox\"}],\"scatterpolargl\":[{\"marker\":{\"colorbar\":{\"outlinewidth\":0,\"ticks\":\"\"}},\"type\":\"scatterpolargl\"}],\"scatterpolar\":[{\"marker\":{\"colorbar\":{\"outlinewidth\":0,\"ticks\":\"\"}},\"type\":\"scatterpolar\"}],\"scatter\":[{\"fillpattern\":{\"fillmode\":\"overlay\",\"size\":10,\"solidity\":0.2},\"type\":\"scatter\"}],\"scatterternary\":[{\"marker\":{\"colorbar\":{\"outlinewidth\":0,\"ticks\":\"\"}},\"type\":\"scatterternary\"}],\"surface\":[{\"colorbar\":{\"outlinewidth\":0,\"ticks\":\"\"},\"colorscale\":[[0.0,\"#0d0887\"],[0.1111111111111111,\"#46039f\"],[0.2222222222222222,\"#7201a8\"],[0.3333333333333333,\"#9c179e\"],[0.4444444444444444,\"#bd3786\"],[0.5555555555555556,\"#d8576b\"],[0.6666666666666666,\"#ed7953\"],[0.7777777777777778,\"#fb9f3a\"],[0.8888888888888888,\"#fdca26\"],[1.0,\"#f0f921\"]],\"type\":\"surface\"}],\"table\":[{\"cells\":{\"fill\":{\"color\":\"#EBF0F8\"},\"line\":{\"color\":\"white\"}},\"header\":{\"fill\":{\"color\":\"#C8D4E3\"},\"line\":{\"color\":\"white\"}},\"type\":\"table\"}]},\"layout\":{\"annotationdefaults\":{\"arrowcolor\":\"#2a3f5f\",\"arrowhead\":0,\"arrowwidth\":1},\"autotypenumbers\":\"strict\",\"coloraxis\":{\"colorbar\":{\"outlinewidth\":0,\"ticks\":\"\"}},\"colorscale\":{\"diverging\":[[0,\"#8e0152\"],[0.1,\"#c51b7d\"],[0.2,\"#de77ae\"],[0.3,\"#f1b6da\"],[0.4,\"#fde0ef\"],[0.5,\"#f7f7f7\"],[0.6,\"#e6f5d0\"],[0.7,\"#b8e186\"],[0.8,\"#7fbc41\"],[0.9,\"#4d9221\"],[1,\"#276419\"]],\"sequential\":[[0.0,\"#0d0887\"],[0.1111111111111111,\"#46039f\"],[0.2222222222222222,\"#7201a8\"],[0.3333333333333333,\"#9c179e\"],[0.4444444444444444,\"#bd3786\"],[0.5555555555555556,\"#d8576b\"],[0.6666666666666666,\"#ed7953\"],[0.7777777777777778,\"#fb9f3a\"],[0.8888888888888888,\"#fdca26\"],[1.0,\"#f0f921\"]],\"sequentialminus\":[[0.0,\"#0d0887\"],[0.1111111111111111,\"#46039f\"],[0.2222222222222222,\"#7201a8\"],[0.3333333333333333,\"#9c179e\"],[0.4444444444444444,\"#bd3786\"],[0.5555555555555556,\"#d8576b\"],[0.6666666666666666,\"#ed7953\"],[0.7777777777777778,\"#fb9f3a\"],[0.8888888888888888,\"#fdca26\"],[1.0,\"#f0f921\"]]},\"colorway\":[\"#636efa\",\"#EF553B\",\"#00cc96\",\"#ab63fa\",\"#FFA15A\",\"#19d3f3\",\"#FF6692\",\"#B6E880\",\"#FF97FF\",\"#FECB52\"],\"font\":{\"color\":\"#2a3f5f\"},\"geo\":{\"bgcolor\":\"white\",\"lakecolor\":\"white\",\"landcolor\":\"white\",\"showlakes\":true,\"showland\":true,\"subunitcolor\":\"#C8D4E3\"},\"hoverlabel\":{\"align\":\"left\"},\"hovermode\":\"closest\",\"mapbox\":{\"style\":\"light\"},\"paper_bgcolor\":\"white\",\"plot_bgcolor\":\"white\",\"polar\":{\"angularaxis\":{\"gridcolor\":\"#EBF0F8\",\"linecolor\":\"#EBF0F8\",\"ticks\":\"\"},\"bgcolor\":\"white\",\"radialaxis\":{\"gridcolor\":\"#EBF0F8\",\"linecolor\":\"#EBF0F8\",\"ticks\":\"\"}},\"scene\":{\"xaxis\":{\"backgroundcolor\":\"white\",\"gridcolor\":\"#DFE8F3\",\"gridwidth\":2,\"linecolor\":\"#EBF0F8\",\"showbackground\":true,\"ticks\":\"\",\"zerolinecolor\":\"#EBF0F8\"},\"yaxis\":{\"backgroundcolor\":\"white\",\"gridcolor\":\"#DFE8F3\",\"gridwidth\":2,\"linecolor\":\"#EBF0F8\",\"showbackground\":true,\"ticks\":\"\",\"zerolinecolor\":\"#EBF0F8\"},\"zaxis\":{\"backgroundcolor\":\"white\",\"gridcolor\":\"#DFE8F3\",\"gridwidth\":2,\"linecolor\":\"#EBF0F8\",\"showbackground\":true,\"ticks\":\"\",\"zerolinecolor\":\"#EBF0F8\"}},\"shapedefaults\":{\"line\":{\"color\":\"#2a3f5f\"}},\"ternary\":{\"aaxis\":{\"gridcolor\":\"#DFE8F3\",\"linecolor\":\"#A2B1C6\",\"ticks\":\"\"},\"baxis\":{\"gridcolor\":\"#DFE8F3\",\"linecolor\":\"#A2B1C6\",\"ticks\":\"\"},\"bgcolor\":\"white\",\"caxis\":{\"gridcolor\":\"#DFE8F3\",\"linecolor\":\"#A2B1C6\",\"ticks\":\"\"}},\"title\":{\"x\":0.05},\"xaxis\":{\"automargin\":true,\"gridcolor\":\"#EBF0F8\",\"linecolor\":\"#EBF0F8\",\"ticks\":\"\",\"title\":{\"standoff\":15},\"zerolinecolor\":\"#EBF0F8\",\"zerolinewidth\":2},\"yaxis\":{\"automargin\":true,\"gridcolor\":\"#EBF0F8\",\"linecolor\":\"#EBF0F8\",\"ticks\":\"\",\"title\":{\"standoff\":15},\"zerolinecolor\":\"#EBF0F8\",\"zerolinewidth\":2}}},\"legend\":{\"tracegroupgap\":0},\"margin\":{\"t\":60},\"height\":1200,\"width\":1000},                        {\"responsive\": true}                    ).then(function(){\n",
       "                            \n",
       "var gd = document.getElementById('a45e8347-0db2-44e1-a263-ab18c1fd5013');\n",
       "var x = new MutationObserver(function (mutations, observer) {{\n",
       "        var display = window.getComputedStyle(gd).display;\n",
       "        if (!display || display === 'none') {{\n",
       "            console.log([gd, 'removed!']);\n",
       "            Plotly.purge(gd);\n",
       "            observer.disconnect();\n",
       "        }}\n",
       "}});\n",
       "\n",
       "// Listen for the removal of the full notebook cells\n",
       "var notebookContainer = gd.closest('#notebook-container');\n",
       "if (notebookContainer) {{\n",
       "    x.observe(notebookContainer, {childList: true});\n",
       "}}\n",
       "\n",
       "// Listen for the clearing of the current output cell\n",
       "var outputEl = gd.closest('.output');\n",
       "if (outputEl) {{\n",
       "    x.observe(outputEl, {childList: true});\n",
       "}}\n",
       "\n",
       "                        })                };                });            </script>        </div>"
      ]
     },
     "metadata": {},
     "output_type": "display_data"
    }
   ],
   "source": [
    "fig2 = px.treemap(df_pilot, path = [px.Constant('HE student enrolments by domicile and region of HE provider in the UK (AY: 21/22)'),'Domicile', 'Mode of study', 'Region of HE provider'], values = 'Number',\n",
    "                 width=1000,height=1200, template = 'plotly_white',\n",
    "                \n",
    "                 )\n",
    "fig2.data[0].textinfo = 'label+text+value'\n",
    "fig2.data[0].hovertemplate = 'Label: %{label}<br>Number: %{value}<br>Parent: %{parent}<br>Id: %{id}<extra></extra>'\n",
    "fig2.show()"
   ]
  },
  {
   "cell_type": "code",
   "execution_count": null,
   "id": "b71c8fa9",
   "metadata": {},
   "outputs": [],
   "source": []
  }
 ],
 "metadata": {
  "kernelspec": {
   "display_name": "Python 3 (ipykernel)",
   "language": "python",
   "name": "python3"
  },
  "language_info": {
   "codemirror_mode": {
    "name": "ipython",
    "version": 3
   },
   "file_extension": ".py",
   "mimetype": "text/x-python",
   "name": "python",
   "nbconvert_exporter": "python",
   "pygments_lexer": "ipython3",
   "version": "3.9.13"
  }
 },
 "nbformat": 4,
 "nbformat_minor": 5
}
